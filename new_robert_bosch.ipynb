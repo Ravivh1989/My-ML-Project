{
 "cells": [
  {
   "cell_type": "code",
   "execution_count": 2,
   "id": "municipal-acoustic",
   "metadata": {},
   "outputs": [],
   "source": [
    "import numpy as np\n",
    "import pandas as pd\n",
    "import matplotlib.pyplot as plt\n",
    "import seaborn as sns\n",
    "\n",
    "df = pd.read_excel('NEWAug-2017-Aug-2019.xlsx', engine = 'openpyxl', nrows = 50000)"
   ]
  },
  {
   "cell_type": "code",
   "execution_count": 3,
   "id": "fantastic-layout",
   "metadata": {},
   "outputs": [
    {
     "data": {
      "text/html": [
       "<div>\n",
       "<style scoped>\n",
       "    .dataframe tbody tr th:only-of-type {\n",
       "        vertical-align: middle;\n",
       "    }\n",
       "\n",
       "    .dataframe tbody tr th {\n",
       "        vertical-align: top;\n",
       "    }\n",
       "\n",
       "    .dataframe thead th {\n",
       "        text-align: right;\n",
       "    }\n",
       "</style>\n",
       "<table border=\"1\" class=\"dataframe\">\n",
       "  <thead>\n",
       "    <tr style=\"text-align: right;\">\n",
       "      <th></th>\n",
       "      <th>INCIDENT_NUMBER</th>\n",
       "      <th>DESCRIPTION</th>\n",
       "      <th>SERVICE</th>\n",
       "      <th>PRIORITY</th>\n",
       "      <th>MASTER_INCIDENT_NUMBER</th>\n",
       "      <th>REPORTED_DATE_GMT</th>\n",
       "      <th>OPERATIONAL_CATEGORY_TIER_1</th>\n",
       "      <th>ASSIGNED_SUPPORT_GROUP</th>\n",
       "      <th>LAST_SOLVED_DATE_GMT</th>\n",
       "      <th>DETAILED_DECRIPTION</th>\n",
       "      <th>RESOLUTION</th>\n",
       "    </tr>\n",
       "  </thead>\n",
       "  <tbody>\n",
       "    <tr>\n",
       "      <th>0</th>\n",
       "      <td>INC000016479136</td>\n",
       "      <td>Aftermarket Application</td>\n",
       "      <td>AANA-RP-RMV</td>\n",
       "      <td>Low</td>\n",
       "      <td>NaN</td>\n",
       "      <td>19-JUL-19</td>\n",
       "      <td>Failure</td>\n",
       "      <td>Distribution Warehouse Management - RBEI</td>\n",
       "      <td>22-JUL-19</td>\n",
       "      <td>CAL1/120/Simple/Data_Base_Issue\\nProblem - DLx...</td>\n",
       "      <td>D - Released work is going into work assignmen...</td>\n",
       "    </tr>\n",
       "    <tr>\n",
       "      <th>1</th>\n",
       "      <td>INC000016480371</td>\n",
       "      <td>Power Tools DLx</td>\n",
       "      <td>PTNA-RP-WEM</td>\n",
       "      <td>Low</td>\n",
       "      <td>NaN</td>\n",
       "      <td>19-JUL-19</td>\n",
       "      <td>Failure</td>\n",
       "      <td>Distribution Warehouse Management - RBEI</td>\n",
       "      <td>22-JUL-19</td>\n",
       "      <td>CAL1/120/Simple/Manifest\\nProblem with DLx - O...</td>\n",
       "      <td>D - 0113776884 1 box for order manifested and ...</td>\n",
       "    </tr>\n",
       "    <tr>\n",
       "      <th>2</th>\n",
       "      <td>INC000016480382</td>\n",
       "      <td>Aftermarket Application</td>\n",
       "      <td>AANA-RP-RMV</td>\n",
       "      <td>Low</td>\n",
       "      <td>NaN</td>\n",
       "      <td>19-JUL-19</td>\n",
       "      <td>Failure</td>\n",
       "      <td>Distribution Warehouse Management - RBEI</td>\n",
       "      <td>22-JUL-19</td>\n",
       "      <td>CAL1/120/Simple/Shipping\\nProblem - DLx/WMS AA...</td>\n",
       "      <td>D - Order number 495114 throws an error messag...</td>\n",
       "    </tr>\n",
       "    <tr>\n",
       "      <th>3</th>\n",
       "      <td>INC000016480392</td>\n",
       "      <td>Aftermarket Application</td>\n",
       "      <td>AANA-RP-ATL</td>\n",
       "      <td>Low</td>\n",
       "      <td>NaN</td>\n",
       "      <td>19-JUL-19</td>\n",
       "      <td>Failure</td>\n",
       "      <td>Distribution Warehouse Management - RBEI</td>\n",
       "      <td>22-JUL-19</td>\n",
       "      <td>DUA1/180/Simple/WO\\nProblem - DLx/WMS POD C - ...</td>\n",
       "      <td>D- Problem - DLx/WMS POD C - Order # 1578209 w...</td>\n",
       "    </tr>\n",
       "    <tr>\n",
       "      <th>4</th>\n",
       "      <td>INC000016489059</td>\n",
       "      <td>UC4-Failure; EUP7-1401: Job-Failure 1915068588...</td>\n",
       "      <td>PRA-SALES-AND-DISTRIBUTION</td>\n",
       "      <td>Low</td>\n",
       "      <td>NaN</td>\n",
       "      <td>22-JUL-19</td>\n",
       "      <td>Failure</td>\n",
       "      <td>SD - EXT RBEI</td>\n",
       "      <td>22-JUL-19</td>\n",
       "      <td>HMB2/90/Simple\\nFor Recovery actions please ra...</td>\n",
       "      <td>P: Job DC_US10_SD10148_RBR1_A_PPIF_DOCU failed...</td>\n",
       "    </tr>\n",
       "  </tbody>\n",
       "</table>\n",
       "</div>"
      ],
      "text/plain": [
       "   INCIDENT_NUMBER                                        DESCRIPTION  \\\n",
       "0  INC000016479136                            Aftermarket Application   \n",
       "1  INC000016480371                                    Power Tools DLx   \n",
       "2  INC000016480382                            Aftermarket Application   \n",
       "3  INC000016480392                            Aftermarket Application   \n",
       "4  INC000016489059  UC4-Failure; EUP7-1401: Job-Failure 1915068588...   \n",
       "\n",
       "                      SERVICE PRIORITY MASTER_INCIDENT_NUMBER  \\\n",
       "0                 AANA-RP-RMV      Low                    NaN   \n",
       "1                 PTNA-RP-WEM      Low                    NaN   \n",
       "2                 AANA-RP-RMV      Low                    NaN   \n",
       "3                 AANA-RP-ATL      Low                    NaN   \n",
       "4  PRA-SALES-AND-DISTRIBUTION      Low                    NaN   \n",
       "\n",
       "  REPORTED_DATE_GMT OPERATIONAL_CATEGORY_TIER_1  \\\n",
       "0         19-JUL-19                     Failure   \n",
       "1         19-JUL-19                     Failure   \n",
       "2         19-JUL-19                     Failure   \n",
       "3         19-JUL-19                     Failure   \n",
       "4         22-JUL-19                     Failure   \n",
       "\n",
       "                     ASSIGNED_SUPPORT_GROUP LAST_SOLVED_DATE_GMT  \\\n",
       "0  Distribution Warehouse Management - RBEI            22-JUL-19   \n",
       "1  Distribution Warehouse Management - RBEI            22-JUL-19   \n",
       "2  Distribution Warehouse Management - RBEI            22-JUL-19   \n",
       "3  Distribution Warehouse Management - RBEI            22-JUL-19   \n",
       "4                             SD - EXT RBEI            22-JUL-19   \n",
       "\n",
       "                                 DETAILED_DECRIPTION  \\\n",
       "0  CAL1/120/Simple/Data_Base_Issue\\nProblem - DLx...   \n",
       "1  CAL1/120/Simple/Manifest\\nProblem with DLx - O...   \n",
       "2  CAL1/120/Simple/Shipping\\nProblem - DLx/WMS AA...   \n",
       "3  DUA1/180/Simple/WO\\nProblem - DLx/WMS POD C - ...   \n",
       "4  HMB2/90/Simple\\nFor Recovery actions please ra...   \n",
       "\n",
       "                                          RESOLUTION  \n",
       "0  D - Released work is going into work assignmen...  \n",
       "1  D - 0113776884 1 box for order manifested and ...  \n",
       "2  D - Order number 495114 throws an error messag...  \n",
       "3  D- Problem - DLx/WMS POD C - Order # 1578209 w...  \n",
       "4  P: Job DC_US10_SD10148_RBR1_A_PPIF_DOCU failed...  "
      ]
     },
     "execution_count": 3,
     "metadata": {},
     "output_type": "execute_result"
    }
   ],
   "source": [
    "df.head()"
   ]
  },
  {
   "cell_type": "code",
   "execution_count": 5,
   "id": "alive-vision",
   "metadata": {},
   "outputs": [
    {
     "data": {
      "text/plain": [
       "(50000, 11)"
      ]
     },
     "execution_count": 5,
     "metadata": {},
     "output_type": "execute_result"
    }
   ],
   "source": [
    "df.shape"
   ]
  },
  {
   "cell_type": "code",
   "execution_count": 4,
   "id": "convenient-cholesterol",
   "metadata": {},
   "outputs": [
    {
     "data": {
      "text/plain": [
       "INCIDENT_NUMBER                    0\n",
       "DESCRIPTION                        0\n",
       "SERVICE                            0\n",
       "PRIORITY                           0\n",
       "MASTER_INCIDENT_NUMBER         47199\n",
       "REPORTED_DATE_GMT                  0\n",
       "OPERATIONAL_CATEGORY_TIER_1        0\n",
       "ASSIGNED_SUPPORT_GROUP             0\n",
       "LAST_SOLVED_DATE_GMT               0\n",
       "DETAILED_DECRIPTION                0\n",
       "RESOLUTION                         0\n",
       "dtype: int64"
      ]
     },
     "execution_count": 4,
     "metadata": {},
     "output_type": "execute_result"
    }
   ],
   "source": [
    "df.isnull().sum()"
   ]
  },
  {
   "cell_type": "code",
   "execution_count": 7,
   "id": "adult-jimmy",
   "metadata": {},
   "outputs": [
    {
     "data": {
      "text/plain": [
       "BONAPARTE-SIMPLIFY                        6012\n",
       "I-COCKPIT                                 1883\n",
       "PM7-ACCOUNTS-PAYABLE-MONITOR              1358\n",
       "PC4-ACCOUNTING-FINANCIALS                 1317\n",
       "MY-IBUY-VCM                                887\n",
       "                                          ... \n",
       "PPT-SALES-INVOICE                            1\n",
       "PAD-PRODUCTION-PLANNING                      1\n",
       "PIS-CI-REP-DEFECT                            1\n",
       "SCCM PACKAGE INSTALLATION FAILURE |GN1       1\n",
       "EBUSINESS-AT-REXROTH-ORDERINFORMATION        1\n",
       "Name: SERVICE, Length: 1140, dtype: int64"
      ]
     },
     "execution_count": 7,
     "metadata": {},
     "output_type": "execute_result"
    }
   ],
   "source": [
    "df[\"SERVICE\"].value_counts()"
   ]
  },
  {
   "cell_type": "code",
   "execution_count": 9,
   "id": "employed-emerald",
   "metadata": {},
   "outputs": [],
   "source": [
    "from langdetect import detect\n",
    "\n",
    "df['Language'] = df[\"DETAILED_DECRIPTION\"].apply(lambda x : detect(x))"
   ]
  },
  {
   "cell_type": "code",
   "execution_count": 11,
   "id": "suitable-justice",
   "metadata": {},
   "outputs": [
    {
     "data": {
      "text/plain": [
       "en       41720\n",
       "de        7203\n",
       "pt         776\n",
       "es          73\n",
       "fr          44\n",
       "hu          44\n",
       "cs          31\n",
       "it          28\n",
       "tl          27\n",
       "nl          13\n",
       "ja          13\n",
       "ro           7\n",
       "ca           5\n",
       "sv           3\n",
       "da           3\n",
       "tr           3\n",
       "pl           2\n",
       "af           2\n",
       "et           1\n",
       "zh-cn        1\n",
       "vi           1\n",
       "Name: Language, dtype: int64"
      ]
     },
     "execution_count": 11,
     "metadata": {},
     "output_type": "execute_result"
    }
   ],
   "source": [
    "df.Language.value_counts()"
   ]
  },
  {
   "cell_type": "code",
   "execution_count": 12,
   "id": "hispanic-scottish",
   "metadata": {},
   "outputs": [],
   "source": [
    "new_df = df[['DETAILED_DECRIPTION', 'Language']]"
   ]
  },
  {
   "cell_type": "code",
   "execution_count": 17,
   "id": "dominican-asset",
   "metadata": {},
   "outputs": [
    {
     "data": {
      "text/html": [
       "<div>\n",
       "<style scoped>\n",
       "    .dataframe tbody tr th:only-of-type {\n",
       "        vertical-align: middle;\n",
       "    }\n",
       "\n",
       "    .dataframe tbody tr th {\n",
       "        vertical-align: top;\n",
       "    }\n",
       "\n",
       "    .dataframe thead th {\n",
       "        text-align: right;\n",
       "    }\n",
       "</style>\n",
       "<table border=\"1\" class=\"dataframe\">\n",
       "  <thead>\n",
       "    <tr style=\"text-align: right;\">\n",
       "      <th></th>\n",
       "      <th>DETAILED_DECRIPTION</th>\n",
       "      <th>Language</th>\n",
       "    </tr>\n",
       "  </thead>\n",
       "  <tbody>\n",
       "    <tr>\n",
       "      <th>49970</th>\n",
       "      <td>PMT/180/Simple//SDBR/PO issue;\\n\\nQ: Has the r...</td>\n",
       "      <td>en</td>\n",
       "    </tr>\n",
       "    <tr>\n",
       "      <th>49971</th>\n",
       "      <td>I: CI-HOTLINE: Please answer all questions.\\n-...</td>\n",
       "      <td>en</td>\n",
       "    </tr>\n",
       "    <tr>\n",
       "      <th>49972</th>\n",
       "      <td>WM28/300/SIMPLE/MD04 EKES Correction;\\n\\nHello...</td>\n",
       "      <td>en</td>\n",
       "    </tr>\n",
       "    <tr>\n",
       "      <th>49973</th>\n",
       "      <td>PMT/180/Simple/SDBR/SC approval issue;\\n\\nHall...</td>\n",
       "      <td>en</td>\n",
       "    </tr>\n",
       "    <tr>\n",
       "      <th>49974</th>\n",
       "      <td>SGU7/120/Simple/Job failure;Hello Team,\\n\\nThe...</td>\n",
       "      <td>en</td>\n",
       "    </tr>\n",
       "    <tr>\n",
       "      <th>49975</th>\n",
       "      <td>I: CI-HOTLINE: Please answer all questions.\\n-...</td>\n",
       "      <td>en</td>\n",
       "    </tr>\n",
       "    <tr>\n",
       "      <th>49976</th>\n",
       "      <td>RAY/200/Simple/PO error;\\nDear team,\\n\\nPO num...</td>\n",
       "      <td>en</td>\n",
       "    </tr>\n",
       "    <tr>\n",
       "      <th>49977</th>\n",
       "      <td>RDG/200/SIMPLE/SDBR/MASTER DATA;\\nF: Welche Bo...</td>\n",
       "      <td>de</td>\n",
       "    </tr>\n",
       "    <tr>\n",
       "      <th>49978</th>\n",
       "      <td>WM06/200/simple/Job failure in POE;\\nFor Recov...</td>\n",
       "      <td>de</td>\n",
       "    </tr>\n",
       "    <tr>\n",
       "      <th>49979</th>\n",
       "      <td>IIB/150/simple/SDBR/ Shopping cart Status\\n\\nH...</td>\n",
       "      <td>en</td>\n",
       "    </tr>\n",
       "    <tr>\n",
       "      <th>49980</th>\n",
       "      <td>RAY/200/Simple/SDBR/Master Data - Vendor;\\n\\nA...</td>\n",
       "      <td>en</td>\n",
       "    </tr>\n",
       "    <tr>\n",
       "      <th>49981</th>\n",
       "      <td>CI-Hotline: PLEASE TRANSLATE ALL ANSWERS AND O...</td>\n",
       "      <td>en</td>\n",
       "    </tr>\n",
       "    <tr>\n",
       "      <th>49982</th>\n",
       "      <td>WM06/200/Simple/Job failure in P81;\\nFor Recov...</td>\n",
       "      <td>de</td>\n",
       "    </tr>\n",
       "    <tr>\n",
       "      <th>49983</th>\n",
       "      <td>I: CI-HOTLINE: Please answer all questions.\\n-...</td>\n",
       "      <td>de</td>\n",
       "    </tr>\n",
       "    <tr>\n",
       "      <th>49984</th>\n",
       "      <td>I: CI-HOTLINE:  IN CASE OF HIGH OR CRITCIAL FA...</td>\n",
       "      <td>en</td>\n",
       "    </tr>\n",
       "    <tr>\n",
       "      <th>49985</th>\n",
       "      <td>NAY/180/1/User is unable to process approving ...</td>\n",
       "      <td>en</td>\n",
       "    </tr>\n",
       "    <tr>\n",
       "      <th>49986</th>\n",
       "      <td>WM31/180/Simple/Job fail in P81\\nFor Recovery ...</td>\n",
       "      <td>de</td>\n",
       "    </tr>\n",
       "    <tr>\n",
       "      <th>49987</th>\n",
       "      <td>PNN/180/Simple/SDBR/Approver selection;\\n\\n\\nH...</td>\n",
       "      <td>en</td>\n",
       "    </tr>\n",
       "    <tr>\n",
       "      <th>49988</th>\n",
       "      <td>SRT/60/1/UC4 job failure/P13;\\nFor Recovery ac...</td>\n",
       "      <td>en</td>\n",
       "    </tr>\n",
       "    <tr>\n",
       "      <th>49989</th>\n",
       "      <td>Ihre E-Mail Anfrage ist in das Ticketsystem üb...</td>\n",
       "      <td>en</td>\n",
       "    </tr>\n",
       "    <tr>\n",
       "      <th>49990</th>\n",
       "      <td>VUA5/180/Simple/ABAP dumpin CJ20n issue -N/A-U...</td>\n",
       "      <td>de</td>\n",
       "    </tr>\n",
       "    <tr>\n",
       "      <th>49991</th>\n",
       "      <td>The MobCom PXT is not sychronizing. SO doesn't...</td>\n",
       "      <td>en</td>\n",
       "    </tr>\n",
       "    <tr>\n",
       "      <th>49992</th>\n",
       "      <td>I: CI-HOTLINE: Please answer all questions.\\n-...</td>\n",
       "      <td>en</td>\n",
       "    </tr>\n",
       "    <tr>\n",
       "      <th>49993</th>\n",
       "      <td>Ihre E-Mail Anfrage ist in das Ticketsystem üb...</td>\n",
       "      <td>en</td>\n",
       "    </tr>\n",
       "    <tr>\n",
       "      <th>49994</th>\n",
       "      <td>User CRC6FE hat keinen Zugriff auf Picos (Eink...</td>\n",
       "      <td>de</td>\n",
       "    </tr>\n",
       "    <tr>\n",
       "      <th>49995</th>\n",
       "      <td>PVI7/300/Medium/Unable to export files;\\nCI-Ho...</td>\n",
       "      <td>en</td>\n",
       "    </tr>\n",
       "    <tr>\n",
       "      <th>49996</th>\n",
       "      <td>RNV8 / 60 ;\\n\\nIhre E-Mail Anfrage ist in das ...</td>\n",
       "      <td>de</td>\n",
       "    </tr>\n",
       "    <tr>\n",
       "      <th>49997</th>\n",
       "      <td>We run 8D-Statusreport in PIS on 26th of Octob...</td>\n",
       "      <td>en</td>\n",
       "    </tr>\n",
       "    <tr>\n",
       "      <th>49998</th>\n",
       "      <td>We complaint open 8D by Sponsor.\\n\\nbut for QC...</td>\n",
       "      <td>en</td>\n",
       "    </tr>\n",
       "    <tr>\n",
       "      <th>49999</th>\n",
       "      <td>RAY/200/Simple/SDBR/PO deletion;\\nnot able to ...</td>\n",
       "      <td>en</td>\n",
       "    </tr>\n",
       "  </tbody>\n",
       "</table>\n",
       "</div>"
      ],
      "text/plain": [
       "                                     DETAILED_DECRIPTION Language\n",
       "49970  PMT/180/Simple//SDBR/PO issue;\\n\\nQ: Has the r...       en\n",
       "49971  I: CI-HOTLINE: Please answer all questions.\\n-...       en\n",
       "49972  WM28/300/SIMPLE/MD04 EKES Correction;\\n\\nHello...       en\n",
       "49973  PMT/180/Simple/SDBR/SC approval issue;\\n\\nHall...       en\n",
       "49974  SGU7/120/Simple/Job failure;Hello Team,\\n\\nThe...       en\n",
       "49975  I: CI-HOTLINE: Please answer all questions.\\n-...       en\n",
       "49976  RAY/200/Simple/PO error;\\nDear team,\\n\\nPO num...       en\n",
       "49977  RDG/200/SIMPLE/SDBR/MASTER DATA;\\nF: Welche Bo...       de\n",
       "49978  WM06/200/simple/Job failure in POE;\\nFor Recov...       de\n",
       "49979  IIB/150/simple/SDBR/ Shopping cart Status\\n\\nH...       en\n",
       "49980  RAY/200/Simple/SDBR/Master Data - Vendor;\\n\\nA...       en\n",
       "49981  CI-Hotline: PLEASE TRANSLATE ALL ANSWERS AND O...       en\n",
       "49982  WM06/200/Simple/Job failure in P81;\\nFor Recov...       de\n",
       "49983  I: CI-HOTLINE: Please answer all questions.\\n-...       de\n",
       "49984  I: CI-HOTLINE:  IN CASE OF HIGH OR CRITCIAL FA...       en\n",
       "49985  NAY/180/1/User is unable to process approving ...       en\n",
       "49986  WM31/180/Simple/Job fail in P81\\nFor Recovery ...       de\n",
       "49987  PNN/180/Simple/SDBR/Approver selection;\\n\\n\\nH...       en\n",
       "49988  SRT/60/1/UC4 job failure/P13;\\nFor Recovery ac...       en\n",
       "49989  Ihre E-Mail Anfrage ist in das Ticketsystem üb...       en\n",
       "49990  VUA5/180/Simple/ABAP dumpin CJ20n issue -N/A-U...       de\n",
       "49991  The MobCom PXT is not sychronizing. SO doesn't...       en\n",
       "49992  I: CI-HOTLINE: Please answer all questions.\\n-...       en\n",
       "49993  Ihre E-Mail Anfrage ist in das Ticketsystem üb...       en\n",
       "49994  User CRC6FE hat keinen Zugriff auf Picos (Eink...       de\n",
       "49995  PVI7/300/Medium/Unable to export files;\\nCI-Ho...       en\n",
       "49996  RNV8 / 60 ;\\n\\nIhre E-Mail Anfrage ist in das ...       de\n",
       "49997  We run 8D-Statusreport in PIS on 26th of Octob...       en\n",
       "49998  We complaint open 8D by Sponsor.\\n\\nbut for QC...       en\n",
       "49999  RAY/200/Simple/SDBR/PO deletion;\\nnot able to ...       en"
      ]
     },
     "execution_count": 17,
     "metadata": {},
     "output_type": "execute_result"
    }
   ],
   "source": [
    "new_df.tail(30)"
   ]
  },
  {
   "cell_type": "code",
   "execution_count": 19,
   "id": "level-politics",
   "metadata": {},
   "outputs": [],
   "source": [
    "df_en = df.loc[df.Language == 'en', :]\n",
    "df_de = df.loc[df.Language == 'de', :]\n",
    "df_pt = df.loc[df.Language == 'pt', :]"
   ]
  },
  {
   "cell_type": "code",
   "execution_count": 23,
   "id": "cheap-breach",
   "metadata": {},
   "outputs": [],
   "source": [
    "df_en.reset_index(inplace = True, drop=True)\n",
    "df_de.reset_index(inplace = True, drop=True)\n",
    "df_pt.reset_index(inplace = True, drop=True)"
   ]
  },
  {
   "cell_type": "code",
   "execution_count": 25,
   "id": "indirect-watts",
   "metadata": {},
   "outputs": [
    {
     "data": {
      "text/html": [
       "<div>\n",
       "<style scoped>\n",
       "    .dataframe tbody tr th:only-of-type {\n",
       "        vertical-align: middle;\n",
       "    }\n",
       "\n",
       "    .dataframe tbody tr th {\n",
       "        vertical-align: top;\n",
       "    }\n",
       "\n",
       "    .dataframe thead th {\n",
       "        text-align: right;\n",
       "    }\n",
       "</style>\n",
       "<table border=\"1\" class=\"dataframe\">\n",
       "  <thead>\n",
       "    <tr style=\"text-align: right;\">\n",
       "      <th></th>\n",
       "      <th>INCIDENT_NUMBER</th>\n",
       "      <th>DESCRIPTION</th>\n",
       "      <th>SERVICE</th>\n",
       "      <th>PRIORITY</th>\n",
       "      <th>MASTER_INCIDENT_NUMBER</th>\n",
       "      <th>REPORTED_DATE_GMT</th>\n",
       "      <th>OPERATIONAL_CATEGORY_TIER_1</th>\n",
       "      <th>ASSIGNED_SUPPORT_GROUP</th>\n",
       "      <th>LAST_SOLVED_DATE_GMT</th>\n",
       "      <th>DETAILED_DECRIPTION</th>\n",
       "      <th>RESOLUTION</th>\n",
       "      <th>Language</th>\n",
       "    </tr>\n",
       "  </thead>\n",
       "  <tbody>\n",
       "    <tr>\n",
       "      <th>0</th>\n",
       "      <td>INC000016473565</td>\n",
       "      <td>UC4-Failure; EUP6-1001: Job-Failure 0094856500...</td>\n",
       "      <td>PPT-PRODUCTION-PLANNING</td>\n",
       "      <td>Low</td>\n",
       "      <td>NaN</td>\n",
       "      <td>18-JUL-19</td>\n",
       "      <td>Failure</td>\n",
       "      <td>Manufacturing and Quality - RBEI</td>\n",
       "      <td>22-JUL-19</td>\n",
       "      <td>MAJ2/120/Simple/SDBN-Job Failure-Restarted;\\t\\...</td>\n",
       "      <td>D: UC4 job failure\\n\\nJob failed on 15/07/2019...</td>\n",
       "      <td>de</td>\n",
       "    </tr>\n",
       "    <tr>\n",
       "      <th>1</th>\n",
       "      <td>INC000016464387</td>\n",
       "      <td>PBE: web report</td>\n",
       "      <td>PBE-BW</td>\n",
       "      <td>Low</td>\n",
       "      <td>INC000016473832</td>\n",
       "      <td>17-JUL-19</td>\n",
       "      <td>Failure</td>\n",
       "      <td>BI IDC - RBEI</td>\n",
       "      <td>22-JUL-19</td>\n",
       "      <td>F: Was ist Ihre SAP-User-ID? \\nTHD6KA\\n\\nF: Au...</td>\n",
       "      <td>P: Web reports not working\\n\\nU: Due to expire...</td>\n",
       "      <td>de</td>\n",
       "    </tr>\n",
       "    <tr>\n",
       "      <th>2</th>\n",
       "      <td>INC000016481235</td>\n",
       "      <td>UC4-Failure; EUP6-1001: Job-Failure 0101598104...</td>\n",
       "      <td>P13-SALES-AND-DISTRIBUTION</td>\n",
       "      <td>Low</td>\n",
       "      <td>NaN</td>\n",
       "      <td>21-JUL-19</td>\n",
       "      <td>Failure</td>\n",
       "      <td>SD - RBEI</td>\n",
       "      <td>22-JUL-19</td>\n",
       "      <td>SGU7/200/Simple/Job failure; For Recovery acti...</td>\n",
       "      <td>P: Issue reported in the ticket is that the MX...</td>\n",
       "      <td>de</td>\n",
       "    </tr>\n",
       "    <tr>\n",
       "      <th>3</th>\n",
       "      <td>INC000016481275</td>\n",
       "      <td>UC4-Failure; EUP7-1101: Job-Failure 1913553865...</td>\n",
       "      <td>PC4-ACCOUNTING-FINANCIALS</td>\n",
       "      <td>Low</td>\n",
       "      <td>NaN</td>\n",
       "      <td>22-JUL-19</td>\n",
       "      <td>Failure</td>\n",
       "      <td>Accounting Financials - RBEI</td>\n",
       "      <td>22-JUL-19</td>\n",
       "      <td>RYU/120/1/UC4-Failure/PC4;\\n\\n\\nFor Recovery a...</td>\n",
       "      <td>P: UC4 job failed, system PC4\\nU: Job failed f...</td>\n",
       "      <td>de</td>\n",
       "    </tr>\n",
       "    <tr>\n",
       "      <th>4</th>\n",
       "      <td>INC000016485058</td>\n",
       "      <td>BANF lauft nicht an der Genehmigen - BANF is n...</td>\n",
       "      <td>P81-PURCHASING-AND-PROCUREMENT</td>\n",
       "      <td>Low</td>\n",
       "      <td>NaN</td>\n",
       "      <td>22-JUL-19</td>\n",
       "      <td>Failure</td>\n",
       "      <td>Procurement – RBEI – EXT</td>\n",
       "      <td>22-JUL-19</td>\n",
       "      <td>VSE3/120/Simple/SDBR/PR not released\\n\\n\\nCI-H...</td>\n",
       "      <td>P : PR not released;   \\n\\nU : Upon checking t...</td>\n",
       "      <td>de</td>\n",
       "    </tr>\n",
       "  </tbody>\n",
       "</table>\n",
       "</div>"
      ],
      "text/plain": [
       "   INCIDENT_NUMBER                                        DESCRIPTION  \\\n",
       "0  INC000016473565  UC4-Failure; EUP6-1001: Job-Failure 0094856500...   \n",
       "1  INC000016464387                                    PBE: web report   \n",
       "2  INC000016481235  UC4-Failure; EUP6-1001: Job-Failure 0101598104...   \n",
       "3  INC000016481275  UC4-Failure; EUP7-1101: Job-Failure 1913553865...   \n",
       "4  INC000016485058  BANF lauft nicht an der Genehmigen - BANF is n...   \n",
       "\n",
       "                          SERVICE PRIORITY MASTER_INCIDENT_NUMBER  \\\n",
       "0         PPT-PRODUCTION-PLANNING      Low                    NaN   \n",
       "1                          PBE-BW      Low        INC000016473832   \n",
       "2      P13-SALES-AND-DISTRIBUTION      Low                    NaN   \n",
       "3       PC4-ACCOUNTING-FINANCIALS      Low                    NaN   \n",
       "4  P81-PURCHASING-AND-PROCUREMENT      Low                    NaN   \n",
       "\n",
       "  REPORTED_DATE_GMT OPERATIONAL_CATEGORY_TIER_1  \\\n",
       "0         18-JUL-19                     Failure   \n",
       "1         17-JUL-19                     Failure   \n",
       "2         21-JUL-19                     Failure   \n",
       "3         22-JUL-19                     Failure   \n",
       "4         22-JUL-19                     Failure   \n",
       "\n",
       "             ASSIGNED_SUPPORT_GROUP LAST_SOLVED_DATE_GMT  \\\n",
       "0  Manufacturing and Quality - RBEI            22-JUL-19   \n",
       "1                     BI IDC - RBEI            22-JUL-19   \n",
       "2                         SD - RBEI            22-JUL-19   \n",
       "3      Accounting Financials - RBEI            22-JUL-19   \n",
       "4          Procurement – RBEI – EXT            22-JUL-19   \n",
       "\n",
       "                                 DETAILED_DECRIPTION  \\\n",
       "0  MAJ2/120/Simple/SDBN-Job Failure-Restarted;\\t\\...   \n",
       "1  F: Was ist Ihre SAP-User-ID? \\nTHD6KA\\n\\nF: Au...   \n",
       "2  SGU7/200/Simple/Job failure; For Recovery acti...   \n",
       "3  RYU/120/1/UC4-Failure/PC4;\\n\\n\\nFor Recovery a...   \n",
       "4  VSE3/120/Simple/SDBR/PR not released\\n\\n\\nCI-H...   \n",
       "\n",
       "                                          RESOLUTION Language  \n",
       "0  D: UC4 job failure\\n\\nJob failed on 15/07/2019...       de  \n",
       "1  P: Web reports not working\\n\\nU: Due to expire...       de  \n",
       "2  P: Issue reported in the ticket is that the MX...       de  \n",
       "3  P: UC4 job failed, system PC4\\nU: Job failed f...       de  \n",
       "4  P : PR not released;   \\n\\nU : Upon checking t...       de  "
      ]
     },
     "execution_count": 25,
     "metadata": {},
     "output_type": "execute_result"
    }
   ],
   "source": [
    "df_de.head()"
   ]
  },
  {
   "cell_type": "markdown",
   "id": "gothic-cooking",
   "metadata": {},
   "source": [
    "### Remove punctuation\n",
    "### Lowercase the data\n",
    "### Remove the StopWords\n",
    "### Lemmatization\n",
    "### Tokenatization - Tfidf"
   ]
  },
  {
   "cell_type": "code",
   "execution_count": 28,
   "id": "controlling-particle",
   "metadata": {},
   "outputs": [
    {
     "name": "stderr",
     "output_type": "stream",
     "text": [
      "<ipython-input-28-79b1cdf80404>:3: SettingWithCopyWarning: \n",
      "A value is trying to be set on a copy of a slice from a DataFrame.\n",
      "Try using .loc[row_indexer,col_indexer] = value instead\n",
      "\n",
      "See the caveats in the documentation: https://pandas.pydata.org/pandas-docs/stable/user_guide/indexing.html#returning-a-view-versus-a-copy\n",
      "  df_en[\"DETAILED_DECRIPTION\"] = df_en[\"DETAILED_DECRIPTION\"].apply(lambda x: ''.join([i for i in x if i not in string.punctuation]))\n",
      "<ipython-input-28-79b1cdf80404>:4: SettingWithCopyWarning: \n",
      "A value is trying to be set on a copy of a slice from a DataFrame.\n",
      "Try using .loc[row_indexer,col_indexer] = value instead\n",
      "\n",
      "See the caveats in the documentation: https://pandas.pydata.org/pandas-docs/stable/user_guide/indexing.html#returning-a-view-versus-a-copy\n",
      "  df_de[\"DETAILED_DECRIPTION\"] = df_de[\"DETAILED_DECRIPTION\"].apply(lambda x: ''.join([i for i in x if i not in string.punctuation]))\n",
      "<ipython-input-28-79b1cdf80404>:5: SettingWithCopyWarning: \n",
      "A value is trying to be set on a copy of a slice from a DataFrame.\n",
      "Try using .loc[row_indexer,col_indexer] = value instead\n",
      "\n",
      "See the caveats in the documentation: https://pandas.pydata.org/pandas-docs/stable/user_guide/indexing.html#returning-a-view-versus-a-copy\n",
      "  df_pt[\"DETAILED_DECRIPTION\"] = df_pt[\"DETAILED_DECRIPTION\"].apply(lambda x: ''.join([i for i in x if i not in string.punctuation]))\n"
     ]
    }
   ],
   "source": [
    "import string\n",
    "\n",
    "df_en[\"DETAILED_DECRIPTION\"] = df_en[\"DETAILED_DECRIPTION\"].apply(lambda x: ''.join([i for i in x if i not in string.punctuation]))\n",
    "df_de[\"DETAILED_DECRIPTION\"] = df_de[\"DETAILED_DECRIPTION\"].apply(lambda x: ''.join([i for i in x if i not in string.punctuation]))\n",
    "df_pt[\"DETAILED_DECRIPTION\"] = df_pt[\"DETAILED_DECRIPTION\"].apply(lambda x: ''.join([i for i in x if i not in string.punctuation]))"
   ]
  },
  {
   "cell_type": "code",
   "execution_count": 38,
   "id": "engaging-elite",
   "metadata": {},
   "outputs": [
    {
     "data": {
      "text/plain": [
       "0     cal1120simpledatabaseissue problem dlxwms aaas...\n",
       "1     cal1120simplemanifest problem dlx indicate des...\n",
       "2     cal1120simpleshipping problem dlxwms aaas prd ...\n",
       "3     dua1180simplewo problem dlxwms pod c order 157...\n",
       "4     hmb290simple recovery actions raise run reques...\n",
       "5     site ptna psol boschtoolsservicecom title erro...\n",
       "6     site boschtoolscom title erepair error descrip...\n",
       "7     cihotline answer questions q user id eg xyz8fe...\n",
       "8     maj2480complexsdbnreader responding missing ob...\n",
       "9     rad601getpaid rbme atmo balance issuep48 email...\n",
       "10    email request transferred ticket system handle...\n",
       "11    dds2180simpleonly plant assignment return orde...\n",
       "12    vap160simplesdbnjob failurejob restart recover...\n",
       "13    vap1180simplesdbnjob failurejob restart hello ...\n",
       "14    ieg1100simpledoes print sub hu labels sddr4 sa...\n",
       "15    ihre email anfrage ist das ticketsystem übertr...\n",
       "16    mmk3200simplepoe problems printing invoicessdi...\n",
       "17    icb invoices mx canada wrong cihotline check s...\n",
       "18    proengineeringproblemoptionreport problemcompu...\n",
       "19    bav1801not able display docuemntsp72standard i...\n",
       "Name: DETAILED_DECRIPTION, dtype: object"
      ]
     },
     "execution_count": 38,
     "metadata": {},
     "output_type": "execute_result"
    }
   ],
   "source": [
    "df_en[\"DETAILED_DECRIPTION\"].head(20)"
   ]
  },
  {
   "cell_type": "code",
   "execution_count": 29,
   "id": "designed-column",
   "metadata": {},
   "outputs": [
    {
     "name": "stderr",
     "output_type": "stream",
     "text": [
      "<ipython-input-29-1641c3039ba8>:1: SettingWithCopyWarning: \n",
      "A value is trying to be set on a copy of a slice from a DataFrame.\n",
      "Try using .loc[row_indexer,col_indexer] = value instead\n",
      "\n",
      "See the caveats in the documentation: https://pandas.pydata.org/pandas-docs/stable/user_guide/indexing.html#returning-a-view-versus-a-copy\n",
      "  df_en[\"DETAILED_DECRIPTION\"] = df_en[\"DETAILED_DECRIPTION\"].apply(lambda x: x.lower())\n",
      "<ipython-input-29-1641c3039ba8>:2: SettingWithCopyWarning: \n",
      "A value is trying to be set on a copy of a slice from a DataFrame.\n",
      "Try using .loc[row_indexer,col_indexer] = value instead\n",
      "\n",
      "See the caveats in the documentation: https://pandas.pydata.org/pandas-docs/stable/user_guide/indexing.html#returning-a-view-versus-a-copy\n",
      "  df_de[\"DETAILED_DECRIPTION\"] = df_de[\"DETAILED_DECRIPTION\"].apply(lambda x: x.lower())\n",
      "<ipython-input-29-1641c3039ba8>:3: SettingWithCopyWarning: \n",
      "A value is trying to be set on a copy of a slice from a DataFrame.\n",
      "Try using .loc[row_indexer,col_indexer] = value instead\n",
      "\n",
      "See the caveats in the documentation: https://pandas.pydata.org/pandas-docs/stable/user_guide/indexing.html#returning-a-view-versus-a-copy\n",
      "  df_pt[\"DETAILED_DECRIPTION\"] = df_pt[\"DETAILED_DECRIPTION\"].apply(lambda x: x.lower())\n"
     ]
    }
   ],
   "source": [
    "df_en[\"DETAILED_DECRIPTION\"] = df_en[\"DETAILED_DECRIPTION\"].apply(lambda x: x.lower())\n",
    "df_de[\"DETAILED_DECRIPTION\"] = df_de[\"DETAILED_DECRIPTION\"].apply(lambda x: x.lower())\n",
    "df_pt[\"DETAILED_DECRIPTION\"] = df_pt[\"DETAILED_DECRIPTION\"].apply(lambda x: x.lower())"
   ]
  },
  {
   "cell_type": "code",
   "execution_count": 46,
   "id": "placed-stuff",
   "metadata": {},
   "outputs": [],
   "source": [
    "from spacy.lang.en.stop_words import STOP_WORDS"
   ]
  },
  {
   "cell_type": "code",
   "execution_count": 47,
   "id": "european-category",
   "metadata": {},
   "outputs": [
    {
     "name": "stderr",
     "output_type": "stream",
     "text": [
      "<ipython-input-47-87e78c97df08>:1: SettingWithCopyWarning: \n",
      "A value is trying to be set on a copy of a slice from a DataFrame.\n",
      "Try using .loc[row_indexer,col_indexer] = value instead\n",
      "\n",
      "See the caveats in the documentation: https://pandas.pydata.org/pandas-docs/stable/user_guide/indexing.html#returning-a-view-versus-a-copy\n",
      "  df_en[\"DETAILED_DECRIPTION\"] = df_en[\"DETAILED_DECRIPTION\"].apply(lambda x: ' '.join([i for i in x.split() if i not in STOP_WORDS]))\n"
     ]
    }
   ],
   "source": [
    "df_en[\"DETAILED_DECRIPTION\"] = df_en[\"DETAILED_DECRIPTION\"].apply(lambda x: ' '.join([i for i in x.split() if i not in STOP_WORDS]))"
   ]
  },
  {
   "cell_type": "code",
   "execution_count": 43,
   "id": "cooperative-armor",
   "metadata": {},
   "outputs": [
    {
     "data": {
      "text/plain": [
       "'cal1120simpledatabaseissue problem dlxwms aaas jda released work going work assignment allowing pick ordersattachment'"
      ]
     },
     "execution_count": 43,
     "metadata": {},
     "output_type": "execute_result"
    }
   ],
   "source": [
    "df_en[\"DETAILED_DECRIPTION\"][0]"
   ]
  },
  {
   "cell_type": "code",
   "execution_count": 51,
   "id": "subject-mississippi",
   "metadata": {
    "tags": []
   },
   "outputs": [],
   "source": [
    "from spacy.lang.de.stop_words import STOP_WORDS"
   ]
  },
  {
   "cell_type": "code",
   "execution_count": 52,
   "id": "addressed-vietnam",
   "metadata": {},
   "outputs": [
    {
     "name": "stderr",
     "output_type": "stream",
     "text": [
      "<ipython-input-52-61e6c52d1cd9>:1: SettingWithCopyWarning: \n",
      "A value is trying to be set on a copy of a slice from a DataFrame.\n",
      "Try using .loc[row_indexer,col_indexer] = value instead\n",
      "\n",
      "See the caveats in the documentation: https://pandas.pydata.org/pandas-docs/stable/user_guide/indexing.html#returning-a-view-versus-a-copy\n",
      "  df_de[\"DETAILED_DECRIPTION\"] = df_de[\"DETAILED_DECRIPTION\"].apply(lambda x: ' '.join([i for i in x.split() if i not in STOP_WORDS]))\n"
     ]
    }
   ],
   "source": [
    "df_de[\"DETAILED_DECRIPTION\"] = df_de[\"DETAILED_DECRIPTION\"].apply(lambda x: ' '.join([i for i in x.split() if i not in STOP_WORDS]))"
   ]
  },
  {
   "cell_type": "code",
   "execution_count": 53,
   "id": "solid-support",
   "metadata": {},
   "outputs": [
    {
     "data": {
      "text/plain": [
       "'maj2120simplesdbnjob failurerestarted for recovery actions please raise the run request through armt httpsrbarmtboschcomjrm sap system ppt011 sapjobname ptxxxxmm81900z07cf0110rm06bb uc4jobname ptxxxxmm81900z07cf0110rm06bb30 uc4runnr 0094856500 uc4jobplan pt211xmm81900ppt011z07cf0110rm06bb30 customer name mentioned jobplan documentation bernhard rapp date time msgidnr message 20190719 010042 00 516 job gestartet 20190719 010042 00 550 step 001 gestartet programm z07cf0110 variante benutzername uc4cpic 20190719 010042 pt 002 aufbereitung xpaper ausgabegerät sn0i definiert 20190719 010048 td 465 gerätetyp cnsapwin unterstützt seitenformat zatlant 20190719 010048 00 518 job abgebrochen 20190719 010049 000 20190719 010049 000 step 001 programm z07cf0110 spoolnummer 0000000000 20190719 010049 000 step selektionsbild'"
      ]
     },
     "execution_count": 53,
     "metadata": {},
     "output_type": "execute_result"
    }
   ],
   "source": [
    "df_de[\"DETAILED_DECRIPTION\"][0]"
   ]
  },
  {
   "cell_type": "code",
   "execution_count": 54,
   "id": "prostate-reporter",
   "metadata": {},
   "outputs": [],
   "source": [
    "from spacy.lang.pt.stop_words import STOP_WORDS"
   ]
  },
  {
   "cell_type": "code",
   "execution_count": 55,
   "id": "opposed-ukraine",
   "metadata": {},
   "outputs": [
    {
     "name": "stderr",
     "output_type": "stream",
     "text": [
      "<ipython-input-55-b67792f35e09>:1: SettingWithCopyWarning: \n",
      "A value is trying to be set on a copy of a slice from a DataFrame.\n",
      "Try using .loc[row_indexer,col_indexer] = value instead\n",
      "\n",
      "See the caveats in the documentation: https://pandas.pydata.org/pandas-docs/stable/user_guide/indexing.html#returning-a-view-versus-a-copy\n",
      "  df_pt[\"DETAILED_DECRIPTION\"] = df_pt[\"DETAILED_DECRIPTION\"].apply(lambda x: ' '.join([i for i in x.split() if i not in STOP_WORDS]))\n"
     ]
    }
   ],
   "source": [
    "df_pt[\"DETAILED_DECRIPTION\"] = df_pt[\"DETAILED_DECRIPTION\"].apply(lambda x: ' '.join([i for i in x.split() if i not in STOP_WORDS]))"
   ]
  },
  {
   "cell_type": "code",
   "execution_count": 56,
   "id": "ideal-contamination",
   "metadata": {},
   "outputs": [
    {
     "data": {
      "text/plain": [
       "'maj5180simpleinterface remessa 1713622550 gerada sap enviada red dia 16072019 1716hrs mesma caiu tela “oper conjunto onda” planejamento precisamos verificar travada remessa conhecimento remessa prioridade 04 dando erro'"
      ]
     },
     "execution_count": 56,
     "metadata": {},
     "output_type": "execute_result"
    }
   ],
   "source": [
    "df_pt[\"DETAILED_DECRIPTION\"][0]"
   ]
  },
  {
   "cell_type": "code",
   "execution_count": 59,
   "id": "adaptive-launch",
   "metadata": {},
   "outputs": [],
   "source": [
    "# import spacy\n",
    "# nlp = spacy.load('en_core_web_sm', disable=['parser', 'ner'] )"
   ]
  },
  {
   "cell_type": "code",
   "execution_count": 67,
   "id": "intellectual-eight",
   "metadata": {},
   "outputs": [
    {
     "data": {
      "text/plain": [
       "0        cal1120simpledatabaseissue problem dlxwms aaas...\n",
       "1        cal1120simplemanifest problem dlx indicate des...\n",
       "2        cal1120simpleshipping problem dlxwms aaas prd ...\n",
       "3        dua1180simplewo problem dlxwms pod c order 157...\n",
       "4        hmb290simple recovery actions raise run reques...\n",
       "                               ...                        \n",
       "41715    ihre email anfrage ist das ticketsystem übertr...\n",
       "41716    pvi7300mediumunable export files cihotline tra...\n",
       "41717    run 8dstatusreport pis 26th october 2018 q8 23...\n",
       "41718    complaint open 8d sponsor qc 230005155908 dste...\n",
       "41719    ray200simplesdbrpo deletion able delete 820066...\n",
       "Name: DETAILED_DECRIPTION, Length: 41720, dtype: object"
      ]
     },
     "execution_count": 67,
     "metadata": {},
     "output_type": "execute_result"
    }
   ],
   "source": [
    "# new_df_en = df_en.loc[:, \"DETAILED_DECRIPTION\"]\n",
    "# new_df_en"
   ]
  },
  {
   "cell_type": "code",
   "execution_count": 74,
   "id": "independent-lending",
   "metadata": {
    "tags": []
   },
   "outputs": [
    {
     "name": "stderr",
     "output_type": "stream",
     "text": [
      "<ipython-input-74-6ab1a6384d76>:12: SettingWithCopyWarning: \n",
      "A value is trying to be set on a copy of a slice from a DataFrame.\n",
      "Try using .loc[row_indexer,col_indexer] = value instead\n",
      "\n",
      "See the caveats in the documentation: https://pandas.pydata.org/pandas-docs/stable/user_guide/indexing.html#returning-a-view-versus-a-copy\n",
      "  df_en['NEW_DETAILED_DECRIPTION'] = ' '.join(lemma_sentence)\n"
     ]
    },
    {
     "ename": "KeyboardInterrupt",
     "evalue": "",
     "output_type": "error",
     "traceback": [
      "\u001b[1;31m---------------------------------------------------------------------------\u001b[0m",
      "\u001b[1;31mKeyboardInterrupt\u001b[0m                         Traceback (most recent call last)",
      "\u001b[1;32m<ipython-input-74-6ab1a6384d76>\u001b[0m in \u001b[0;36m<module>\u001b[1;34m\u001b[0m\n\u001b[0;32m     10\u001b[0m         \u001b[0mlemma_sentence\u001b[0m\u001b[1;33m.\u001b[0m\u001b[0mappend\u001b[0m\u001b[1;33m(\u001b[0m\u001b[0mword\u001b[0m\u001b[1;33m.\u001b[0m\u001b[0mlemma_\u001b[0m\u001b[1;33m)\u001b[0m\u001b[1;33m\u001b[0m\u001b[1;33m\u001b[0m\u001b[0m\n\u001b[0;32m     11\u001b[0m \u001b[1;33m\u001b[0m\u001b[0m\n\u001b[1;32m---> 12\u001b[1;33m     \u001b[0mdf_en\u001b[0m\u001b[1;33m[\u001b[0m\u001b[1;34m'NEW_DETAILED_DECRIPTION'\u001b[0m\u001b[1;33m]\u001b[0m \u001b[1;33m=\u001b[0m \u001b[1;34m' '\u001b[0m\u001b[1;33m.\u001b[0m\u001b[0mjoin\u001b[0m\u001b[1;33m(\u001b[0m\u001b[0mlemma_sentence\u001b[0m\u001b[1;33m)\u001b[0m\u001b[1;33m\u001b[0m\u001b[1;33m\u001b[0m\u001b[0m\n\u001b[0m\u001b[0;32m     13\u001b[0m \u001b[1;33m\u001b[0m\u001b[0m\n",
      "\u001b[1;31mKeyboardInterrupt\u001b[0m: "
     ]
    }
   ],
   "source": [
    "lemma_sentence =  []\n",
    "\n",
    "import spacy\n",
    "nlp = spacy.load('en_core_web_sm')\n",
    "\n",
    "for i in df_en[\"DETAILED_DECRIPTION\"]:\n",
    "    doc = nlp(i)\n",
    "    \n",
    "    for word in doc:\n",
    "        lemma_sentence.append(word.lemma_)\n",
    "    \n",
    "    df_en['NEW_DETAILED_DECRIPTION'] = ' '.join(lemma_sentence)"
   ]
  },
  {
   "cell_type": "code",
   "execution_count": null,
   "id": "interracial-paintball",
   "metadata": {},
   "outputs": [],
   "source": [
    "doc = [nlp(i) for i in df_en[\"DETAILED_DECRIPTION\"]]\n",
    "\n",
    "for word in doc:\n",
    "        lemma_sentence.append(word.lemma_) \n",
    "        \n",
    "        \n"
   ]
  },
  {
   "cell_type": "code",
   "execution_count": 89,
   "id": "rubber-taiwan",
   "metadata": {},
   "outputs": [
    {
     "data": {
      "text/html": [
       "<div>\n",
       "<style scoped>\n",
       "    .dataframe tbody tr th:only-of-type {\n",
       "        vertical-align: middle;\n",
       "    }\n",
       "\n",
       "    .dataframe tbody tr th {\n",
       "        vertical-align: top;\n",
       "    }\n",
       "\n",
       "    .dataframe thead th {\n",
       "        text-align: right;\n",
       "    }\n",
       "</style>\n",
       "<table border=\"1\" class=\"dataframe\">\n",
       "  <thead>\n",
       "    <tr style=\"text-align: right;\">\n",
       "      <th></th>\n",
       "      <th>DETAILED_DECRIPTION</th>\n",
       "      <th>NEW_DETAILED_DECRIPTION</th>\n",
       "    </tr>\n",
       "  </thead>\n",
       "  <tbody>\n",
       "    <tr>\n",
       "      <th>0</th>\n",
       "      <td>cal1120simpledatabaseissue problem dlxwms aaas...</td>\n",
       "      <td>cal1120simpledatabaseissue problem dlxwm aaas ...</td>\n",
       "    </tr>\n",
       "    <tr>\n",
       "      <th>1</th>\n",
       "      <td>cal1120simplemanifest problem dlx indicate des...</td>\n",
       "      <td>cal1120simpledatabaseissue problem dlxwm aaas ...</td>\n",
       "    </tr>\n",
       "    <tr>\n",
       "      <th>2</th>\n",
       "      <td>cal1120simpleshipping problem dlxwms aaas prd ...</td>\n",
       "      <td>cal1120simpledatabaseissue problem dlxwm aaas ...</td>\n",
       "    </tr>\n",
       "    <tr>\n",
       "      <th>3</th>\n",
       "      <td>dua1180simplewo problem dlxwms pod c order 157...</td>\n",
       "      <td>cal1120simpledatabaseissue problem dlxwm aaas ...</td>\n",
       "    </tr>\n",
       "    <tr>\n",
       "      <th>4</th>\n",
       "      <td>hmb290simple recovery actions raise run reques...</td>\n",
       "      <td>cal1120simpledatabaseissue problem dlxwm aaas ...</td>\n",
       "    </tr>\n",
       "    <tr>\n",
       "      <th>5</th>\n",
       "      <td>site ptna psol boschtoolsservicecom title erro...</td>\n",
       "      <td>cal1120simpledatabaseissue problem dlxwm aaas ...</td>\n",
       "    </tr>\n",
       "    <tr>\n",
       "      <th>6</th>\n",
       "      <td>site boschtoolscom title erepair error descrip...</td>\n",
       "      <td>cal1120simpledatabaseissue problem dlxwm aaas ...</td>\n",
       "    </tr>\n",
       "    <tr>\n",
       "      <th>7</th>\n",
       "      <td>cihotline answer questions q user id eg xyz8fe...</td>\n",
       "      <td>cal1120simpledatabaseissue problem dlxwm aaas ...</td>\n",
       "    </tr>\n",
       "    <tr>\n",
       "      <th>8</th>\n",
       "      <td>maj2480complexsdbnreader responding missing ob...</td>\n",
       "      <td>cal1120simpledatabaseissue problem dlxwm aaas ...</td>\n",
       "    </tr>\n",
       "    <tr>\n",
       "      <th>9</th>\n",
       "      <td>rad601getpaid rbme atmo balance issuep48 email...</td>\n",
       "      <td>cal1120simpledatabaseissue problem dlxwm aaas ...</td>\n",
       "    </tr>\n",
       "    <tr>\n",
       "      <th>10</th>\n",
       "      <td>email request transferred ticket system handle...</td>\n",
       "      <td>cal1120simpledatabaseissue problem dlxwm aaas ...</td>\n",
       "    </tr>\n",
       "    <tr>\n",
       "      <th>11</th>\n",
       "      <td>dds2180simpleonly plant assignment return orde...</td>\n",
       "      <td>cal1120simpledatabaseissue problem dlxwm aaas ...</td>\n",
       "    </tr>\n",
       "    <tr>\n",
       "      <th>12</th>\n",
       "      <td>vap160simplesdbnjob failurejob restart recover...</td>\n",
       "      <td>cal1120simpledatabaseissue problem dlxwm aaas ...</td>\n",
       "    </tr>\n",
       "    <tr>\n",
       "      <th>13</th>\n",
       "      <td>vap1180simplesdbnjob failurejob restart hello ...</td>\n",
       "      <td>cal1120simpledatabaseissue problem dlxwm aaas ...</td>\n",
       "    </tr>\n",
       "    <tr>\n",
       "      <th>14</th>\n",
       "      <td>ieg1100simpledoes print sub hu labels sddr4 sa...</td>\n",
       "      <td>cal1120simpledatabaseissue problem dlxwm aaas ...</td>\n",
       "    </tr>\n",
       "    <tr>\n",
       "      <th>15</th>\n",
       "      <td>ihre email anfrage ist das ticketsystem übertr...</td>\n",
       "      <td>cal1120simpledatabaseissue problem dlxwm aaas ...</td>\n",
       "    </tr>\n",
       "    <tr>\n",
       "      <th>16</th>\n",
       "      <td>mmk3200simplepoe problems printing invoicessdi...</td>\n",
       "      <td>cal1120simpledatabaseissue problem dlxwm aaas ...</td>\n",
       "    </tr>\n",
       "    <tr>\n",
       "      <th>17</th>\n",
       "      <td>icb invoices mx canada wrong cihotline check s...</td>\n",
       "      <td>cal1120simpledatabaseissue problem dlxwm aaas ...</td>\n",
       "    </tr>\n",
       "    <tr>\n",
       "      <th>18</th>\n",
       "      <td>proengineeringproblemoptionreport problemcompu...</td>\n",
       "      <td>cal1120simpledatabaseissue problem dlxwm aaas ...</td>\n",
       "    </tr>\n",
       "    <tr>\n",
       "      <th>19</th>\n",
       "      <td>bav1801not able display docuemntsp72standard i...</td>\n",
       "      <td>cal1120simpledatabaseissue problem dlxwm aaas ...</td>\n",
       "    </tr>\n",
       "  </tbody>\n",
       "</table>\n",
       "</div>"
      ],
      "text/plain": [
       "                                  DETAILED_DECRIPTION  \\\n",
       "0   cal1120simpledatabaseissue problem dlxwms aaas...   \n",
       "1   cal1120simplemanifest problem dlx indicate des...   \n",
       "2   cal1120simpleshipping problem dlxwms aaas prd ...   \n",
       "3   dua1180simplewo problem dlxwms pod c order 157...   \n",
       "4   hmb290simple recovery actions raise run reques...   \n",
       "5   site ptna psol boschtoolsservicecom title erro...   \n",
       "6   site boschtoolscom title erepair error descrip...   \n",
       "7   cihotline answer questions q user id eg xyz8fe...   \n",
       "8   maj2480complexsdbnreader responding missing ob...   \n",
       "9   rad601getpaid rbme atmo balance issuep48 email...   \n",
       "10  email request transferred ticket system handle...   \n",
       "11  dds2180simpleonly plant assignment return orde...   \n",
       "12  vap160simplesdbnjob failurejob restart recover...   \n",
       "13  vap1180simplesdbnjob failurejob restart hello ...   \n",
       "14  ieg1100simpledoes print sub hu labels sddr4 sa...   \n",
       "15  ihre email anfrage ist das ticketsystem übertr...   \n",
       "16  mmk3200simplepoe problems printing invoicessdi...   \n",
       "17  icb invoices mx canada wrong cihotline check s...   \n",
       "18  proengineeringproblemoptionreport problemcompu...   \n",
       "19  bav1801not able display docuemntsp72standard i...   \n",
       "\n",
       "                              NEW_DETAILED_DECRIPTION  \n",
       "0   cal1120simpledatabaseissue problem dlxwm aaas ...  \n",
       "1   cal1120simpledatabaseissue problem dlxwm aaas ...  \n",
       "2   cal1120simpledatabaseissue problem dlxwm aaas ...  \n",
       "3   cal1120simpledatabaseissue problem dlxwm aaas ...  \n",
       "4   cal1120simpledatabaseissue problem dlxwm aaas ...  \n",
       "5   cal1120simpledatabaseissue problem dlxwm aaas ...  \n",
       "6   cal1120simpledatabaseissue problem dlxwm aaas ...  \n",
       "7   cal1120simpledatabaseissue problem dlxwm aaas ...  \n",
       "8   cal1120simpledatabaseissue problem dlxwm aaas ...  \n",
       "9   cal1120simpledatabaseissue problem dlxwm aaas ...  \n",
       "10  cal1120simpledatabaseissue problem dlxwm aaas ...  \n",
       "11  cal1120simpledatabaseissue problem dlxwm aaas ...  \n",
       "12  cal1120simpledatabaseissue problem dlxwm aaas ...  \n",
       "13  cal1120simpledatabaseissue problem dlxwm aaas ...  \n",
       "14  cal1120simpledatabaseissue problem dlxwm aaas ...  \n",
       "15  cal1120simpledatabaseissue problem dlxwm aaas ...  \n",
       "16  cal1120simpledatabaseissue problem dlxwm aaas ...  \n",
       "17  cal1120simpledatabaseissue problem dlxwm aaas ...  \n",
       "18  cal1120simpledatabaseissue problem dlxwm aaas ...  \n",
       "19  cal1120simpledatabaseissue problem dlxwm aaas ...  "
      ]
     },
     "execution_count": 89,
     "metadata": {},
     "output_type": "execute_result"
    }
   ],
   "source": [
    "df_en[['DETAILED_DECRIPTION','NEW_DETAILED_DECRIPTION']].head(20)"
   ]
  },
  {
   "cell_type": "code",
   "execution_count": null,
   "id": "eight-surgeon",
   "metadata": {},
   "outputs": [],
   "source": []
  },
  {
   "cell_type": "code",
   "execution_count": null,
   "id": "deluxe-boulder",
   "metadata": {},
   "outputs": [],
   "source": []
  },
  {
   "cell_type": "code",
   "execution_count": null,
   "id": "super-algeria",
   "metadata": {},
   "outputs": [],
   "source": []
  },
  {
   "cell_type": "code",
   "execution_count": null,
   "id": "critical-cursor",
   "metadata": {},
   "outputs": [],
   "source": []
  }
 ],
 "metadata": {
  "kernelspec": {
   "display_name": "Python 3",
   "language": "python",
   "name": "python3"
  },
  "language_info": {
   "codemirror_mode": {
    "name": "ipython",
    "version": 3
   },
   "file_extension": ".py",
   "mimetype": "text/x-python",
   "name": "python",
   "nbconvert_exporter": "python",
   "pygments_lexer": "ipython3",
   "version": "3.8.6"
  }
 },
 "nbformat": 4,
 "nbformat_minor": 5
}
