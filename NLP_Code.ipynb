{
 "cells": [
  {
   "cell_type": "code",
   "execution_count": 41,
   "id": "developmental-consumer",
   "metadata": {},
   "outputs": [],
   "source": [
    "import numpy as np\n",
    "import pandas as pd\n",
    "import matplotlib.pyplot as plt\n",
    "%matplotlib inline\n",
    "\n",
    "import seaborn as sns"
   ]
  },
  {
   "cell_type": "code",
   "execution_count": 42,
   "id": "revised-lodging",
   "metadata": {},
   "outputs": [],
   "source": [
    "df = pd.read_excel('NEWAug-2017-Aug-2019.xlsx', engine = 'openpyxl', nrows = 5000)"
   ]
  },
  {
   "cell_type": "code",
   "execution_count": 43,
   "id": "religious-factory",
   "metadata": {},
   "outputs": [
    {
     "data": {
      "text/html": [
       "<div>\n",
       "<style scoped>\n",
       "    .dataframe tbody tr th:only-of-type {\n",
       "        vertical-align: middle;\n",
       "    }\n",
       "\n",
       "    .dataframe tbody tr th {\n",
       "        vertical-align: top;\n",
       "    }\n",
       "\n",
       "    .dataframe thead th {\n",
       "        text-align: right;\n",
       "    }\n",
       "</style>\n",
       "<table border=\"1\" class=\"dataframe\">\n",
       "  <thead>\n",
       "    <tr style=\"text-align: right;\">\n",
       "      <th></th>\n",
       "      <th>INCIDENT_NUMBER</th>\n",
       "      <th>DESCRIPTION</th>\n",
       "      <th>SERVICE</th>\n",
       "      <th>PRIORITY</th>\n",
       "      <th>MASTER_INCIDENT_NUMBER</th>\n",
       "      <th>REPORTED_DATE_GMT</th>\n",
       "      <th>OPERATIONAL_CATEGORY_TIER_1</th>\n",
       "      <th>ASSIGNED_SUPPORT_GROUP</th>\n",
       "      <th>LAST_SOLVED_DATE_GMT</th>\n",
       "      <th>DETAILED_DECRIPTION</th>\n",
       "      <th>RESOLUTION</th>\n",
       "    </tr>\n",
       "  </thead>\n",
       "  <tbody>\n",
       "    <tr>\n",
       "      <th>0</th>\n",
       "      <td>INC000016479136</td>\n",
       "      <td>Aftermarket Application</td>\n",
       "      <td>AANA-RP-RMV</td>\n",
       "      <td>Low</td>\n",
       "      <td>NaN</td>\n",
       "      <td>19-JUL-19</td>\n",
       "      <td>Failure</td>\n",
       "      <td>Distribution Warehouse Management - RBEI</td>\n",
       "      <td>22-JUL-19</td>\n",
       "      <td>CAL1/120/Simple/Data_Base_Issue\\nProblem - DLx...</td>\n",
       "      <td>D - Released work is going into work assignmen...</td>\n",
       "    </tr>\n",
       "    <tr>\n",
       "      <th>1</th>\n",
       "      <td>INC000016480371</td>\n",
       "      <td>Power Tools DLx</td>\n",
       "      <td>PTNA-RP-WEM</td>\n",
       "      <td>Low</td>\n",
       "      <td>NaN</td>\n",
       "      <td>19-JUL-19</td>\n",
       "      <td>Failure</td>\n",
       "      <td>Distribution Warehouse Management - RBEI</td>\n",
       "      <td>22-JUL-19</td>\n",
       "      <td>CAL1/120/Simple/Manifest\\nProblem with DLx - O...</td>\n",
       "      <td>D - 0113776884 1 box for order manifested and ...</td>\n",
       "    </tr>\n",
       "    <tr>\n",
       "      <th>2</th>\n",
       "      <td>INC000016480382</td>\n",
       "      <td>Aftermarket Application</td>\n",
       "      <td>AANA-RP-RMV</td>\n",
       "      <td>Low</td>\n",
       "      <td>NaN</td>\n",
       "      <td>19-JUL-19</td>\n",
       "      <td>Failure</td>\n",
       "      <td>Distribution Warehouse Management - RBEI</td>\n",
       "      <td>22-JUL-19</td>\n",
       "      <td>CAL1/120/Simple/Shipping\\nProblem - DLx/WMS AA...</td>\n",
       "      <td>D - Order number 495114 throws an error messag...</td>\n",
       "    </tr>\n",
       "    <tr>\n",
       "      <th>3</th>\n",
       "      <td>INC000016480392</td>\n",
       "      <td>Aftermarket Application</td>\n",
       "      <td>AANA-RP-ATL</td>\n",
       "      <td>Low</td>\n",
       "      <td>NaN</td>\n",
       "      <td>19-JUL-19</td>\n",
       "      <td>Failure</td>\n",
       "      <td>Distribution Warehouse Management - RBEI</td>\n",
       "      <td>22-JUL-19</td>\n",
       "      <td>DUA1/180/Simple/WO\\nProblem - DLx/WMS POD C - ...</td>\n",
       "      <td>D- Problem - DLx/WMS POD C - Order # 1578209 w...</td>\n",
       "    </tr>\n",
       "    <tr>\n",
       "      <th>4</th>\n",
       "      <td>INC000016489059</td>\n",
       "      <td>UC4-Failure; EUP7-1401: Job-Failure 1915068588...</td>\n",
       "      <td>PRA-SALES-AND-DISTRIBUTION</td>\n",
       "      <td>Low</td>\n",
       "      <td>NaN</td>\n",
       "      <td>22-JUL-19</td>\n",
       "      <td>Failure</td>\n",
       "      <td>SD - EXT RBEI</td>\n",
       "      <td>22-JUL-19</td>\n",
       "      <td>HMB2/90/Simple\\nFor Recovery actions please ra...</td>\n",
       "      <td>P: Job DC_US10_SD10148_RBR1_A_PPIF_DOCU failed...</td>\n",
       "    </tr>\n",
       "  </tbody>\n",
       "</table>\n",
       "</div>"
      ],
      "text/plain": [
       "   INCIDENT_NUMBER                                        DESCRIPTION  \\\n",
       "0  INC000016479136                            Aftermarket Application   \n",
       "1  INC000016480371                                    Power Tools DLx   \n",
       "2  INC000016480382                            Aftermarket Application   \n",
       "3  INC000016480392                            Aftermarket Application   \n",
       "4  INC000016489059  UC4-Failure; EUP7-1401: Job-Failure 1915068588...   \n",
       "\n",
       "                      SERVICE PRIORITY MASTER_INCIDENT_NUMBER  \\\n",
       "0                 AANA-RP-RMV      Low                    NaN   \n",
       "1                 PTNA-RP-WEM      Low                    NaN   \n",
       "2                 AANA-RP-RMV      Low                    NaN   \n",
       "3                 AANA-RP-ATL      Low                    NaN   \n",
       "4  PRA-SALES-AND-DISTRIBUTION      Low                    NaN   \n",
       "\n",
       "  REPORTED_DATE_GMT OPERATIONAL_CATEGORY_TIER_1  \\\n",
       "0         19-JUL-19                     Failure   \n",
       "1         19-JUL-19                     Failure   \n",
       "2         19-JUL-19                     Failure   \n",
       "3         19-JUL-19                     Failure   \n",
       "4         22-JUL-19                     Failure   \n",
       "\n",
       "                     ASSIGNED_SUPPORT_GROUP LAST_SOLVED_DATE_GMT  \\\n",
       "0  Distribution Warehouse Management - RBEI            22-JUL-19   \n",
       "1  Distribution Warehouse Management - RBEI            22-JUL-19   \n",
       "2  Distribution Warehouse Management - RBEI            22-JUL-19   \n",
       "3  Distribution Warehouse Management - RBEI            22-JUL-19   \n",
       "4                             SD - EXT RBEI            22-JUL-19   \n",
       "\n",
       "                                 DETAILED_DECRIPTION  \\\n",
       "0  CAL1/120/Simple/Data_Base_Issue\\nProblem - DLx...   \n",
       "1  CAL1/120/Simple/Manifest\\nProblem with DLx - O...   \n",
       "2  CAL1/120/Simple/Shipping\\nProblem - DLx/WMS AA...   \n",
       "3  DUA1/180/Simple/WO\\nProblem - DLx/WMS POD C - ...   \n",
       "4  HMB2/90/Simple\\nFor Recovery actions please ra...   \n",
       "\n",
       "                                          RESOLUTION  \n",
       "0  D - Released work is going into work assignmen...  \n",
       "1  D - 0113776884 1 box for order manifested and ...  \n",
       "2  D - Order number 495114 throws an error messag...  \n",
       "3  D- Problem - DLx/WMS POD C - Order # 1578209 w...  \n",
       "4  P: Job DC_US10_SD10148_RBR1_A_PPIF_DOCU failed...  "
      ]
     },
     "execution_count": 43,
     "metadata": {},
     "output_type": "execute_result"
    }
   ],
   "source": [
    "df.head()"
   ]
  },
  {
   "cell_type": "code",
   "execution_count": 44,
   "id": "packed-startup",
   "metadata": {},
   "outputs": [
    {
     "data": {
      "text/plain": [
       "(5000, 11)"
      ]
     },
     "execution_count": 44,
     "metadata": {},
     "output_type": "execute_result"
    }
   ],
   "source": [
    "df.shape"
   ]
  },
  {
   "cell_type": "markdown",
   "id": "excited-macedonia",
   "metadata": {},
   "source": [
    "# Considering the input feature (DETAILED_DECRIPTION)"
   ]
  },
  {
   "cell_type": "markdown",
   "id": "organized-calculation",
   "metadata": {},
   "source": [
    "# Data Cleaning:\n",
    "\n",
    "1) Detect which language it is and make the separate dataframe for each language\n",
    "2) Remove the puncutiation marks, numbers ..etc\n",
    "3) Make the Lower case\n",
    "4) Remove the stop words\n",
    "5) Lemittization\n",
    "6) Find a way to convert text data to numeric data"
   ]
  },
  {
   "cell_type": "code",
   "execution_count": null,
   "id": "short-chancellor",
   "metadata": {},
   "outputs": [],
   "source": []
  },
  {
   "cell_type": "code",
   "execution_count": 45,
   "id": "purple-tablet",
   "metadata": {},
   "outputs": [
    {
     "data": {
      "text/plain": [
       "'en'"
      ]
     },
     "execution_count": 45,
     "metadata": {},
     "output_type": "execute_result"
    }
   ],
   "source": [
    "# Eg 1:\n",
    "from langdetect import detect\n",
    "detect(\"War doesn't show who's right, just who's left.\")"
   ]
  },
  {
   "cell_type": "code",
   "execution_count": 46,
   "id": "removed-front",
   "metadata": {},
   "outputs": [
    {
     "data": {
      "text/plain": [
       "'de'"
      ]
     },
     "execution_count": 46,
     "metadata": {},
     "output_type": "execute_result"
    }
   ],
   "source": [
    "detect(\"Ein, zwei, drei, vier\")"
   ]
  },
  {
   "cell_type": "code",
   "execution_count": 47,
   "id": "entertaining-purpose",
   "metadata": {},
   "outputs": [],
   "source": [
    "df['Language'] = df['DETAILED_DECRIPTION'].apply(lambda x: detect(x))"
   ]
  },
  {
   "cell_type": "code",
   "execution_count": 48,
   "id": "large-district",
   "metadata": {},
   "outputs": [
    {
     "data": {
      "text/plain": [
       "en    4284\n",
       "de     622\n",
       "pt      65\n",
       "es       8\n",
       "it       6\n",
       "cs       4\n",
       "fr       4\n",
       "hu       3\n",
       "ja       2\n",
       "sv       1\n",
       "vi       1\n",
       "Name: Language, dtype: int64"
      ]
     },
     "execution_count": 48,
     "metadata": {},
     "output_type": "execute_result"
    }
   ],
   "source": [
    "df['Language'].value_counts()"
   ]
  },
  {
   "cell_type": "code",
   "execution_count": 49,
   "id": "running-rating",
   "metadata": {},
   "outputs": [
    {
     "data": {
      "image/png": "[encoded data removed]",
      "text/plain": [
       "<Figure size 432x288 with 1 Axes>"
      ]
     },
     "metadata": {},
     "output_type": "display_data"
    }
   ],
   "source": [
    "sns.set_theme(style=\"darkgrid\")\n",
    "ax = sns.countplot(x=\"Language\", data=df)"
   ]
  },
  {
   "cell_type": "code",
   "execution_count": 50,
   "id": "statewide-consumption",
   "metadata": {},
   "outputs": [],
   "source": [
    "df_en = df.loc[df.Language == 'en', :]\n",
    "df_de = df.loc[df.Language == 'de', :]\n",
    "df_pt = df.loc[df.Language == 'pt', :]"
   ]
  },
  {
   "cell_type": "code",
   "execution_count": 51,
   "id": "marine-grammar",
   "metadata": {},
   "outputs": [],
   "source": [
    "# Reseting the index\n",
    "df_en.reset_index(inplace = True, drop=True)\n",
    "df_de.reset_index(inplace = True, drop=True)\n",
    "df_pt.reset_index(inplace = True, drop=True)"
   ]
  },
  {
   "cell_type": "code",
   "execution_count": 52,
   "id": "alert-quest",
   "metadata": {},
   "outputs": [
    {
     "data": {
      "text/html": [
       "<div>\n",
       "<style scoped>\n",
       "    .dataframe tbody tr th:only-of-type {\n",
       "        vertical-align: middle;\n",
       "    }\n",
       "\n",
       "    .dataframe tbody tr th {\n",
       "        vertical-align: top;\n",
       "    }\n",
       "\n",
       "    .dataframe thead th {\n",
       "        text-align: right;\n",
       "    }\n",
       "</style>\n",
       "<table border=\"1\" class=\"dataframe\">\n",
       "  <thead>\n",
       "    <tr style=\"text-align: right;\">\n",
       "      <th></th>\n",
       "      <th>INCIDENT_NUMBER</th>\n",
       "      <th>DESCRIPTION</th>\n",
       "      <th>SERVICE</th>\n",
       "      <th>PRIORITY</th>\n",
       "      <th>MASTER_INCIDENT_NUMBER</th>\n",
       "      <th>REPORTED_DATE_GMT</th>\n",
       "      <th>OPERATIONAL_CATEGORY_TIER_1</th>\n",
       "      <th>ASSIGNED_SUPPORT_GROUP</th>\n",
       "      <th>LAST_SOLVED_DATE_GMT</th>\n",
       "      <th>DETAILED_DECRIPTION</th>\n",
       "      <th>RESOLUTION</th>\n",
       "      <th>Language</th>\n",
       "    </tr>\n",
       "  </thead>\n",
       "  <tbody>\n",
       "    <tr>\n",
       "      <th>0</th>\n",
       "      <td>INC000016479136</td>\n",
       "      <td>Aftermarket Application</td>\n",
       "      <td>AANA-RP-RMV</td>\n",
       "      <td>Low</td>\n",
       "      <td>NaN</td>\n",
       "      <td>19-JUL-19</td>\n",
       "      <td>Failure</td>\n",
       "      <td>Distribution Warehouse Management - RBEI</td>\n",
       "      <td>22-JUL-19</td>\n",
       "      <td>CAL1/120/Simple/Data_Base_Issue\\nProblem - DLx...</td>\n",
       "      <td>D - Released work is going into work assignmen...</td>\n",
       "      <td>en</td>\n",
       "    </tr>\n",
       "    <tr>\n",
       "      <th>1</th>\n",
       "      <td>INC000016480371</td>\n",
       "      <td>Power Tools DLx</td>\n",
       "      <td>PTNA-RP-WEM</td>\n",
       "      <td>Low</td>\n",
       "      <td>NaN</td>\n",
       "      <td>19-JUL-19</td>\n",
       "      <td>Failure</td>\n",
       "      <td>Distribution Warehouse Management - RBEI</td>\n",
       "      <td>22-JUL-19</td>\n",
       "      <td>CAL1/120/Simple/Manifest\\nProblem with DLx - O...</td>\n",
       "      <td>D - 0113776884 1 box for order manifested and ...</td>\n",
       "      <td>en</td>\n",
       "    </tr>\n",
       "    <tr>\n",
       "      <th>2</th>\n",
       "      <td>INC000016480382</td>\n",
       "      <td>Aftermarket Application</td>\n",
       "      <td>AANA-RP-RMV</td>\n",
       "      <td>Low</td>\n",
       "      <td>NaN</td>\n",
       "      <td>19-JUL-19</td>\n",
       "      <td>Failure</td>\n",
       "      <td>Distribution Warehouse Management - RBEI</td>\n",
       "      <td>22-JUL-19</td>\n",
       "      <td>CAL1/120/Simple/Shipping\\nProblem - DLx/WMS AA...</td>\n",
       "      <td>D - Order number 495114 throws an error messag...</td>\n",
       "      <td>en</td>\n",
       "    </tr>\n",
       "    <tr>\n",
       "      <th>3</th>\n",
       "      <td>INC000016480392</td>\n",
       "      <td>Aftermarket Application</td>\n",
       "      <td>AANA-RP-ATL</td>\n",
       "      <td>Low</td>\n",
       "      <td>NaN</td>\n",
       "      <td>19-JUL-19</td>\n",
       "      <td>Failure</td>\n",
       "      <td>Distribution Warehouse Management - RBEI</td>\n",
       "      <td>22-JUL-19</td>\n",
       "      <td>DUA1/180/Simple/WO\\nProblem - DLx/WMS POD C - ...</td>\n",
       "      <td>D- Problem - DLx/WMS POD C - Order # 1578209 w...</td>\n",
       "      <td>en</td>\n",
       "    </tr>\n",
       "    <tr>\n",
       "      <th>4</th>\n",
       "      <td>INC000016489059</td>\n",
       "      <td>UC4-Failure; EUP7-1401: Job-Failure 1915068588...</td>\n",
       "      <td>PRA-SALES-AND-DISTRIBUTION</td>\n",
       "      <td>Low</td>\n",
       "      <td>NaN</td>\n",
       "      <td>22-JUL-19</td>\n",
       "      <td>Failure</td>\n",
       "      <td>SD - EXT RBEI</td>\n",
       "      <td>22-JUL-19</td>\n",
       "      <td>HMB2/90/Simple\\nFor Recovery actions please ra...</td>\n",
       "      <td>P: Job DC_US10_SD10148_RBR1_A_PPIF_DOCU failed...</td>\n",
       "      <td>en</td>\n",
       "    </tr>\n",
       "  </tbody>\n",
       "</table>\n",
       "</div>"
      ],
      "text/plain": [
       "   INCIDENT_NUMBER                                        DESCRIPTION  \\\n",
       "0  INC000016479136                            Aftermarket Application   \n",
       "1  INC000016480371                                    Power Tools DLx   \n",
       "2  INC000016480382                            Aftermarket Application   \n",
       "3  INC000016480392                            Aftermarket Application   \n",
       "4  INC000016489059  UC4-Failure; EUP7-1401: Job-Failure 1915068588...   \n",
       "\n",
       "                      SERVICE PRIORITY MASTER_INCIDENT_NUMBER  \\\n",
       "0                 AANA-RP-RMV      Low                    NaN   \n",
       "1                 PTNA-RP-WEM      Low                    NaN   \n",
       "2                 AANA-RP-RMV      Low                    NaN   \n",
       "3                 AANA-RP-ATL      Low                    NaN   \n",
       "4  PRA-SALES-AND-DISTRIBUTION      Low                    NaN   \n",
       "\n",
       "  REPORTED_DATE_GMT OPERATIONAL_CATEGORY_TIER_1  \\\n",
       "0         19-JUL-19                     Failure   \n",
       "1         19-JUL-19                     Failure   \n",
       "2         19-JUL-19                     Failure   \n",
       "3         19-JUL-19                     Failure   \n",
       "4         22-JUL-19                     Failure   \n",
       "\n",
       "                     ASSIGNED_SUPPORT_GROUP LAST_SOLVED_DATE_GMT  \\\n",
       "0  Distribution Warehouse Management - RBEI            22-JUL-19   \n",
       "1  Distribution Warehouse Management - RBEI            22-JUL-19   \n",
       "2  Distribution Warehouse Management - RBEI            22-JUL-19   \n",
       "3  Distribution Warehouse Management - RBEI            22-JUL-19   \n",
       "4                             SD - EXT RBEI            22-JUL-19   \n",
       "\n",
       "                                 DETAILED_DECRIPTION  \\\n",
       "0  CAL1/120/Simple/Data_Base_Issue\\nProblem - DLx...   \n",
       "1  CAL1/120/Simple/Manifest\\nProblem with DLx - O...   \n",
       "2  CAL1/120/Simple/Shipping\\nProblem - DLx/WMS AA...   \n",
       "3  DUA1/180/Simple/WO\\nProblem - DLx/WMS POD C - ...   \n",
       "4  HMB2/90/Simple\\nFor Recovery actions please ra...   \n",
       "\n",
       "                                          RESOLUTION Language  \n",
       "0  D - Released work is going into work assignmen...       en  \n",
       "1  D - 0113776884 1 box for order manifested and ...       en  \n",
       "2  D - Order number 495114 throws an error messag...       en  \n",
       "3  D- Problem - DLx/WMS POD C - Order # 1578209 w...       en  \n",
       "4  P: Job DC_US10_SD10148_RBR1_A_PPIF_DOCU failed...       en  "
      ]
     },
     "execution_count": 52,
     "metadata": {},
     "output_type": "execute_result"
    }
   ],
   "source": [
    "df_en.head()"
   ]
  },
  {
   "cell_type": "code",
   "execution_count": 53,
   "id": "biblical-continuity",
   "metadata": {},
   "outputs": [
    {
     "data": {
      "text/plain": [
       "'CAL1/120/Simple/Manifest\\nProblem with DLx - OTHER - INDICATE BELOW, Description: 0113776884 1 box for order manifested and the rest have and error message.  Invalid package count or invalid sequence number.'"
      ]
     },
     "execution_count": 53,
     "metadata": {},
     "output_type": "execute_result"
    }
   ],
   "source": [
    "df_en['DETAILED_DECRIPTION'][1]"
   ]
  },
  {
   "cell_type": "code",
   "execution_count": 54,
   "id": "shaped-gather",
   "metadata": {},
   "outputs": [],
   "source": [
    "# Here the situation is we need to rplace the punctuation and with space (because if we only remove the puncuation then some words will be mixed)"
   ]
  },
  {
   "cell_type": "code",
   "execution_count": 55,
   "id": "systematic-recorder",
   "metadata": {},
   "outputs": [
    {
     "data": {
      "text/plain": [
       "'CAL1 120 Simple Manifest Problem with DLx   OTHER   INDICATE BELOW  Description  0113776884 1 box for order manifested and the rest have and error message   Invalid package count or invalid sequence number '"
      ]
     },
     "execution_count": 55,
     "metadata": {},
     "output_type": "execute_result"
    }
   ],
   "source": [
    "# eg: code\n",
    "k = \"CAL1/120/Simple/Manifest Problem with DLx - OTHER - INDICATE BELOW, Description: 0113776884 1 box for order manifested and the rest have and error message.  Invalid package count or invalid sequence number.\"\n",
    "\n",
    "import string\n",
    "def remove_punct(text):\n",
    "    for i in string.punctuation:\n",
    "        text = text.replace(i,' ')\n",
    "    return text\n",
    "remove_punct(k)"
   ]
  },
  {
   "cell_type": "code",
   "execution_count": 56,
   "id": "closing-campbell",
   "metadata": {},
   "outputs": [
    {
     "name": "stderr",
     "output_type": "stream",
     "text": [
      "<ipython-input-56-5952b60e10f7>:1: SettingWithCopyWarning: \n",
      "A value is trying to be set on a copy of a slice from a DataFrame.\n",
      "Try using .loc[row_indexer,col_indexer] = value instead\n",
      "\n",
      "See the caveats in the documentation: https://pandas.pydata.org/pandas-docs/stable/user_guide/indexing.html#returning-a-view-versus-a-copy\n",
      "  df_en['DETAILED_DECRIPTION'] = df_en['DETAILED_DECRIPTION'].apply(lambda x: ''.join(remove_punct(x)))\n"
     ]
    }
   ],
   "source": [
    "df_en['DETAILED_DECRIPTION'] = df_en['DETAILED_DECRIPTION'].apply(lambda x: ''.join(remove_punct(x)))"
   ]
  },
  {
   "cell_type": "code",
   "execution_count": 57,
   "id": "incorporate-parking",
   "metadata": {},
   "outputs": [
    {
     "data": {
      "text/plain": [
       "'CAL1 120 Simple Manifest\\nProblem with DLx   OTHER   INDICATE BELOW  Description  0113776884 1 box for order manifested and the rest have and error message   Invalid package count or invalid sequence number '"
      ]
     },
     "execution_count": 57,
     "metadata": {},
     "output_type": "execute_result"
    }
   ],
   "source": [
    "df_en['DETAILED_DECRIPTION'][1]"
   ]
  },
  {
   "cell_type": "code",
   "execution_count": 176,
   "id": "adapted-harbor",
   "metadata": {},
   "outputs": [
    {
     "name": "stderr",
     "output_type": "stream",
     "text": [
      "<ipython-input-176-4266a659c915>:2: SettingWithCopyWarning: \n",
      "A value is trying to be set on a copy of a slice from a DataFrame.\n",
      "Try using .loc[row_indexer,col_indexer] = value instead\n",
      "\n",
      "See the caveats in the documentation: https://pandas.pydata.org/pandas-docs/stable/user_guide/indexing.html#returning-a-view-versus-a-copy\n",
      "  df_en[\"DETAILED_DECRIPTION\"] = df_en[\"DETAILED_DECRIPTION\"].apply(lambda x: x.lower())\n"
     ]
    }
   ],
   "source": [
    "# making it as lower case\n",
    "df_en[\"DETAILED_DECRIPTION\"] = df_en[\"DETAILED_DECRIPTION\"].apply(lambda x: x.lower())"
   ]
  },
  {
   "cell_type": "code",
   "execution_count": 59,
   "id": "amateur-speed",
   "metadata": {},
   "outputs": [
    {
     "data": {
      "text/plain": [
       "'cal1 120 simple manifest\\nproblem with dlx   other   indicate below  description  0113776884 1 box for order manifested and the rest have and error message   invalid package count or invalid sequence number '"
      ]
     },
     "execution_count": 59,
     "metadata": {},
     "output_type": "execute_result"
    }
   ],
   "source": [
    "df_en['DETAILED_DECRIPTION'][1]"
   ]
  },
  {
   "cell_type": "code",
   "execution_count": 60,
   "id": "dependent-street",
   "metadata": {},
   "outputs": [
    {
     "name": "stderr",
     "output_type": "stream",
     "text": [
      "<ipython-input-60-3dec28e126ae>:5: SettingWithCopyWarning: \n",
      "A value is trying to be set on a copy of a slice from a DataFrame.\n",
      "Try using .loc[row_indexer,col_indexer] = value instead\n",
      "\n",
      "See the caveats in the documentation: https://pandas.pydata.org/pandas-docs/stable/user_guide/indexing.html#returning-a-view-versus-a-copy\n",
      "  df_en[\"DETAILED_DECRIPTION\"] = df_en[\"DETAILED_DECRIPTION\"].apply(lambda x: ' '.join([i for i in x.split() if i not in STOP_WORDS]))\n"
     ]
    }
   ],
   "source": [
    "#### Removing the stop words\n",
    "from spacy.lang.en.stop_words import STOP_WORDS\n",
    "\n",
    "df_en[\"DETAILED_DECRIPTION\"] = df_en[\"DETAILED_DECRIPTION\"].apply(lambda x: ' '.join([i for i in x.split() if i not in STOP_WORDS]))"
   ]
  },
  {
   "cell_type": "code",
   "execution_count": 61,
   "id": "satisfactory-submission",
   "metadata": {},
   "outputs": [
    {
     "data": {
      "text/plain": [
       "'cal1 120 simple manifest problem dlx indicate description 0113776884 1 box order manifested rest error message invalid package count invalid sequence number'"
      ]
     },
     "execution_count": 61,
     "metadata": {},
     "output_type": "execute_result"
    }
   ],
   "source": [
    "df_en['DETAILED_DECRIPTION'][1]"
   ]
  },
  {
   "cell_type": "code",
   "execution_count": 62,
   "id": "rocky-husband",
   "metadata": {},
   "outputs": [
    {
     "name": "stderr",
     "output_type": "stream",
     "text": [
      "<ipython-input-62-229010da389c>:3: SettingWithCopyWarning: \n",
      "A value is trying to be set on a copy of a slice from a DataFrame.\n",
      "Try using .loc[row_indexer,col_indexer] = value instead\n",
      "\n",
      "See the caveats in the documentation: https://pandas.pydata.org/pandas-docs/stable/user_guide/indexing.html#returning-a-view-versus-a-copy\n",
      "  df_en['DETAILED_DECRIPTION'] = df_en['DETAILED_DECRIPTION'].apply(lambda x: ''.join([i for i in x if i not in string.digits]))\n"
     ]
    }
   ],
   "source": [
    "# Removing the numbers\n",
    "\n",
    "df_en['DETAILED_DECRIPTION'] = df_en['DETAILED_DECRIPTION'].apply(lambda x: ''.join([i for i in x if i not in string.digits]))"
   ]
  },
  {
   "cell_type": "code",
   "execution_count": 63,
   "id": "knowing-ethernet",
   "metadata": {},
   "outputs": [
    {
     "data": {
      "text/plain": [
       "'cal  simple manifest problem dlx indicate description   box order manifested rest error message invalid package count invalid sequence number'"
      ]
     },
     "execution_count": 63,
     "metadata": {},
     "output_type": "execute_result"
    }
   ],
   "source": [
    "df_en['DETAILED_DECRIPTION'][1]"
   ]
  },
  {
   "cell_type": "code",
   "execution_count": 64,
   "id": "governing-baptist",
   "metadata": {},
   "outputs": [
    {
     "data": {
      "text/plain": [
       "'hmb  simple recovery actions raise run request armt https rb armt bosch com jrm sap system pra  sap jobname dc us sd rbr ppif docu uc jobname dc us sd rbr ppif document appifus uc run nr  uc jobplan dc us sd pra  rbr ppif document appifus customer mentioned jobplan documentation angel michio allier sanchez date time msgid nr message         job started         step  started program rbr ppif document variant uc appifus user id uccpic         internal session terminated runtime error sapsql select dbtab changed st         job cancelled               step  program rbr ppif document spoolnumber         step selection screen'"
      ]
     },
     "execution_count": 64,
     "metadata": {},
     "output_type": "execute_result"
    }
   ],
   "source": [
    "df_en['DETAILED_DECRIPTION'][4]"
   ]
  },
  {
   "cell_type": "code",
   "execution_count": 65,
   "id": "flush-modem",
   "metadata": {},
   "outputs": [
    {
     "data": {
      "text/plain": [
       "'cal  simple data base issue problem dlx wms aa jda released work going work assignment allowing pick orders attachment'"
      ]
     },
     "execution_count": 65,
     "metadata": {},
     "output_type": "execute_result"
    }
   ],
   "source": [
    "df_en['DETAILED_DECRIPTION'][0]"
   ]
  },
  {
   "cell_type": "code",
   "execution_count": 66,
   "id": "bottom-separation",
   "metadata": {},
   "outputs": [
    {
     "name": "stderr",
     "output_type": "stream",
     "text": [
      "<ipython-input-66-d3b502af6e65>:6: SettingWithCopyWarning: \n",
      "A value is trying to be set on a copy of a slice from a DataFrame.\n",
      "Try using .loc[row_indexer,col_indexer] = value instead\n",
      "\n",
      "See the caveats in the documentation: https://pandas.pydata.org/pandas-docs/stable/user_guide/indexing.html#returning-a-view-versus-a-copy\n",
      "  df_en['NEW_DETAILED_DECRIPTION'] = df_en['DETAILED_DECRIPTION'].apply(lambda x : \" \".join([y.lemma_ for y in en_core(x)]))\n"
     ]
    }
   ],
   "source": [
    "# Doing Lemmitization\n",
    "\n",
    "import spacy\n",
    "en_core = spacy.load('en_core_web_sm')\n",
    "\n",
    "df_en['NEW_DETAILED_DECRIPTION'] = df_en['DETAILED_DECRIPTION'].apply(lambda x : \" \".join([y.lemma_ for y in en_core(x)]))"
   ]
  },
  {
   "cell_type": "code",
   "execution_count": 67,
   "id": "japanese-smile",
   "metadata": {},
   "outputs": [
    {
     "data": {
      "text/plain": [
       "'cal   simple data base issue problem dlx wms aa jda release work go work assignment allow pick order attachment'"
      ]
     },
     "execution_count": 67,
     "metadata": {},
     "output_type": "execute_result"
    }
   ],
   "source": [
    "df_en['NEW_DETAILED_DECRIPTION'][0]"
   ]
  },
  {
   "cell_type": "code",
   "execution_count": 80,
   "id": "assisted-separate",
   "metadata": {},
   "outputs": [
    {
     "name": "stderr",
     "output_type": "stream",
     "text": [
      "c:\\users\\lokes\\appdata\\local\\programs\\python\\python38\\lib\\site-packages\\IPython\\core\\interactiveshell.py:3437: SettingWithCopyWarning: \n",
      "A value is trying to be set on a copy of a slice from a DataFrame\n",
      "\n",
      "See the caveats in the documentation: https://pandas.pydata.org/pandas-docs/stable/user_guide/indexing.html#returning-a-view-versus-a-copy\n",
      "  exec(code_obj, self.user_global_ns, self.user_ns)\n"
     ]
    }
   ],
   "source": [
    "import nltk\n",
    "words = set(nltk.corpus.words.words())\n",
    "\n",
    "var = df_en.loc[:, \"NEW_DETAILED_DECRIPTION\"]\n",
    "\n",
    "for i in range(len(var)):\n",
    "    df_en[\"NEW_NEW_DETAILED_DECRIPTION\"][i] = \" \".join(w for w in nltk.wordpunct_tokenize(var[i]) if w.lower() in words or not w.isalpha())\n"
   ]
  },
  {
   "cell_type": "code",
   "execution_count": 83,
   "id": "improved-nepal",
   "metadata": {},
   "outputs": [
    {
     "data": {
      "text/plain": [
       "0       cal simple data base issue problem aa release ...\n",
       "1       cal simple manifest problem indicate descripti...\n",
       "2       cal simple shipping problem aa order number th...\n",
       "3       simple wo problem pod c order book part system...\n",
       "4       simple recovery action raise run request bosch...\n",
       "                              ...                        \n",
       "4279    initiator script define vis view raster d datu...\n",
       "4280    vendor n na na request transfer ticket system ...\n",
       "4281    vas e e v v na answer question q user i d e g ...\n",
       "4282    poe delivery find shipment specific user n req...\n",
       "4283    simple po approval po approval error hello use...\n",
       "Name: NEW_NEW_DETAILED_DECRIPTION, Length: 4284, dtype: object"
      ]
     },
     "execution_count": 83,
     "metadata": {},
     "output_type": "execute_result"
    }
   ],
   "source": [
    "df_en[\"NEW_NEW_DETAILED_DECRIPTION\"]"
   ]
  },
  {
   "cell_type": "markdown",
   "id": "protecting-oasis",
   "metadata": {},
   "source": [
    "#### Analysing the target column"
   ]
  },
  {
   "cell_type": "code",
   "execution_count": 87,
   "id": "pressing-sport",
   "metadata": {},
   "outputs": [
    {
     "data": {
      "text/plain": [
       "Procurement - RBEI                            856\n",
       "SD - RBEI                                     295\n",
       "Mechanics                                     212\n",
       "Procurement – RBEI – EXT                      193\n",
       "Accounting Financials - RBEI                  189\n",
       "                                             ... \n",
       "Logistics DC                                    1\n",
       "Time to Market - PDM/PLM - EXT                  1\n",
       "CI/BMB-NA Business Intelligence                 1\n",
       "Purchasing and Procurement - RBEI L3 - EXT      1\n",
       "Manufacturing and Logistics I4.0 - RBEI         1\n",
       "Name: ASSIGNED_SUPPORT_GROUP, Length: 108, dtype: int64"
      ]
     },
     "execution_count": 87,
     "metadata": {},
     "output_type": "execute_result"
    }
   ],
   "source": [
    "df_en['ASSIGNED_SUPPORT_GROUP'].value_counts()"
   ]
  },
  {
   "cell_type": "code",
   "execution_count": 88,
   "id": "romantic-validity",
   "metadata": {},
   "outputs": [
    {
     "data": {
      "text/plain": [
       "<AxesSubplot:>"
      ]
     },
     "execution_count": 88,
     "metadata": {},
     "output_type": "execute_result"
    },
    {
     "data": {
      "image/png": "[encoded data removed]",
      "text/plain": [
       "<Figure size 432x288 with 1 Axes>"
      ]
     },
     "metadata": {},
     "output_type": "display_data"
    }
   ],
   "source": [
    "df_en['ASSIGNED_SUPPORT_GROUP'].value_counts()[:20].plot(kind = 'barh')"
   ]
  },
  {
   "cell_type": "markdown",
   "id": "careful-transmission",
   "metadata": {},
   "source": [
    "#### TFIDF-Vectorization"
   ]
  },
  {
   "cell_type": "code",
   "execution_count": 111,
   "id": "north-northeast",
   "metadata": {},
   "outputs": [],
   "source": [
    "from sklearn.feature_extraction.text import TfidfVectorizer\n",
    "vec = TfidfVectorizer(max_features = 2500)\n",
    "tfidf_vectors = vec.fit_transform(df_en['NEW_NEW_DETAILED_DECRIPTION'])"
   ]
  },
  {
   "cell_type": "code",
   "execution_count": 112,
   "id": "noted-explanation",
   "metadata": {},
   "outputs": [
    {
     "data": {
      "text/plain": [
       "<4284x2500 sparse matrix of type '<class 'numpy.float64'>'\n",
       "\twith 214262 stored elements in Compressed Sparse Row format>"
      ]
     },
     "execution_count": 112,
     "metadata": {},
     "output_type": "execute_result"
    }
   ],
   "source": [
    "tfidf_vectors"
   ]
  },
  {
   "cell_type": "code",
   "execution_count": 113,
   "id": "critical-while",
   "metadata": {},
   "outputs": [
    {
     "data": {
      "text/plain": [
       "4264    new new new po approval po approval error hell...\n",
       "4265    dear team report long run show secure connecti...\n",
       "4266    simple sale order issue sap p flux de facture ...\n",
       "4267    opening spray configuration follow warning rep...\n",
       "4268    gen simple po approval po approval error reque...\n",
       "4269    simple job failure hello team job ae rep ae p ...\n",
       "4270    simple system operation asynchronous system be...\n",
       "4271    pry unable open file project management q modu...\n",
       "4272    ray simple approval approval error answer ques...\n",
       "4273    distribute account na na t het en het van de s...\n",
       "4274    gaj simple po dear colleague help trigger crea...\n",
       "4275    simple translate answer information ticket q s...\n",
       "4276    material trigger tango n na n answer question ...\n",
       "4277    simple approval handle request transfer ticket...\n",
       "4278    q call q error message display possible add \" ...\n",
       "4279    initiator script define vis view raster d datu...\n",
       "4280    vendor n na na request transfer ticket system ...\n",
       "4281    vas e e v v na answer question q user i d e g ...\n",
       "4282    poe delivery find shipment specific user n req...\n",
       "4283    simple po approval po approval error hello use...\n",
       "Name: NEW_NEW_DETAILED_DECRIPTION, dtype: object"
      ]
     },
     "execution_count": 113,
     "metadata": {},
     "output_type": "execute_result"
    }
   ],
   "source": [
    "df_en['NEW_NEW_DETAILED_DECRIPTION'].tail(20)"
   ]
  },
  {
   "cell_type": "code",
   "execution_count": 114,
   "id": "happy-section",
   "metadata": {},
   "outputs": [
    {
     "data": {
      "text/html": [
       "<div>\n",
       "<style scoped>\n",
       "    .dataframe tbody tr th:only-of-type {\n",
       "        vertical-align: middle;\n",
       "    }\n",
       "\n",
       "    .dataframe tbody tr th {\n",
       "        vertical-align: top;\n",
       "    }\n",
       "\n",
       "    .dataframe thead th {\n",
       "        text-align: right;\n",
       "    }\n",
       "</style>\n",
       "<table border=\"1\" class=\"dataframe\">\n",
       "  <thead>\n",
       "    <tr style=\"text-align: right;\">\n",
       "      <th></th>\n",
       "      <th>aa</th>\n",
       "      <th>able</th>\n",
       "      <th>abnormal</th>\n",
       "      <th>abnormally</th>\n",
       "      <th>abort</th>\n",
       "      <th>abortion</th>\n",
       "      <th>about</th>\n",
       "      <th>absence</th>\n",
       "      <th>absolutely</th>\n",
       "      <th>acceder</th>\n",
       "      <th>...</th>\n",
       "      <th>yo</th>\n",
       "      <th>you</th>\n",
       "      <th>yuan</th>\n",
       "      <th>za</th>\n",
       "      <th>zebra</th>\n",
       "      <th>zee</th>\n",
       "      <th>zero</th>\n",
       "      <th>zip</th>\n",
       "      <th>zipper</th>\n",
       "      <th>zone</th>\n",
       "    </tr>\n",
       "  </thead>\n",
       "  <tbody>\n",
       "    <tr>\n",
       "      <th>0</th>\n",
       "      <td>0.207324</td>\n",
       "      <td>0.0</td>\n",
       "      <td>0.0</td>\n",
       "      <td>0.0</td>\n",
       "      <td>0.0</td>\n",
       "      <td>0.0</td>\n",
       "      <td>0.0</td>\n",
       "      <td>0.0</td>\n",
       "      <td>0.0</td>\n",
       "      <td>0.0</td>\n",
       "      <td>...</td>\n",
       "      <td>0.0</td>\n",
       "      <td>0.0</td>\n",
       "      <td>0.0</td>\n",
       "      <td>0.0</td>\n",
       "      <td>0.0</td>\n",
       "      <td>0.0</td>\n",
       "      <td>0.0</td>\n",
       "      <td>0.0</td>\n",
       "      <td>0.0</td>\n",
       "      <td>0.0</td>\n",
       "    </tr>\n",
       "    <tr>\n",
       "      <th>1</th>\n",
       "      <td>0.000000</td>\n",
       "      <td>0.0</td>\n",
       "      <td>0.0</td>\n",
       "      <td>0.0</td>\n",
       "      <td>0.0</td>\n",
       "      <td>0.0</td>\n",
       "      <td>0.0</td>\n",
       "      <td>0.0</td>\n",
       "      <td>0.0</td>\n",
       "      <td>0.0</td>\n",
       "      <td>...</td>\n",
       "      <td>0.0</td>\n",
       "      <td>0.0</td>\n",
       "      <td>0.0</td>\n",
       "      <td>0.0</td>\n",
       "      <td>0.0</td>\n",
       "      <td>0.0</td>\n",
       "      <td>0.0</td>\n",
       "      <td>0.0</td>\n",
       "      <td>0.0</td>\n",
       "      <td>0.0</td>\n",
       "    </tr>\n",
       "    <tr>\n",
       "      <th>2</th>\n",
       "      <td>0.177382</td>\n",
       "      <td>0.0</td>\n",
       "      <td>0.0</td>\n",
       "      <td>0.0</td>\n",
       "      <td>0.0</td>\n",
       "      <td>0.0</td>\n",
       "      <td>0.0</td>\n",
       "      <td>0.0</td>\n",
       "      <td>0.0</td>\n",
       "      <td>0.0</td>\n",
       "      <td>...</td>\n",
       "      <td>0.0</td>\n",
       "      <td>0.0</td>\n",
       "      <td>0.0</td>\n",
       "      <td>0.0</td>\n",
       "      <td>0.0</td>\n",
       "      <td>0.0</td>\n",
       "      <td>0.0</td>\n",
       "      <td>0.0</td>\n",
       "      <td>0.0</td>\n",
       "      <td>0.0</td>\n",
       "    </tr>\n",
       "    <tr>\n",
       "      <th>3</th>\n",
       "      <td>0.000000</td>\n",
       "      <td>0.0</td>\n",
       "      <td>0.0</td>\n",
       "      <td>0.0</td>\n",
       "      <td>0.0</td>\n",
       "      <td>0.0</td>\n",
       "      <td>0.0</td>\n",
       "      <td>0.0</td>\n",
       "      <td>0.0</td>\n",
       "      <td>0.0</td>\n",
       "      <td>...</td>\n",
       "      <td>0.0</td>\n",
       "      <td>0.0</td>\n",
       "      <td>0.0</td>\n",
       "      <td>0.0</td>\n",
       "      <td>0.0</td>\n",
       "      <td>0.0</td>\n",
       "      <td>0.0</td>\n",
       "      <td>0.0</td>\n",
       "      <td>0.0</td>\n",
       "      <td>0.0</td>\n",
       "    </tr>\n",
       "    <tr>\n",
       "      <th>4</th>\n",
       "      <td>0.000000</td>\n",
       "      <td>0.0</td>\n",
       "      <td>0.0</td>\n",
       "      <td>0.0</td>\n",
       "      <td>0.0</td>\n",
       "      <td>0.0</td>\n",
       "      <td>0.0</td>\n",
       "      <td>0.0</td>\n",
       "      <td>0.0</td>\n",
       "      <td>0.0</td>\n",
       "      <td>...</td>\n",
       "      <td>0.0</td>\n",
       "      <td>0.0</td>\n",
       "      <td>0.0</td>\n",
       "      <td>0.0</td>\n",
       "      <td>0.0</td>\n",
       "      <td>0.0</td>\n",
       "      <td>0.0</td>\n",
       "      <td>0.0</td>\n",
       "      <td>0.0</td>\n",
       "      <td>0.0</td>\n",
       "    </tr>\n",
       "  </tbody>\n",
       "</table>\n",
       "<p>5 rows × 2500 columns</p>\n",
       "</div>"
      ],
      "text/plain": [
       "         aa  able  abnormal  abnormally  abort  abortion  about  absence  \\\n",
       "0  0.207324   0.0       0.0         0.0    0.0       0.0    0.0      0.0   \n",
       "1  0.000000   0.0       0.0         0.0    0.0       0.0    0.0      0.0   \n",
       "2  0.177382   0.0       0.0         0.0    0.0       0.0    0.0      0.0   \n",
       "3  0.000000   0.0       0.0         0.0    0.0       0.0    0.0      0.0   \n",
       "4  0.000000   0.0       0.0         0.0    0.0       0.0    0.0      0.0   \n",
       "\n",
       "   absolutely  acceder  ...   yo  you  yuan   za  zebra  zee  zero  zip  \\\n",
       "0         0.0      0.0  ...  0.0  0.0   0.0  0.0    0.0  0.0   0.0  0.0   \n",
       "1         0.0      0.0  ...  0.0  0.0   0.0  0.0    0.0  0.0   0.0  0.0   \n",
       "2         0.0      0.0  ...  0.0  0.0   0.0  0.0    0.0  0.0   0.0  0.0   \n",
       "3         0.0      0.0  ...  0.0  0.0   0.0  0.0    0.0  0.0   0.0  0.0   \n",
       "4         0.0      0.0  ...  0.0  0.0   0.0  0.0    0.0  0.0   0.0  0.0   \n",
       "\n",
       "   zipper  zone  \n",
       "0     0.0   0.0  \n",
       "1     0.0   0.0  \n",
       "2     0.0   0.0  \n",
       "3     0.0   0.0  \n",
       "4     0.0   0.0  \n",
       "\n",
       "[5 rows x 2500 columns]"
      ]
     },
     "execution_count": 114,
     "metadata": {},
     "output_type": "execute_result"
    }
   ],
   "source": [
    "new_df = pd.DataFrame(tfidf_vectors.toarray(), columns = vec.get_feature_names())\n",
    "new_df.head()"
   ]
  },
  {
   "cell_type": "code",
   "execution_count": 92,
   "id": "valued-berkeley",
   "metadata": {},
   "outputs": [
    {
     "name": "stdout",
     "output_type": "stream",
     "text": [
      "Procurement - RBEI                            856\n",
      "SD - RBEI                                     295\n",
      "Mechanics                                     212\n",
      "Procurement – RBEI – EXT                      193\n",
      "Accounting Financials - RBEI                  189\n",
      "                                             ... \n",
      "Logistics DC                                    1\n",
      "Time to Market - PDM/PLM - EXT                  1\n",
      "CI/BMB-NA Business Intelligence                 1\n",
      "Purchasing and Procurement - RBEI L3 - EXT      1\n",
      "Manufacturing and Logistics I4.0 - RBEI         1\n",
      "Name: ASSIGNED_SUPPORT_GROUP, Length: 108, dtype: int64\n"
     ]
    }
   ],
   "source": [
    "var = df_en['ASSIGNED_SUPPORT_GROUP'].value_counts()\n",
    "print(var)"
   ]
  },
  {
   "cell_type": "code",
   "execution_count": 93,
   "id": "collected-arthritis",
   "metadata": {},
   "outputs": [
    {
     "name": "stdout",
     "output_type": "stream",
     "text": [
      "['Accounting Financials - RBEI - EXT', 'Extranet & Internet - RBEI', 'Accounting Controlling - RBEI', 'Purchasing and Procurement - RBEI L3', 'Manufacturing and Quality - RBEI - EXT', 'Sales - Order Entry', 'Logistics Planning - EXT - RBEI', 'Electronics', 'IDC Application Mgmt Authorization, Compliance, Usermgmt', 'Time to Market - Product Lifecycle and Product Data Mgmt', 'Human Resources - Personnel Management', 'Purchasing Umbrella', 'Accounting Financial Services - RBEI', 'Manufacturing and Quality', 'iGPM - RBEI - EXT', 'Logistics Planning - RBEI', 'RB CRM FI SSF - RBEI', 'BI BO Platform support - RBEI', 'APEX 2nd Level - RBEI - EXT', 'BI Platform Management', 'Human Resources - RBMX - NA', 'RB CRM HR SSF -  RBEI', 'Accounting Controlling - RBEI - EXT', 'Time to Market - Master Data Management', 'Procurement and Production Logistics, Warehouse Management', 'Time to Market - Project Management', 'iGPM Program', 'Logistics Planning', 'QM - EXT iPoint', 'Human Resources - Personnel Administration', 'Enterprise and Business Planning 4', 'Time to Market - Master Data Management - RBEI - EXT', 'ePLM Services', 'LE-WM IDC - RBEI - EXT', 'Extranet & Internet - NA', 'Purchasing Umbrella - RBEI', 'BI - RBEI 3rd level support', 'Time to Market - Project Management - RBEI - EXT', 'Accounting Financials - Latin America', 'Enterprise and Business Planning 3', 'Audit Management - EXT AHP', 'Digital and Web Business Platforms - 2nd-level', 'Distribution Warehouse Management - EXT IGZ', 'SD - EXT PRICEFX', 'Purchasing SAP-SRM', 'Engineering RBNA', 'BI - RBEI - EXT', 'Application Management - Application Management 2', 'Human Resources - RBEI', 'Distribution Warehouse Management', 'SD - EXT CELLENT', 'Procurement', 'Purchasing - Import - EXT NSI - LA', 'Human Resources - NA', 'Sales - Latin America', 'APEX 3rd level - RBEI', 'Accounting - Controlling', 'RB CRM DC', 'Human Resources - Personnel Administration - DE', 'RB CRM ST', 'Test Center and Simulation Services', 'ARIS - EXT', 'ACS Tax Compliance', 'Accounting - Financials', 'RB CRM TT', 'Human Resources China', 'RB CRM PT', 'Extranet & Internet - LA', 'Time to Market - PDM/PLM - RBEI - EXT', 'Purchasing and Procurement - Latin America', 'Knowledge Based Engineering Services', 'Sales - Export - EXT NSI - LA', 'Application Management - Authorization', 'Digital and Web Business - TT', 'ETLI - EXT Feil', 'RB CRM FI SSF', 'Enterprise and Business Planning 1', 'RB CRM HR SSF', 'Digital Business Interactive 3rd RBEI', 'Time To Market - Master Data Management - EXT', 'FBI Support - Special Ops - KPIs and others', 'Logistics DC', 'Time to Market - PDM/PLM - EXT', 'CI/BMB-NA Business Intelligence', 'Purchasing and Procurement - RBEI L3 - EXT', 'Manufacturing and Logistics I4.0 - RBEI']\n"
     ]
    }
   ],
   "source": [
    "lst = []\n",
    "count = 0\n",
    "for i in var.index:\n",
    "    if var[i] <= 50:\n",
    "        count = count + 1\n",
    "        lst.append(i)\n",
    "    else:\n",
    "        pass\n",
    "print(lst)"
   ]
  },
  {
   "cell_type": "code",
   "execution_count": 94,
   "id": "exciting-reserve",
   "metadata": {},
   "outputs": [
    {
     "name": "stderr",
     "output_type": "stream",
     "text": [
      "c:\\users\\lokes\\appdata\\local\\programs\\python\\python38\\lib\\site-packages\\pandas\\core\\series.py:4509: SettingWithCopyWarning: \n",
      "A value is trying to be set on a copy of a slice from a DataFrame\n",
      "\n",
      "See the caveats in the documentation: https://pandas.pydata.org/pandas-docs/stable/user_guide/indexing.html#returning-a-view-versus-a-copy\n",
      "  return super().replace(\n"
     ]
    }
   ],
   "source": [
    "for i in df_en.loc[:, \"ASSIGNED_SUPPORT_GROUP\"]:\n",
    "    if i in lst:\n",
    "        df_en['ASSIGNED_SUPPORT_GROUP'].replace(to_replace = i, value = 'OTHERS', inplace=True)"
   ]
  },
  {
   "cell_type": "code",
   "execution_count": 95,
   "id": "persistent-flour",
   "metadata": {},
   "outputs": [
    {
     "data": {
      "text/plain": [
       "Procurement - RBEI                                            856\n",
       "OTHERS                                                        844\n",
       "SD - RBEI                                                     295\n",
       "Mechanics                                                     212\n",
       "Procurement – RBEI – EXT                                      193\n",
       "Accounting Financials - RBEI                                  189\n",
       "BI IDC - RBEI                                                 182\n",
       "LE-WM IDC - RBEI                                              137\n",
       "Distribution Warehouse Management - RBEI                      134\n",
       "Manufacturing and Quality - RBEI                              134\n",
       "Time To Market - Master Data Management - RBEI                130\n",
       "SD - EXT RBEI                                                 124\n",
       "APMonitor - RBEI                                              107\n",
       "iGPM - RBEI                                                    96\n",
       "Service Catalog Management                                     88\n",
       "Development Platform Java                                      84\n",
       "RB CRM - RBEI                                                  81\n",
       "Time to Market - PDM/PLM - RBEI                                80\n",
       "Regional Support India                                         74\n",
       "RB CRM - RBEI - EXT                                            72\n",
       "Enterprise and Business Planning 6                             60\n",
       "Time to Market - Project Management - RBEI                     58\n",
       "IT Infrastructure Monitoring, Reporting, Metrics worldwide     54\n",
       "Name: ASSIGNED_SUPPORT_GROUP, dtype: int64"
      ]
     },
     "execution_count": 95,
     "metadata": {},
     "output_type": "execute_result"
    }
   ],
   "source": [
    "df_en['ASSIGNED_SUPPORT_GROUP'].value_counts()"
   ]
  },
  {
   "cell_type": "markdown",
   "id": "concerned-performer",
   "metadata": {},
   "source": [
    "#### Mapping all targets values to numbers"
   ]
  },
  {
   "cell_type": "code",
   "execution_count": 116,
   "id": "original-glossary",
   "metadata": {},
   "outputs": [],
   "source": [
    "# taking keys in a list and values in a range of length of nunique\n",
    "\n",
    "keys = list(df_en['ASSIGNED_SUPPORT_GROUP'].unique())\n",
    "values = range(df_en['ASSIGNED_SUPPORT_GROUP'].nunique())"
   ]
  },
  {
   "cell_type": "code",
   "execution_count": 117,
   "id": "median-knitting",
   "metadata": {},
   "outputs": [
    {
     "name": "stdout",
     "output_type": "stream",
     "text": [
      "{'Distribution Warehouse Management - RBEI': 0, 'SD - EXT RBEI': 1, 'OTHERS': 2, 'Manufacturing and Quality - RBEI': 3, 'Accounting Financials - RBEI': 4, 'BI IDC - RBEI': 5, 'Mechanics': 6, 'SD - RBEI': 7, 'Service Catalog Management': 8, 'Procurement - RBEI': 9, 'iGPM - RBEI': 10, 'Time to Market - PDM/PLM - RBEI': 11, 'Procurement – RBEI – EXT': 12, 'Enterprise and Business Planning 6': 13, 'APMonitor - RBEI': 14, 'Regional Support India': 15, 'Time to Market - Project Management - RBEI': 16, 'Time To Market - Master Data Management - RBEI': 17, 'IT Infrastructure Monitoring, Reporting, Metrics worldwide': 18, 'LE-WM IDC - RBEI': 19, 'RB CRM - RBEI - EXT': 20, 'RB CRM - RBEI': 21, 'Development Platform Java': 22}\n"
     ]
    }
   ],
   "source": [
    "dict_map = dict(zip(keys, values))\n",
    "print(dict_map)"
   ]
  },
  {
   "cell_type": "code",
   "execution_count": 118,
   "id": "surprised-treat",
   "metadata": {},
   "outputs": [
    {
     "name": "stderr",
     "output_type": "stream",
     "text": [
      "<ipython-input-118-0cc175a5ad9b>:3: SettingWithCopyWarning: \n",
      "A value is trying to be set on a copy of a slice from a DataFrame.\n",
      "Try using .loc[row_indexer,col_indexer] = value instead\n",
      "\n",
      "See the caveats in the documentation: https://pandas.pydata.org/pandas-docs/stable/user_guide/indexing.html#returning-a-view-versus-a-copy\n",
      "  df_en['NEW_ASSIGNED_SUPPORT_GROUP'] = df_en['ASSIGNED_SUPPORT_GROUP'].map(dict_map)\n"
     ]
    }
   ],
   "source": [
    "# Mapping these 0,1,2 .....153  to the 'ASSIGNED_SUPPORT_GROUP' column\n",
    "\n",
    "df_en['NEW_ASSIGNED_SUPPORT_GROUP'] = df_en['ASSIGNED_SUPPORT_GROUP'].map(dict_map)"
   ]
  },
  {
   "cell_type": "code",
   "execution_count": 119,
   "id": "breathing-suffering",
   "metadata": {},
   "outputs": [
    {
     "data": {
      "text/plain": [
       "0        0\n",
       "1        0\n",
       "2        0\n",
       "3        0\n",
       "4        1\n",
       "        ..\n",
       "4279     6\n",
       "4280    17\n",
       "4281     2\n",
       "4282     7\n",
       "4283     9\n",
       "Name: NEW_ASSIGNED_SUPPORT_GROUP, Length: 4284, dtype: int64"
      ]
     },
     "execution_count": 119,
     "metadata": {},
     "output_type": "execute_result"
    }
   ],
   "source": [
    "df_en['NEW_ASSIGNED_SUPPORT_GROUP']"
   ]
  },
  {
   "cell_type": "code",
   "execution_count": 121,
   "id": "concerned-oxford",
   "metadata": {},
   "outputs": [],
   "source": [
    "X = new_df\n",
    "y = df_en['NEW_ASSIGNED_SUPPORT_GROUP']"
   ]
  },
  {
   "cell_type": "code",
   "execution_count": 122,
   "id": "adopted-terrain",
   "metadata": {},
   "outputs": [],
   "source": [
    "#### Since the output is imbalanced we need to convert to the balanced data\n",
    "#### Oversampling using smotetomek\n",
    "\n",
    "from imblearn.combine import SMOTETomek\n",
    "smk = SMOTETomek(random_state = 42)"
   ]
  },
  {
   "cell_type": "code",
   "execution_count": 124,
   "id": "olive-treasure",
   "metadata": {},
   "outputs": [],
   "source": [
    "X_res, y_res = smk.fit_resample(X, y)"
   ]
  },
  {
   "cell_type": "code",
   "execution_count": 127,
   "id": "charming-sellers",
   "metadata": {},
   "outputs": [
    {
     "name": "stdout",
     "output_type": "stream",
     "text": [
      "Original Dataset Shape Counter({9: 856, 2: 844, 7: 295, 6: 212, 12: 193, 4: 189, 5: 182, 19: 137, 0: 134, 3: 134, 17: 130, 1: 124, 14: 107, 10: 96, 8: 88, 22: 84, 21: 81, 11: 80, 15: 74, 20: 72, 13: 60, 16: 58, 18: 54})\n",
      "Resampled Dataset Shape Counter({0: 856, 1: 856, 3: 856, 4: 856, 5: 856, 6: 856, 7: 856, 8: 856, 10: 856, 11: 856, 13: 856, 14: 856, 15: 856, 16: 856, 17: 856, 18: 856, 20: 856, 21: 856, 22: 856, 19: 855, 12: 854, 2: 851, 9: 848})\n"
     ]
    }
   ],
   "source": [
    "from collections import Counter\n",
    "\n",
    "print(\"Original Dataset Shape {}\".format(Counter(y)))\n",
    "print(\"Resampled Dataset Shape {}\".format(Counter(y_res)))"
   ]
  },
  {
   "cell_type": "code",
   "execution_count": 128,
   "id": "faced-sculpture",
   "metadata": {},
   "outputs": [
    {
     "data": {
      "text/plain": [
       "(19672, 2500)"
      ]
     },
     "execution_count": 128,
     "metadata": {},
     "output_type": "execute_result"
    }
   ],
   "source": [
    "X_res.shape"
   ]
  },
  {
   "cell_type": "code",
   "execution_count": 129,
   "id": "refined-dietary",
   "metadata": {},
   "outputs": [
    {
     "data": {
      "text/plain": [
       "pandas.core.frame.DataFrame"
      ]
     },
     "execution_count": 129,
     "metadata": {},
     "output_type": "execute_result"
    }
   ],
   "source": [
    "type(X_res)"
   ]
  },
  {
   "cell_type": "markdown",
   "id": "touched-singapore",
   "metadata": {},
   "source": [
    "## Train Test Split"
   ]
  },
  {
   "cell_type": "code",
   "execution_count": 130,
   "id": "acute-kentucky",
   "metadata": {},
   "outputs": [],
   "source": [
    "from sklearn.model_selection import train_test_split\n",
    "X_train, X_test, y_train, y_test = train_test_split(X_res, y_res, test_size = 0.2)"
   ]
  },
  {
   "cell_type": "markdown",
   "id": "proud-colony",
   "metadata": {},
   "source": [
    "# logistic reegression"
   ]
  },
  {
   "cell_type": "code",
   "execution_count": 131,
   "id": "immediate-tulsa",
   "metadata": {},
   "outputs": [],
   "source": [
    "from sklearn.linear_model import LogisticRegression\n",
    "log = LogisticRegression(max_iter = 200)\n",
    "log_model = log.fit(X_train, y_train)"
   ]
  },
  {
   "cell_type": "code",
   "execution_count": 132,
   "id": "final-programmer",
   "metadata": {},
   "outputs": [
    {
     "name": "stdout",
     "output_type": "stream",
     "text": [
      "0.8889453621346887\n"
     ]
    }
   ],
   "source": [
    "y_pred = log_model.predict(X_test)\n",
    "\n",
    "from sklearn.metrics import accuracy_score\n",
    "score = accuracy_score(y_pred, y_test)\n",
    "print(score)"
   ]
  },
  {
   "cell_type": "markdown",
   "id": "prescribed-billion",
   "metadata": {},
   "source": [
    "# knn classifier"
   ]
  },
  {
   "cell_type": "code",
   "execution_count": 133,
   "id": "nominated-georgia",
   "metadata": {},
   "outputs": [],
   "source": [
    "#First we take k value 1 then we check the model then in the below we can understand how to select k value\n",
    "\n",
    "from sklearn.neighbors import KNeighborsClassifier\n",
    "knn = KNeighborsClassifier(n_neighbors = 1) # n_neighbors is the k value\n",
    "knn_model = knn.fit(X_train, y_train)"
   ]
  },
  {
   "cell_type": "code",
   "execution_count": 134,
   "id": "finnish-equivalent",
   "metadata": {},
   "outputs": [],
   "source": [
    "y_pred = knn_model.predict(X_test)"
   ]
  },
  {
   "cell_type": "code",
   "execution_count": 135,
   "id": "international-valentine",
   "metadata": {},
   "outputs": [
    {
     "name": "stdout",
     "output_type": "stream",
     "text": [
      "0.9445997458703939\n"
     ]
    }
   ],
   "source": [
    "from sklearn.metrics import accuracy_score\n",
    "score = accuracy_score(y_pred, y_test)\n",
    "print(score)"
   ]
  },
  {
   "cell_type": "code",
   "execution_count": 136,
   "id": "significant-orlando",
   "metadata": {},
   "outputs": [],
   "source": [
    "error_rate = []\n",
    "\n",
    "for i in range(1, 40):\n",
    "    knn = KNeighborsClassifier(n_neighbors = i)\n",
    "    knn_model = knn.fit(X_train, y_train)\n",
    "    pred_i = knn_model.predict(X_test)\n",
    "    error_rate.append(np.mean(pred_i != y_test))"
   ]
  },
  {
   "cell_type": "code",
   "execution_count": 137,
   "id": "overall-shoot",
   "metadata": {},
   "outputs": [
    {
     "data": {
      "text/plain": [
       "Text(0, 0.5, 'Error Rate')"
      ]
     },
     "execution_count": 137,
     "metadata": {},
     "output_type": "execute_result"
    },
    {
     "data": {
      "image/png": "[encoded data removed]",
      "text/plain": [
       "<Figure size 720x432 with 1 Axes>"
      ]
     },
     "metadata": {},
     "output_type": "display_data"
    }
   ],
   "source": [
    "plt.figure(figsize =(10, 6))\n",
    "plt.plot(range(1, 40), error_rate, color ='blue',\n",
    "                linestyle ='dashed', marker ='o',\n",
    "         markerfacecolor ='red', markersize = 10)\n",
    "  \n",
    "plt.title('Error Rate vs. K Value')\n",
    "plt.xlabel('K value')\n",
    "plt.ylabel('Error Rate')"
   ]
  },
  {
   "cell_type": "markdown",
   "id": "wired-nylon",
   "metadata": {},
   "source": [
    "# Naive Bayes - GaussianNB"
   ]
  },
  {
   "cell_type": "code",
   "execution_count": 138,
   "id": "welsh-imagination",
   "metadata": {},
   "outputs": [
    {
     "data": {
      "text/plain": [
       "GaussianNB()"
      ]
     },
     "execution_count": 138,
     "metadata": {},
     "output_type": "execute_result"
    }
   ],
   "source": [
    "from sklearn.naive_bayes import GaussianNB\n",
    "nb_model = GaussianNB()\n",
    "nb_model.fit(X_train, y_train)"
   ]
  },
  {
   "cell_type": "code",
   "execution_count": 139,
   "id": "trained-experience",
   "metadata": {},
   "outputs": [],
   "source": [
    "y_pred = nb_model.predict(X_test)"
   ]
  },
  {
   "cell_type": "code",
   "execution_count": 140,
   "id": "isolated-ethernet",
   "metadata": {},
   "outputs": [
    {
     "name": "stdout",
     "output_type": "stream",
     "text": [
      "0.89428208386277\n"
     ]
    }
   ],
   "source": [
    "from sklearn.metrics import accuracy_score\n",
    "score = accuracy_score(y_pred, y_test)\n",
    "print(score)"
   ]
  },
  {
   "cell_type": "markdown",
   "id": "returning-colonial",
   "metadata": {},
   "source": [
    "# Naive Bayes MultinomialNB"
   ]
  },
  {
   "cell_type": "code",
   "execution_count": 141,
   "id": "aggregate-chemistry",
   "metadata": {},
   "outputs": [
    {
     "data": {
      "text/plain": [
       "MultinomialNB()"
      ]
     },
     "execution_count": 141,
     "metadata": {},
     "output_type": "execute_result"
    }
   ],
   "source": [
    "from sklearn.naive_bayes import MultinomialNB\n",
    "nb_model1 = MultinomialNB()\n",
    "nb_model1.fit(X_train, y_train)\n"
   ]
  },
  {
   "cell_type": "code",
   "execution_count": 142,
   "id": "authentic-recovery",
   "metadata": {},
   "outputs": [
    {
     "name": "stdout",
     "output_type": "stream",
     "text": [
      "0.7382465057179162\n"
     ]
    }
   ],
   "source": [
    "y_pred_m = nb_model1.predict(X_test)\n",
    "\n",
    "from sklearn.metrics import accuracy_score\n",
    "score1 = accuracy_score(y_pred_m, y_test)\n",
    "print(score1)"
   ]
  },
  {
   "cell_type": "markdown",
   "id": "tribal-enforcement",
   "metadata": {},
   "source": [
    "# svm(RBF)"
   ]
  },
  {
   "cell_type": "code",
   "execution_count": 144,
   "id": "useful-dubai",
   "metadata": {},
   "outputs": [],
   "source": [
    "from sklearn.svm import SVC\n",
    "classifier = SVC(kernel = 'rbf')\n",
    "svm_model = classifier.fit(X_train, y_train)\n",
    "\n",
    "y_pred = svm_model.predict(X_test)"
   ]
  },
  {
   "cell_type": "code",
   "execution_count": 145,
   "id": "electoral-enough",
   "metadata": {},
   "outputs": [
    {
     "name": "stdout",
     "output_type": "stream",
     "text": [
      "0.947141041931385\n"
     ]
    }
   ],
   "source": [
    "from sklearn.metrics import accuracy_score\n",
    "score1 = accuracy_score(y_pred, y_test)\n",
    "print(score1)\n"
   ]
  },
  {
   "cell_type": "markdown",
   "id": "sitting-people",
   "metadata": {},
   "source": [
    "# Decision Trees"
   ]
  },
  {
   "cell_type": "code",
   "execution_count": 147,
   "id": "cooperative-telescope",
   "metadata": {},
   "outputs": [],
   "source": [
    "from sklearn.tree import DecisionTreeClassifier\n",
    "dt = DecisionTreeClassifier()\n",
    "dt_model = dt.fit(X_train, y_train)"
   ]
  },
  {
   "cell_type": "code",
   "execution_count": 148,
   "id": "constitutional-egyptian",
   "metadata": {},
   "outputs": [
    {
     "name": "stdout",
     "output_type": "stream",
     "text": [
      "0.9067344345616264\n"
     ]
    }
   ],
   "source": [
    "y_pred = dt_model.predict(X_test)\n",
    "\n",
    "from sklearn.metrics import accuracy_score\n",
    "dt_score = accuracy_score(y_pred, y_test)\n",
    "print(dt_score)"
   ]
  },
  {
   "cell_type": "markdown",
   "id": "domestic-clothing",
   "metadata": {},
   "source": [
    "# Random Forest"
   ]
  },
  {
   "cell_type": "code",
   "execution_count": 149,
   "id": "auburn-announcement",
   "metadata": {},
   "outputs": [],
   "source": [
    "from sklearn.ensemble import RandomForestClassifier\n",
    "rf = RandomForestClassifier(n_estimators=100, random_state=0)\n",
    "rf_model = rf.fit(X_train, y_train)"
   ]
  },
  {
   "cell_type": "code",
   "execution_count": 150,
   "id": "vertical-gazette",
   "metadata": {},
   "outputs": [
    {
     "name": "stdout",
     "output_type": "stream",
     "text": [
      "0.9367217280813215\n"
     ]
    }
   ],
   "source": [
    "y_pred = rf_model.predict(X_test)\n",
    "\n",
    "from sklearn.metrics import accuracy_score\n",
    "dt_score = accuracy_score(y_pred, y_test)\n",
    "print(dt_score)"
   ]
  },
  {
   "cell_type": "markdown",
   "id": "czech-economy",
   "metadata": {},
   "source": [
    "# Ada Boost"
   ]
  },
  {
   "cell_type": "code",
   "execution_count": 151,
   "id": "brutal-selling",
   "metadata": {},
   "outputs": [],
   "source": [
    "from sklearn.ensemble import AdaBoostClassifier\n",
    "ab = AdaBoostClassifier(n_estimators=100, random_state=0)\n",
    "ab_model = rf.fit(X_train, y_train)"
   ]
  },
  {
   "cell_type": "code",
   "execution_count": 152,
   "id": "quality-council",
   "metadata": {},
   "outputs": [
    {
     "name": "stdout",
     "output_type": "stream",
     "text": [
      "0.9367217280813215\n"
     ]
    }
   ],
   "source": [
    "y_pred = ab_model.predict(X_test)\n",
    "\n",
    "from sklearn.metrics import accuracy_score\n",
    "dt_score = accuracy_score(y_pred, y_test)\n",
    "print(dt_score)"
   ]
  },
  {
   "cell_type": "markdown",
   "id": "latin-shock",
   "metadata": {},
   "source": [
    "# XG-Boost"
   ]
  },
  {
   "cell_type": "code",
   "execution_count": 153,
   "id": "royal-flexibility",
   "metadata": {},
   "outputs": [
    {
     "name": "stderr",
     "output_type": "stream",
     "text": [
      "c:\\users\\lokes\\appdata\\local\\programs\\python\\python38\\lib\\site-packages\\xgboost\\sklearn.py:1146: UserWarning: The use of label encoder in XGBClassifier is deprecated and will be removed in a future release. To remove this warning, do the following: 1) Pass option use_label_encoder=False when constructing XGBClassifier object; and 2) Encode your labels (y) as integers starting with 0, i.e. 0, 1, 2, ..., [num_class - 1].\n",
      "  warnings.warn(label_encoder_deprecation_msg, UserWarning)\n"
     ]
    },
    {
     "name": "stdout",
     "output_type": "stream",
     "text": [
      "[23:34:26] WARNING: C:/Users/Administrator/workspace/xgboost-win64_release_1.4.0/src/learner.cc:1095: Starting in XGBoost 1.3.0, the default evaluation metric used with the objective 'multi:softprob' was changed from 'merror' to 'mlogloss'. Explicitly set eval_metric if you'd like to restore the old behavior.\n"
     ]
    }
   ],
   "source": [
    "import xgboost\n",
    "xg = xgboost.XGBClassifier()\n",
    "xgboost_model = xg.fit(X_train, y_train)"
   ]
  },
  {
   "cell_type": "code",
   "execution_count": 154,
   "id": "ideal-implementation",
   "metadata": {},
   "outputs": [
    {
     "name": "stdout",
     "output_type": "stream",
     "text": [
      "0.9367217280813215\n"
     ]
    }
   ],
   "source": [
    "y_pred = ab_model.predict(X_test)\n",
    "\n",
    "from sklearn.metrics import accuracy_score\n",
    "dt_score = accuracy_score(y_pred, y_test)\n",
    "print(dt_score)"
   ]
  },
  {
   "cell_type": "markdown",
   "id": "amber-title",
   "metadata": {},
   "source": [
    "# XG-Boost By Hyper-Parameter Tuning"
   ]
  },
  {
   "cell_type": "code",
   "execution_count": 162,
   "id": "textile-angola",
   "metadata": {},
   "outputs": [],
   "source": [
    "import xgboost\n",
    "from sklearn.model_selection import RandomizedSearchCV, GridSearchCV"
   ]
  },
  {
   "cell_type": "code",
   "execution_count": 163,
   "id": "metallic-collection",
   "metadata": {},
   "outputs": [],
   "source": [
    "classifier = xgboost.XGBClassifier()"
   ]
  },
  {
   "cell_type": "code",
   "execution_count": 164,
   "id": "saved-height",
   "metadata": {},
   "outputs": [],
   "source": [
    "params={\n",
    " \"learning_rate\"    : [0.05, 0.10, 0.15, 0.20, 0.25, 0.30 ] ,\n",
    " \"max_depth\"        : [ 3, 4, 5, 6, 8, 10, 12, 15],\n",
    " \"min_child_weight\" : [ 1, 3, 5, 7 ],\n",
    " \"gamma\"            : [ 0.0, 0.1, 0.2 , 0.3, 0.4 ],\n",
    " \"colsample_bytree\" : [ 0.3, 0.4, 0.5 , 0.7 ] \n",
    "}"
   ]
  },
  {
   "cell_type": "code",
   "execution_count": 167,
   "id": "white-principle",
   "metadata": {},
   "outputs": [],
   "source": [
    "random_search = RandomizedSearchCV(classifier, param_distributions=params, n_iter=5, scoring='roc_auc', cv=3, verbose=3)"
   ]
  },
  {
   "cell_type": "code",
   "execution_count": 168,
   "id": "japanese-transparency",
   "metadata": {
    "collapsed": true,
    "jupyter": {
     "outputs_hidden": true
    },
    "tags": []
   },
   "outputs": [
    {
     "name": "stdout",
     "output_type": "stream",
     "text": [
      "Fitting 3 folds for each of 5 candidates, totalling 15 fits\n"
     ]
    },
    {
     "name": "stderr",
     "output_type": "stream",
     "text": [
      "c:\\users\\lokes\\appdata\\local\\programs\\python\\python38\\lib\\site-packages\\xgboost\\sklearn.py:1146: UserWarning: The use of label encoder in XGBClassifier is deprecated and will be removed in a future release. To remove this warning, do the following: 1) Pass option use_label_encoder=False when constructing XGBClassifier object; and 2) Encode your labels (y) as integers starting with 0, i.e. 0, 1, 2, ..., [num_class - 1].\n",
      "  warnings.warn(label_encoder_deprecation_msg, UserWarning)\n"
     ]
    },
    {
     "name": "stdout",
     "output_type": "stream",
     "text": [
      "[23:46:40] WARNING: C:/Users/Administrator/workspace/xgboost-win64_release_1.4.0/src/learner.cc:1095: Starting in XGBoost 1.3.0, the default evaluation metric used with the objective 'multi:softprob' was changed from 'merror' to 'mlogloss'. Explicitly set eval_metric if you'd like to restore the old behavior.\n"
     ]
    },
    {
     "name": "stderr",
     "output_type": "stream",
     "text": [
      "c:\\users\\lokes\\appdata\\local\\programs\\python\\python38\\lib\\site-packages\\sklearn\\model_selection\\_validation.py:696: UserWarning: Scoring failed. The score on this train-test partition for these parameters will be set to nan. Details: \n",
      "Traceback (most recent call last):\n",
      "  File \"c:\\users\\lokes\\appdata\\local\\programs\\python\\python38\\lib\\site-packages\\sklearn\\model_selection\\_validation.py\", line 687, in _score\n",
      "    ``-1`` means using all processors. See :term:`Glossary <n_jobs>`\n",
      "  File \"c:\\users\\lokes\\appdata\\local\\programs\\python\\python38\\lib\\site-packages\\sklearn\\metrics\\_scorer.py\", line 199, in __call__\n",
      "  File \"c:\\users\\lokes\\appdata\\local\\programs\\python\\python38\\lib\\site-packages\\sklearn\\metrics\\_scorer.py\", line 328, in _score\n",
      "    if sample_weight is not None:\n",
      "ValueError: multiclass format is not supported\n",
      "\n",
      "  pre_dispatch : int or str, default='2*n_jobs'\n",
      "c:\\users\\lokes\\appdata\\local\\programs\\python\\python38\\lib\\site-packages\\xgboost\\sklearn.py:1146: UserWarning: The use of label encoder in XGBClassifier is deprecated and will be removed in a future release. To remove this warning, do the following: 1) Pass option use_label_encoder=False when constructing XGBClassifier object; and 2) Encode your labels (y) as integers starting with 0, i.e. 0, 1, 2, ..., [num_class - 1].\n",
      "  warnings.warn(label_encoder_deprecation_msg, UserWarning)\n"
     ]
    },
    {
     "name": "stdout",
     "output_type": "stream",
     "text": [
      "[CV 1/3] END colsample_bytree=0.7, gamma=0.3, learning_rate=0.05, max_depth=12, min_child_weight=7;, score=nan total time= 5.5min\n",
      "[23:52:10] WARNING: C:/Users/Administrator/workspace/xgboost-win64_release_1.4.0/src/learner.cc:1095: Starting in XGBoost 1.3.0, the default evaluation metric used with the objective 'multi:softprob' was changed from 'merror' to 'mlogloss'. Explicitly set eval_metric if you'd like to restore the old behavior.\n"
     ]
    },
    {
     "name": "stderr",
     "output_type": "stream",
     "text": [
      "c:\\users\\lokes\\appdata\\local\\programs\\python\\python38\\lib\\site-packages\\sklearn\\model_selection\\_validation.py:696: UserWarning: Scoring failed. The score on this train-test partition for these parameters will be set to nan. Details: \n",
      "Traceback (most recent call last):\n",
      "  File \"c:\\users\\lokes\\appdata\\local\\programs\\python\\python38\\lib\\site-packages\\sklearn\\model_selection\\_validation.py\", line 687, in _score\n",
      "    ``-1`` means using all processors. See :term:`Glossary <n_jobs>`\n",
      "  File \"c:\\users\\lokes\\appdata\\local\\programs\\python\\python38\\lib\\site-packages\\sklearn\\metrics\\_scorer.py\", line 199, in __call__\n",
      "  File \"c:\\users\\lokes\\appdata\\local\\programs\\python\\python38\\lib\\site-packages\\sklearn\\metrics\\_scorer.py\", line 328, in _score\n",
      "    if sample_weight is not None:\n",
      "ValueError: multiclass format is not supported\n",
      "\n",
      "  pre_dispatch : int or str, default='2*n_jobs'\n",
      "c:\\users\\lokes\\appdata\\local\\programs\\python\\python38\\lib\\site-packages\\xgboost\\sklearn.py:1146: UserWarning: The use of label encoder in XGBClassifier is deprecated and will be removed in a future release. To remove this warning, do the following: 1) Pass option use_label_encoder=False when constructing XGBClassifier object; and 2) Encode your labels (y) as integers starting with 0, i.e. 0, 1, 2, ..., [num_class - 1].\n",
      "  warnings.warn(label_encoder_deprecation_msg, UserWarning)\n"
     ]
    },
    {
     "name": "stdout",
     "output_type": "stream",
     "text": [
      "[CV 2/3] END colsample_bytree=0.7, gamma=0.3, learning_rate=0.05, max_depth=12, min_child_weight=7;, score=nan total time= 5.8min\n",
      "[23:57:56] WARNING: C:/Users/Administrator/workspace/xgboost-win64_release_1.4.0/src/learner.cc:1095: Starting in XGBoost 1.3.0, the default evaluation metric used with the objective 'multi:softprob' was changed from 'merror' to 'mlogloss'. Explicitly set eval_metric if you'd like to restore the old behavior.\n"
     ]
    },
    {
     "name": "stderr",
     "output_type": "stream",
     "text": [
      "c:\\users\\lokes\\appdata\\local\\programs\\python\\python38\\lib\\site-packages\\sklearn\\model_selection\\_validation.py:696: UserWarning: Scoring failed. The score on this train-test partition for these parameters will be set to nan. Details: \n",
      "Traceback (most recent call last):\n",
      "  File \"c:\\users\\lokes\\appdata\\local\\programs\\python\\python38\\lib\\site-packages\\sklearn\\model_selection\\_validation.py\", line 687, in _score\n",
      "    ``-1`` means using all processors. See :term:`Glossary <n_jobs>`\n",
      "  File \"c:\\users\\lokes\\appdata\\local\\programs\\python\\python38\\lib\\site-packages\\sklearn\\metrics\\_scorer.py\", line 199, in __call__\n",
      "  File \"c:\\users\\lokes\\appdata\\local\\programs\\python\\python38\\lib\\site-packages\\sklearn\\metrics\\_scorer.py\", line 328, in _score\n",
      "    if sample_weight is not None:\n",
      "ValueError: multiclass format is not supported\n",
      "\n",
      "  pre_dispatch : int or str, default='2*n_jobs'\n",
      "c:\\users\\lokes\\appdata\\local\\programs\\python\\python38\\lib\\site-packages\\xgboost\\sklearn.py:1146: UserWarning: The use of label encoder in XGBClassifier is deprecated and will be removed in a future release. To remove this warning, do the following: 1) Pass option use_label_encoder=False when constructing XGBClassifier object; and 2) Encode your labels (y) as integers starting with 0, i.e. 0, 1, 2, ..., [num_class - 1].\n",
      "  warnings.warn(label_encoder_deprecation_msg, UserWarning)\n"
     ]
    },
    {
     "name": "stdout",
     "output_type": "stream",
     "text": [
      "[CV 3/3] END colsample_bytree=0.7, gamma=0.3, learning_rate=0.05, max_depth=12, min_child_weight=7;, score=nan total time= 5.8min\n",
      "[00:03:43] WARNING: C:/Users/Administrator/workspace/xgboost-win64_release_1.4.0/src/learner.cc:1095: Starting in XGBoost 1.3.0, the default evaluation metric used with the objective 'multi:softprob' was changed from 'merror' to 'mlogloss'. Explicitly set eval_metric if you'd like to restore the old behavior.\n"
     ]
    },
    {
     "name": "stderr",
     "output_type": "stream",
     "text": [
      "c:\\users\\lokes\\appdata\\local\\programs\\python\\python38\\lib\\site-packages\\sklearn\\model_selection\\_validation.py:696: UserWarning: Scoring failed. The score on this train-test partition for these parameters will be set to nan. Details: \n",
      "Traceback (most recent call last):\n",
      "  File \"c:\\users\\lokes\\appdata\\local\\programs\\python\\python38\\lib\\site-packages\\sklearn\\model_selection\\_validation.py\", line 687, in _score\n",
      "    ``-1`` means using all processors. See :term:`Glossary <n_jobs>`\n",
      "  File \"c:\\users\\lokes\\appdata\\local\\programs\\python\\python38\\lib\\site-packages\\sklearn\\metrics\\_scorer.py\", line 199, in __call__\n",
      "  File \"c:\\users\\lokes\\appdata\\local\\programs\\python\\python38\\lib\\site-packages\\sklearn\\metrics\\_scorer.py\", line 328, in _score\n",
      "    if sample_weight is not None:\n",
      "ValueError: multiclass format is not supported\n",
      "\n",
      "  pre_dispatch : int or str, default='2*n_jobs'\n",
      "c:\\users\\lokes\\appdata\\local\\programs\\python\\python38\\lib\\site-packages\\xgboost\\sklearn.py:1146: UserWarning: The use of label encoder in XGBClassifier is deprecated and will be removed in a future release. To remove this warning, do the following: 1) Pass option use_label_encoder=False when constructing XGBClassifier object; and 2) Encode your labels (y) as integers starting with 0, i.e. 0, 1, 2, ..., [num_class - 1].\n",
      "  warnings.warn(label_encoder_deprecation_msg, UserWarning)\n"
     ]
    },
    {
     "name": "stdout",
     "output_type": "stream",
     "text": [
      "[CV 1/3] END colsample_bytree=0.3, gamma=0.1, learning_rate=0.3, max_depth=12, min_child_weight=5;, score=nan total time= 1.9min\n",
      "[00:05:37] WARNING: C:/Users/Administrator/workspace/xgboost-win64_release_1.4.0/src/learner.cc:1095: Starting in XGBoost 1.3.0, the default evaluation metric used with the objective 'multi:softprob' was changed from 'merror' to 'mlogloss'. Explicitly set eval_metric if you'd like to restore the old behavior.\n"
     ]
    },
    {
     "name": "stderr",
     "output_type": "stream",
     "text": [
      "c:\\users\\lokes\\appdata\\local\\programs\\python\\python38\\lib\\site-packages\\sklearn\\model_selection\\_validation.py:696: UserWarning: Scoring failed. The score on this train-test partition for these parameters will be set to nan. Details: \n",
      "Traceback (most recent call last):\n",
      "  File \"c:\\users\\lokes\\appdata\\local\\programs\\python\\python38\\lib\\site-packages\\sklearn\\model_selection\\_validation.py\", line 687, in _score\n",
      "    ``-1`` means using all processors. See :term:`Glossary <n_jobs>`\n",
      "  File \"c:\\users\\lokes\\appdata\\local\\programs\\python\\python38\\lib\\site-packages\\sklearn\\metrics\\_scorer.py\", line 199, in __call__\n",
      "  File \"c:\\users\\lokes\\appdata\\local\\programs\\python\\python38\\lib\\site-packages\\sklearn\\metrics\\_scorer.py\", line 328, in _score\n",
      "    if sample_weight is not None:\n",
      "ValueError: multiclass format is not supported\n",
      "\n",
      "  pre_dispatch : int or str, default='2*n_jobs'\n",
      "c:\\users\\lokes\\appdata\\local\\programs\\python\\python38\\lib\\site-packages\\xgboost\\sklearn.py:1146: UserWarning: The use of label encoder in XGBClassifier is deprecated and will be removed in a future release. To remove this warning, do the following: 1) Pass option use_label_encoder=False when constructing XGBClassifier object; and 2) Encode your labels (y) as integers starting with 0, i.e. 0, 1, 2, ..., [num_class - 1].\n",
      "  warnings.warn(label_encoder_deprecation_msg, UserWarning)\n"
     ]
    },
    {
     "name": "stdout",
     "output_type": "stream",
     "text": [
      "[CV 2/3] END colsample_bytree=0.3, gamma=0.1, learning_rate=0.3, max_depth=12, min_child_weight=5;, score=nan total time= 1.9min\n",
      "[00:07:33] WARNING: C:/Users/Administrator/workspace/xgboost-win64_release_1.4.0/src/learner.cc:1095: Starting in XGBoost 1.3.0, the default evaluation metric used with the objective 'multi:softprob' was changed from 'merror' to 'mlogloss'. Explicitly set eval_metric if you'd like to restore the old behavior.\n"
     ]
    },
    {
     "name": "stderr",
     "output_type": "stream",
     "text": [
      "c:\\users\\lokes\\appdata\\local\\programs\\python\\python38\\lib\\site-packages\\sklearn\\model_selection\\_validation.py:696: UserWarning: Scoring failed. The score on this train-test partition for these parameters will be set to nan. Details: \n",
      "Traceback (most recent call last):\n",
      "  File \"c:\\users\\lokes\\appdata\\local\\programs\\python\\python38\\lib\\site-packages\\sklearn\\model_selection\\_validation.py\", line 687, in _score\n",
      "    ``-1`` means using all processors. See :term:`Glossary <n_jobs>`\n",
      "  File \"c:\\users\\lokes\\appdata\\local\\programs\\python\\python38\\lib\\site-packages\\sklearn\\metrics\\_scorer.py\", line 199, in __call__\n",
      "  File \"c:\\users\\lokes\\appdata\\local\\programs\\python\\python38\\lib\\site-packages\\sklearn\\metrics\\_scorer.py\", line 328, in _score\n",
      "    if sample_weight is not None:\n",
      "ValueError: multiclass format is not supported\n",
      "\n",
      "  pre_dispatch : int or str, default='2*n_jobs'\n",
      "c:\\users\\lokes\\appdata\\local\\programs\\python\\python38\\lib\\site-packages\\xgboost\\sklearn.py:1146: UserWarning: The use of label encoder in XGBClassifier is deprecated and will be removed in a future release. To remove this warning, do the following: 1) Pass option use_label_encoder=False when constructing XGBClassifier object; and 2) Encode your labels (y) as integers starting with 0, i.e. 0, 1, 2, ..., [num_class - 1].\n",
      "  warnings.warn(label_encoder_deprecation_msg, UserWarning)\n"
     ]
    },
    {
     "name": "stdout",
     "output_type": "stream",
     "text": [
      "[CV 3/3] END colsample_bytree=0.3, gamma=0.1, learning_rate=0.3, max_depth=12, min_child_weight=5;, score=nan total time= 1.9min\n",
      "[00:09:31] WARNING: C:/Users/Administrator/workspace/xgboost-win64_release_1.4.0/src/learner.cc:1095: Starting in XGBoost 1.3.0, the default evaluation metric used with the objective 'multi:softprob' was changed from 'merror' to 'mlogloss'. Explicitly set eval_metric if you'd like to restore the old behavior.\n"
     ]
    },
    {
     "name": "stderr",
     "output_type": "stream",
     "text": [
      "c:\\users\\lokes\\appdata\\local\\programs\\python\\python38\\lib\\site-packages\\sklearn\\model_selection\\_validation.py:696: UserWarning: Scoring failed. The score on this train-test partition for these parameters will be set to nan. Details: \n",
      "Traceback (most recent call last):\n",
      "  File \"c:\\users\\lokes\\appdata\\local\\programs\\python\\python38\\lib\\site-packages\\sklearn\\model_selection\\_validation.py\", line 687, in _score\n",
      "    ``-1`` means using all processors. See :term:`Glossary <n_jobs>`\n",
      "  File \"c:\\users\\lokes\\appdata\\local\\programs\\python\\python38\\lib\\site-packages\\sklearn\\metrics\\_scorer.py\", line 199, in __call__\n",
      "  File \"c:\\users\\lokes\\appdata\\local\\programs\\python\\python38\\lib\\site-packages\\sklearn\\metrics\\_scorer.py\", line 328, in _score\n",
      "    if sample_weight is not None:\n",
      "ValueError: multiclass format is not supported\n",
      "\n",
      "  pre_dispatch : int or str, default='2*n_jobs'\n",
      "c:\\users\\lokes\\appdata\\local\\programs\\python\\python38\\lib\\site-packages\\xgboost\\sklearn.py:1146: UserWarning: The use of label encoder in XGBClassifier is deprecated and will be removed in a future release. To remove this warning, do the following: 1) Pass option use_label_encoder=False when constructing XGBClassifier object; and 2) Encode your labels (y) as integers starting with 0, i.e. 0, 1, 2, ..., [num_class - 1].\n",
      "  warnings.warn(label_encoder_deprecation_msg, UserWarning)\n"
     ]
    },
    {
     "name": "stdout",
     "output_type": "stream",
     "text": [
      "[CV 1/3] END colsample_bytree=0.7, gamma=0.0, learning_rate=0.1, max_depth=10, min_child_weight=1;, score=nan total time= 5.4min\n",
      "[00:14:54] WARNING: C:/Users/Administrator/workspace/xgboost-win64_release_1.4.0/src/learner.cc:1095: Starting in XGBoost 1.3.0, the default evaluation metric used with the objective 'multi:softprob' was changed from 'merror' to 'mlogloss'. Explicitly set eval_metric if you'd like to restore the old behavior.\n"
     ]
    },
    {
     "name": "stderr",
     "output_type": "stream",
     "text": [
      "c:\\users\\lokes\\appdata\\local\\programs\\python\\python38\\lib\\site-packages\\sklearn\\model_selection\\_validation.py:696: UserWarning: Scoring failed. The score on this train-test partition for these parameters will be set to nan. Details: \n",
      "Traceback (most recent call last):\n",
      "  File \"c:\\users\\lokes\\appdata\\local\\programs\\python\\python38\\lib\\site-packages\\sklearn\\model_selection\\_validation.py\", line 687, in _score\n",
      "    ``-1`` means using all processors. See :term:`Glossary <n_jobs>`\n",
      "  File \"c:\\users\\lokes\\appdata\\local\\programs\\python\\python38\\lib\\site-packages\\sklearn\\metrics\\_scorer.py\", line 199, in __call__\n",
      "  File \"c:\\users\\lokes\\appdata\\local\\programs\\python\\python38\\lib\\site-packages\\sklearn\\metrics\\_scorer.py\", line 328, in _score\n",
      "    if sample_weight is not None:\n",
      "ValueError: multiclass format is not supported\n",
      "\n",
      "  pre_dispatch : int or str, default='2*n_jobs'\n",
      "c:\\users\\lokes\\appdata\\local\\programs\\python\\python38\\lib\\site-packages\\xgboost\\sklearn.py:1146: UserWarning: The use of label encoder in XGBClassifier is deprecated and will be removed in a future release. To remove this warning, do the following: 1) Pass option use_label_encoder=False when constructing XGBClassifier object; and 2) Encode your labels (y) as integers starting with 0, i.e. 0, 1, 2, ..., [num_class - 1].\n",
      "  warnings.warn(label_encoder_deprecation_msg, UserWarning)\n"
     ]
    },
    {
     "name": "stdout",
     "output_type": "stream",
     "text": [
      "[CV 2/3] END colsample_bytree=0.7, gamma=0.0, learning_rate=0.1, max_depth=10, min_child_weight=1;, score=nan total time= 5.2min\n",
      "[00:20:08] WARNING: C:/Users/Administrator/workspace/xgboost-win64_release_1.4.0/src/learner.cc:1095: Starting in XGBoost 1.3.0, the default evaluation metric used with the objective 'multi:softprob' was changed from 'merror' to 'mlogloss'. Explicitly set eval_metric if you'd like to restore the old behavior.\n"
     ]
    },
    {
     "name": "stderr",
     "output_type": "stream",
     "text": [
      "c:\\users\\lokes\\appdata\\local\\programs\\python\\python38\\lib\\site-packages\\sklearn\\model_selection\\_validation.py:696: UserWarning: Scoring failed. The score on this train-test partition for these parameters will be set to nan. Details: \n",
      "Traceback (most recent call last):\n",
      "  File \"c:\\users\\lokes\\appdata\\local\\programs\\python\\python38\\lib\\site-packages\\sklearn\\model_selection\\_validation.py\", line 687, in _score\n",
      "    ``-1`` means using all processors. See :term:`Glossary <n_jobs>`\n",
      "  File \"c:\\users\\lokes\\appdata\\local\\programs\\python\\python38\\lib\\site-packages\\sklearn\\metrics\\_scorer.py\", line 199, in __call__\n",
      "  File \"c:\\users\\lokes\\appdata\\local\\programs\\python\\python38\\lib\\site-packages\\sklearn\\metrics\\_scorer.py\", line 328, in _score\n",
      "    if sample_weight is not None:\n",
      "ValueError: multiclass format is not supported\n",
      "\n",
      "  pre_dispatch : int or str, default='2*n_jobs'\n",
      "c:\\users\\lokes\\appdata\\local\\programs\\python\\python38\\lib\\site-packages\\xgboost\\sklearn.py:1146: UserWarning: The use of label encoder in XGBClassifier is deprecated and will be removed in a future release. To remove this warning, do the following: 1) Pass option use_label_encoder=False when constructing XGBClassifier object; and 2) Encode your labels (y) as integers starting with 0, i.e. 0, 1, 2, ..., [num_class - 1].\n",
      "  warnings.warn(label_encoder_deprecation_msg, UserWarning)\n"
     ]
    },
    {
     "name": "stdout",
     "output_type": "stream",
     "text": [
      "[CV 3/3] END colsample_bytree=0.7, gamma=0.0, learning_rate=0.1, max_depth=10, min_child_weight=1;, score=nan total time= 5.0min\n",
      "[00:25:07] WARNING: C:/Users/Administrator/workspace/xgboost-win64_release_1.4.0/src/learner.cc:1095: Starting in XGBoost 1.3.0, the default evaluation metric used with the objective 'multi:softprob' was changed from 'merror' to 'mlogloss'. Explicitly set eval_metric if you'd like to restore the old behavior.\n"
     ]
    },
    {
     "name": "stderr",
     "output_type": "stream",
     "text": [
      "c:\\users\\lokes\\appdata\\local\\programs\\python\\python38\\lib\\site-packages\\sklearn\\model_selection\\_validation.py:696: UserWarning: Scoring failed. The score on this train-test partition for these parameters will be set to nan. Details: \n",
      "Traceback (most recent call last):\n",
      "  File \"c:\\users\\lokes\\appdata\\local\\programs\\python\\python38\\lib\\site-packages\\sklearn\\model_selection\\_validation.py\", line 687, in _score\n",
      "    ``-1`` means using all processors. See :term:`Glossary <n_jobs>`\n",
      "  File \"c:\\users\\lokes\\appdata\\local\\programs\\python\\python38\\lib\\site-packages\\sklearn\\metrics\\_scorer.py\", line 199, in __call__\n",
      "  File \"c:\\users\\lokes\\appdata\\local\\programs\\python\\python38\\lib\\site-packages\\sklearn\\metrics\\_scorer.py\", line 328, in _score\n",
      "    if sample_weight is not None:\n",
      "ValueError: multiclass format is not supported\n",
      "\n",
      "  pre_dispatch : int or str, default='2*n_jobs'\n",
      "c:\\users\\lokes\\appdata\\local\\programs\\python\\python38\\lib\\site-packages\\xgboost\\sklearn.py:1146: UserWarning: The use of label encoder in XGBClassifier is deprecated and will be removed in a future release. To remove this warning, do the following: 1) Pass option use_label_encoder=False when constructing XGBClassifier object; and 2) Encode your labels (y) as integers starting with 0, i.e. 0, 1, 2, ..., [num_class - 1].\n",
      "  warnings.warn(label_encoder_deprecation_msg, UserWarning)\n"
     ]
    },
    {
     "name": "stdout",
     "output_type": "stream",
     "text": [
      "[CV 1/3] END colsample_bytree=0.7, gamma=0.0, learning_rate=0.05, max_depth=5, min_child_weight=3;, score=nan total time= 2.9min\n",
      "[00:27:59] WARNING: C:/Users/Administrator/workspace/xgboost-win64_release_1.4.0/src/learner.cc:1095: Starting in XGBoost 1.3.0, the default evaluation metric used with the objective 'multi:softprob' was changed from 'merror' to 'mlogloss'. Explicitly set eval_metric if you'd like to restore the old behavior.\n"
     ]
    },
    {
     "name": "stderr",
     "output_type": "stream",
     "text": [
      "c:\\users\\lokes\\appdata\\local\\programs\\python\\python38\\lib\\site-packages\\sklearn\\model_selection\\_validation.py:696: UserWarning: Scoring failed. The score on this train-test partition for these parameters will be set to nan. Details: \n",
      "Traceback (most recent call last):\n",
      "  File \"c:\\users\\lokes\\appdata\\local\\programs\\python\\python38\\lib\\site-packages\\sklearn\\model_selection\\_validation.py\", line 687, in _score\n",
      "    ``-1`` means using all processors. See :term:`Glossary <n_jobs>`\n",
      "  File \"c:\\users\\lokes\\appdata\\local\\programs\\python\\python38\\lib\\site-packages\\sklearn\\metrics\\_scorer.py\", line 199, in __call__\n",
      "  File \"c:\\users\\lokes\\appdata\\local\\programs\\python\\python38\\lib\\site-packages\\sklearn\\metrics\\_scorer.py\", line 328, in _score\n",
      "    if sample_weight is not None:\n",
      "ValueError: multiclass format is not supported\n",
      "\n",
      "  pre_dispatch : int or str, default='2*n_jobs'\n",
      "c:\\users\\lokes\\appdata\\local\\programs\\python\\python38\\lib\\site-packages\\xgboost\\sklearn.py:1146: UserWarning: The use of label encoder in XGBClassifier is deprecated and will be removed in a future release. To remove this warning, do the following: 1) Pass option use_label_encoder=False when constructing XGBClassifier object; and 2) Encode your labels (y) as integers starting with 0, i.e. 0, 1, 2, ..., [num_class - 1].\n",
      "  warnings.warn(label_encoder_deprecation_msg, UserWarning)\n"
     ]
    },
    {
     "name": "stdout",
     "output_type": "stream",
     "text": [
      "[CV 2/3] END colsample_bytree=0.7, gamma=0.0, learning_rate=0.05, max_depth=5, min_child_weight=3;, score=nan total time= 2.9min\n",
      "[00:30:51] WARNING: C:/Users/Administrator/workspace/xgboost-win64_release_1.4.0/src/learner.cc:1095: Starting in XGBoost 1.3.0, the default evaluation metric used with the objective 'multi:softprob' was changed from 'merror' to 'mlogloss'. Explicitly set eval_metric if you'd like to restore the old behavior.\n"
     ]
    },
    {
     "name": "stderr",
     "output_type": "stream",
     "text": [
      "c:\\users\\lokes\\appdata\\local\\programs\\python\\python38\\lib\\site-packages\\sklearn\\model_selection\\_validation.py:696: UserWarning: Scoring failed. The score on this train-test partition for these parameters will be set to nan. Details: \n",
      "Traceback (most recent call last):\n",
      "  File \"c:\\users\\lokes\\appdata\\local\\programs\\python\\python38\\lib\\site-packages\\sklearn\\model_selection\\_validation.py\", line 687, in _score\n",
      "    ``-1`` means using all processors. See :term:`Glossary <n_jobs>`\n",
      "  File \"c:\\users\\lokes\\appdata\\local\\programs\\python\\python38\\lib\\site-packages\\sklearn\\metrics\\_scorer.py\", line 199, in __call__\n",
      "  File \"c:\\users\\lokes\\appdata\\local\\programs\\python\\python38\\lib\\site-packages\\sklearn\\metrics\\_scorer.py\", line 328, in _score\n",
      "    if sample_weight is not None:\n",
      "ValueError: multiclass format is not supported\n",
      "\n",
      "  pre_dispatch : int or str, default='2*n_jobs'\n",
      "c:\\users\\lokes\\appdata\\local\\programs\\python\\python38\\lib\\site-packages\\xgboost\\sklearn.py:1146: UserWarning: The use of label encoder in XGBClassifier is deprecated and will be removed in a future release. To remove this warning, do the following: 1) Pass option use_label_encoder=False when constructing XGBClassifier object; and 2) Encode your labels (y) as integers starting with 0, i.e. 0, 1, 2, ..., [num_class - 1].\n",
      "  warnings.warn(label_encoder_deprecation_msg, UserWarning)\n"
     ]
    },
    {
     "name": "stdout",
     "output_type": "stream",
     "text": [
      "[CV 3/3] END colsample_bytree=0.7, gamma=0.0, learning_rate=0.05, max_depth=5, min_child_weight=3;, score=nan total time= 2.9min\n",
      "[00:33:44] WARNING: C:/Users/Administrator/workspace/xgboost-win64_release_1.4.0/src/learner.cc:1095: Starting in XGBoost 1.3.0, the default evaluation metric used with the objective 'multi:softprob' was changed from 'merror' to 'mlogloss'. Explicitly set eval_metric if you'd like to restore the old behavior.\n"
     ]
    },
    {
     "name": "stderr",
     "output_type": "stream",
     "text": [
      "c:\\users\\lokes\\appdata\\local\\programs\\python\\python38\\lib\\site-packages\\sklearn\\model_selection\\_validation.py:696: UserWarning: Scoring failed. The score on this train-test partition for these parameters will be set to nan. Details: \n",
      "Traceback (most recent call last):\n",
      "  File \"c:\\users\\lokes\\appdata\\local\\programs\\python\\python38\\lib\\site-packages\\sklearn\\model_selection\\_validation.py\", line 687, in _score\n",
      "    ``-1`` means using all processors. See :term:`Glossary <n_jobs>`\n",
      "  File \"c:\\users\\lokes\\appdata\\local\\programs\\python\\python38\\lib\\site-packages\\sklearn\\metrics\\_scorer.py\", line 199, in __call__\n",
      "  File \"c:\\users\\lokes\\appdata\\local\\programs\\python\\python38\\lib\\site-packages\\sklearn\\metrics\\_scorer.py\", line 328, in _score\n",
      "    if sample_weight is not None:\n",
      "ValueError: multiclass format is not supported\n",
      "\n",
      "  pre_dispatch : int or str, default='2*n_jobs'\n",
      "c:\\users\\lokes\\appdata\\local\\programs\\python\\python38\\lib\\site-packages\\xgboost\\sklearn.py:1146: UserWarning: The use of label encoder in XGBClassifier is deprecated and will be removed in a future release. To remove this warning, do the following: 1) Pass option use_label_encoder=False when constructing XGBClassifier object; and 2) Encode your labels (y) as integers starting with 0, i.e. 0, 1, 2, ..., [num_class - 1].\n",
      "  warnings.warn(label_encoder_deprecation_msg, UserWarning)\n"
     ]
    },
    {
     "name": "stdout",
     "output_type": "stream",
     "text": [
      "[CV 1/3] END colsample_bytree=0.4, gamma=0.0, learning_rate=0.15, max_depth=10, min_child_weight=5;, score=nan total time= 2.6min\n",
      "[00:36:19] WARNING: C:/Users/Administrator/workspace/xgboost-win64_release_1.4.0/src/learner.cc:1095: Starting in XGBoost 1.3.0, the default evaluation metric used with the objective 'multi:softprob' was changed from 'merror' to 'mlogloss'. Explicitly set eval_metric if you'd like to restore the old behavior.\n"
     ]
    },
    {
     "name": "stderr",
     "output_type": "stream",
     "text": [
      "c:\\users\\lokes\\appdata\\local\\programs\\python\\python38\\lib\\site-packages\\sklearn\\model_selection\\_validation.py:696: UserWarning: Scoring failed. The score on this train-test partition for these parameters will be set to nan. Details: \n",
      "Traceback (most recent call last):\n",
      "  File \"c:\\users\\lokes\\appdata\\local\\programs\\python\\python38\\lib\\site-packages\\sklearn\\model_selection\\_validation.py\", line 687, in _score\n",
      "    ``-1`` means using all processors. See :term:`Glossary <n_jobs>`\n",
      "  File \"c:\\users\\lokes\\appdata\\local\\programs\\python\\python38\\lib\\site-packages\\sklearn\\metrics\\_scorer.py\", line 199, in __call__\n",
      "  File \"c:\\users\\lokes\\appdata\\local\\programs\\python\\python38\\lib\\site-packages\\sklearn\\metrics\\_scorer.py\", line 328, in _score\n",
      "    if sample_weight is not None:\n",
      "ValueError: multiclass format is not supported\n",
      "\n",
      "  pre_dispatch : int or str, default='2*n_jobs'\n",
      "c:\\users\\lokes\\appdata\\local\\programs\\python\\python38\\lib\\site-packages\\xgboost\\sklearn.py:1146: UserWarning: The use of label encoder in XGBClassifier is deprecated and will be removed in a future release. To remove this warning, do the following: 1) Pass option use_label_encoder=False when constructing XGBClassifier object; and 2) Encode your labels (y) as integers starting with 0, i.e. 0, 1, 2, ..., [num_class - 1].\n",
      "  warnings.warn(label_encoder_deprecation_msg, UserWarning)\n"
     ]
    },
    {
     "name": "stdout",
     "output_type": "stream",
     "text": [
      "[CV 2/3] END colsample_bytree=0.4, gamma=0.0, learning_rate=0.15, max_depth=10, min_child_weight=5;, score=nan total time= 2.9min\n",
      "[00:39:13] WARNING: C:/Users/Administrator/workspace/xgboost-win64_release_1.4.0/src/learner.cc:1095: Starting in XGBoost 1.3.0, the default evaluation metric used with the objective 'multi:softprob' was changed from 'merror' to 'mlogloss'. Explicitly set eval_metric if you'd like to restore the old behavior.\n"
     ]
    },
    {
     "name": "stderr",
     "output_type": "stream",
     "text": [
      "c:\\users\\lokes\\appdata\\local\\programs\\python\\python38\\lib\\site-packages\\sklearn\\model_selection\\_validation.py:696: UserWarning: Scoring failed. The score on this train-test partition for these parameters will be set to nan. Details: \n",
      "Traceback (most recent call last):\n",
      "  File \"c:\\users\\lokes\\appdata\\local\\programs\\python\\python38\\lib\\site-packages\\sklearn\\model_selection\\_validation.py\", line 687, in _score\n",
      "    ``-1`` means using all processors. See :term:`Glossary <n_jobs>`\n",
      "  File \"c:\\users\\lokes\\appdata\\local\\programs\\python\\python38\\lib\\site-packages\\sklearn\\metrics\\_scorer.py\", line 199, in __call__\n",
      "  File \"c:\\users\\lokes\\appdata\\local\\programs\\python\\python38\\lib\\site-packages\\sklearn\\metrics\\_scorer.py\", line 328, in _score\n",
      "    if sample_weight is not None:\n",
      "ValueError: multiclass format is not supported\n",
      "\n",
      "  pre_dispatch : int or str, default='2*n_jobs'\n",
      "c:\\users\\lokes\\appdata\\local\\programs\\python\\python38\\lib\\site-packages\\sklearn\\model_selection\\_search.py:922: UserWarning: One or more of the test scores are non-finite: [nan nan nan nan nan]\n",
      "  execution. Reducing this number can be useful to avoid an\n",
      "c:\\users\\lokes\\appdata\\local\\programs\\python\\python38\\lib\\site-packages\\xgboost\\sklearn.py:1146: UserWarning: The use of label encoder in XGBClassifier is deprecated and will be removed in a future release. To remove this warning, do the following: 1) Pass option use_label_encoder=False when constructing XGBClassifier object; and 2) Encode your labels (y) as integers starting with 0, i.e. 0, 1, 2, ..., [num_class - 1].\n",
      "  warnings.warn(label_encoder_deprecation_msg, UserWarning)\n"
     ]
    },
    {
     "name": "stdout",
     "output_type": "stream",
     "text": [
      "[CV 3/3] END colsample_bytree=0.4, gamma=0.0, learning_rate=0.15, max_depth=10, min_child_weight=5;, score=nan total time= 2.9min\n",
      "[00:42:12] WARNING: C:/Users/Administrator/workspace/xgboost-win64_release_1.4.0/src/learner.cc:1095: Starting in XGBoost 1.3.0, the default evaluation metric used with the objective 'multi:softprob' was changed from 'merror' to 'mlogloss'. Explicitly set eval_metric if you'd like to restore the old behavior.\n"
     ]
    },
    {
     "data": {
      "text/plain": [
       "RandomizedSearchCV(cv=3,\n",
       "                   estimator=XGBClassifier(base_score=None, booster=None,\n",
       "                                           colsample_bylevel=None,\n",
       "                                           colsample_bynode=None,\n",
       "                                           colsample_bytree=None, gamma=None,\n",
       "                                           gpu_id=None, importance_type='gain',\n",
       "                                           interaction_constraints=None,\n",
       "                                           learning_rate=None,\n",
       "                                           max_delta_step=None, max_depth=None,\n",
       "                                           min_child_weight=None, missing=nan,\n",
       "                                           monotone_constraints=None,\n",
       "                                           n_estimators=100,...\n",
       "                                           random_state=None, reg_alpha=None,\n",
       "                                           reg_lambda=None,\n",
       "                                           scale_pos_weight=None,\n",
       "                                           subsample=None, tree_method=None,\n",
       "                                           validate_parameters=None,\n",
       "                                           verbosity=None),\n",
       "                   n_iter=5,\n",
       "                   param_distributions={'colsample_bytree': [0.3, 0.4, 0.5,\n",
       "                                                             0.7],\n",
       "                                        'gamma': [0.0, 0.1, 0.2, 0.3, 0.4],\n",
       "                                        'learning_rate': [0.05, 0.1, 0.15, 0.2,\n",
       "                                                          0.25, 0.3],\n",
       "                                        'max_depth': [3, 4, 5, 6, 8, 10, 12,\n",
       "                                                      15],\n",
       "                                        'min_child_weight': [1, 3, 5, 7]},\n",
       "                   scoring='roc_auc', verbose=3)"
      ]
     },
     "execution_count": 168,
     "metadata": {},
     "output_type": "execute_result"
    }
   ],
   "source": [
    "random_search.fit(X_train, y_train)"
   ]
  },
  {
   "cell_type": "code",
   "execution_count": 169,
   "id": "religious-chest",
   "metadata": {},
   "outputs": [
    {
     "data": {
      "text/plain": [
       "XGBClassifier(base_score=0.5, booster='gbtree', colsample_bylevel=1,\n",
       "              colsample_bynode=1, colsample_bytree=0.7, gamma=0.3, gpu_id=-1,\n",
       "              importance_type='gain', interaction_constraints='',\n",
       "              learning_rate=0.05, max_delta_step=0, max_depth=12,\n",
       "              min_child_weight=7, missing=nan, monotone_constraints='()',\n",
       "              n_estimators=100, n_jobs=8, num_parallel_tree=1,\n",
       "              objective='multi:softprob', random_state=0, reg_alpha=0,\n",
       "              reg_lambda=1, scale_pos_weight=None, subsample=1,\n",
       "              tree_method='exact', validate_parameters=1, verbosity=None)"
      ]
     },
     "execution_count": 169,
     "metadata": {},
     "output_type": "execute_result"
    }
   ],
   "source": [
    "random_search.best_estimator_"
   ]
  },
  {
   "cell_type": "code",
   "execution_count": 170,
   "id": "unique-render",
   "metadata": {},
   "outputs": [
    {
     "data": {
      "text/plain": [
       "{'min_child_weight': 7,\n",
       " 'max_depth': 12,\n",
       " 'learning_rate': 0.05,\n",
       " 'gamma': 0.3,\n",
       " 'colsample_bytree': 0.7}"
      ]
     },
     "execution_count": 170,
     "metadata": {},
     "output_type": "execute_result"
    }
   ],
   "source": [
    "random_search.best_params_"
   ]
  },
  {
   "cell_type": "code",
   "execution_count": 171,
   "id": "surface-medicare",
   "metadata": {},
   "outputs": [],
   "source": [
    "best_classifier_model = xgboost.XGBClassifier()"
   ]
  },
  {
   "cell_type": "code",
   "execution_count": 173,
   "id": "logical-thursday",
   "metadata": {},
   "outputs": [
    {
     "name": "stderr",
     "output_type": "stream",
     "text": [
      "c:\\users\\lokes\\appdata\\local\\programs\\python\\python38\\lib\\site-packages\\xgboost\\sklearn.py:1146: UserWarning: The use of label encoder in XGBClassifier is deprecated and will be removed in a future release. To remove this warning, do the following: 1) Pass option use_label_encoder=False when constructing XGBClassifier object; and 2) Encode your labels (y) as integers starting with 0, i.e. 0, 1, 2, ..., [num_class - 1].\n",
      "  warnings.warn(label_encoder_deprecation_msg, UserWarning)\n"
     ]
    },
    {
     "name": "stdout",
     "output_type": "stream",
     "text": [
      "[08:11:27] WARNING: C:/Users/Administrator/workspace/xgboost-win64_release_1.4.0/src/learner.cc:1095: Starting in XGBoost 1.3.0, the default evaluation metric used with the objective 'multi:softprob' was changed from 'merror' to 'mlogloss'. Explicitly set eval_metric if you'd like to restore the old behavior.\n"
     ]
    },
    {
     "name": "stderr",
     "output_type": "stream",
     "text": [
      "c:\\users\\lokes\\appdata\\local\\programs\\python\\python38\\lib\\site-packages\\xgboost\\sklearn.py:1146: UserWarning: The use of label encoder in XGBClassifier is deprecated and will be removed in a future release. To remove this warning, do the following: 1) Pass option use_label_encoder=False when constructing XGBClassifier object; and 2) Encode your labels (y) as integers starting with 0, i.e. 0, 1, 2, ..., [num_class - 1].\n",
      "  warnings.warn(label_encoder_deprecation_msg, UserWarning)\n"
     ]
    },
    {
     "name": "stdout",
     "output_type": "stream",
     "text": [
      "[08:12:21] WARNING: C:/Users/Administrator/workspace/xgboost-win64_release_1.4.0/src/learner.cc:1095: Starting in XGBoost 1.3.0, the default evaluation metric used with the objective 'multi:softprob' was changed from 'merror' to 'mlogloss'. Explicitly set eval_metric if you'd like to restore the old behavior.\n"
     ]
    },
    {
     "name": "stderr",
     "output_type": "stream",
     "text": [
      "c:\\users\\lokes\\appdata\\local\\programs\\python\\python38\\lib\\site-packages\\xgboost\\sklearn.py:1146: UserWarning: The use of label encoder in XGBClassifier is deprecated and will be removed in a future release. To remove this warning, do the following: 1) Pass option use_label_encoder=False when constructing XGBClassifier object; and 2) Encode your labels (y) as integers starting with 0, i.e. 0, 1, 2, ..., [num_class - 1].\n",
      "  warnings.warn(label_encoder_deprecation_msg, UserWarning)\n"
     ]
    },
    {
     "name": "stdout",
     "output_type": "stream",
     "text": [
      "[08:13:17] WARNING: C:/Users/Administrator/workspace/xgboost-win64_release_1.4.0/src/learner.cc:1095: Starting in XGBoost 1.3.0, the default evaluation metric used with the objective 'multi:softprob' was changed from 'merror' to 'mlogloss'. Explicitly set eval_metric if you'd like to restore the old behavior.\n"
     ]
    }
   ],
   "source": [
    "from sklearn.model_selection import cross_val_score\n",
    "score = cross_val_score(classifier,X,y,cv=3)"
   ]
  },
  {
   "cell_type": "code",
   "execution_count": 174,
   "id": "productive-winning",
   "metadata": {},
   "outputs": [
    {
     "data": {
      "text/plain": [
       "array([0.64985994, 0.65896359, 0.63305322])"
      ]
     },
     "execution_count": 174,
     "metadata": {},
     "output_type": "execute_result"
    }
   ],
   "source": [
    "score"
   ]
  },
  {
   "cell_type": "code",
   "execution_count": 175,
   "id": "radical-migration",
   "metadata": {},
   "outputs": [
    {
     "data": {
      "text/plain": [
       "0.6472922502334267"
      ]
     },
     "execution_count": 175,
     "metadata": {},
     "output_type": "execute_result"
    }
   ],
   "source": [
    "score.mean()"
   ]
  },
  {
   "cell_type": "code",
   "execution_count": null,
   "id": "traditional-pound",
   "metadata": {},
   "outputs": [],
   "source": []
  }
 ],
 "metadata": {
  "kernelspec": {
   "display_name": "Python 3",
   "language": "python",
   "name": "python3"
  },
  "language_info": {
   "codemirror_mode": {
    "name": "ipython",
    "version": 3
   },
   "file_extension": ".py",
   "mimetype": "text/x-python",
   "name": "python",
   "nbconvert_exporter": "python",
   "pygments_lexer": "ipython3",
   "version": "3.8.6"
  }
 },
 "nbformat": 4,
 "nbformat_minor": 5
}
