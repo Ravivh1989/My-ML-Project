{
 "cells": [
  {
   "cell_type": "markdown",
   "id": "ce9ab621-bdd1-4ae8-bcce-53ff8aea98a5",
   "metadata": {},
   "source": [
    "Constructor in Python"
   ]
  },
  {
   "cell_type": "code",
   "execution_count": 1,
   "id": "e9a4a4c1-8ce2-4c58-b904-0a6919bda2b4",
   "metadata": {},
   "outputs": [
    {
     "name": "stdout",
     "output_type": "stream",
     "text": [
      "GeekforGeeks\n"
     ]
    }
   ],
   "source": [
    "class GeekforGeeks:\n",
    "\n",
    "\t# default constructor\n",
    "\tdef __init__(self):\n",
    "\t\tself.geek = \"GeekforGeeks\"\n",
    "\n",
    "\t# a method for printing data members\n",
    "\tdef print_Geek(self):\n",
    "\t\tprint(self.geek)\n",
    "\n",
    "\n",
    "# creating object of the class\n",
    "obj = GeekforGeeks()\n",
    "\n",
    "# calling the instance method using the object obj\n",
    "obj.print_Geek()\n"
   ]
  },
  {
   "cell_type": "code",
   "execution_count": 2,
   "id": "48e41cde-741b-4ce7-b439-63ffd9a727cb",
   "metadata": {},
   "outputs": [
    {
     "name": "stdout",
     "output_type": "stream",
     "text": [
      "First number = 1000\n",
      "Second number = 2000\n",
      "Addition of two numbers = 3000\n"
     ]
    }
   ],
   "source": [
    "class Addition:\n",
    "\tfirst = 0\n",
    "\tsecond = 0\n",
    "\tanswer = 0\n",
    "\t\n",
    "\t# parameterized constructor\n",
    "\tdef __init__(self, f, s):\n",
    "\t\tself.first = f\n",
    "\t\tself.second = s\n",
    "\t\n",
    "\tdef display(self):\n",
    "\t\tprint(\"First number = \" + str(self.first))\n",
    "\t\tprint(\"Second number = \" + str(self.second))\n",
    "\t\tprint(\"Addition of two numbers = \" + str(self.answer))\n",
    "\n",
    "\tdef calculate(self):\n",
    "\t\tself.answer = self.first + self.second\n",
    "\n",
    "# creating object of the class\n",
    "# this will invoke parameterized constructor\n",
    "obj = Addition(1000, 2000)\n",
    "\n",
    "# perform Addition\n",
    "obj.calculate()\n",
    "\n",
    "# display result\n",
    "obj.display()\n"
   ]
  },
  {
   "cell_type": "code",
   "execution_count": null,
   "id": "62c1bdb0-9445-4a5d-9d8d-bc22e211cf60",
   "metadata": {},
   "outputs": [],
   "source": []
  }
 ],
 "metadata": {
  "kernelspec": {
   "display_name": "Python 3 (ipykernel)",
   "language": "python",
   "name": "python3"
  },
  "language_info": {
   "codemirror_mode": {
    "name": "ipython",
    "version": 3
   },
   "file_extension": ".py",
   "mimetype": "text/x-python",
   "name": "python",
   "nbconvert_exporter": "python",
   "pygments_lexer": "ipython3",
   "version": "3.9.6"
  }
 },
 "nbformat": 4,
 "nbformat_minor": 5
}
