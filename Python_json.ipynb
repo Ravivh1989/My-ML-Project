{
 "cells": [
  {
   "cell_type": "markdown",
   "id": "0e338dd6-48d0-45bb-b511-d3208c86b325",
   "metadata": {},
   "source": [
    "Python JSON to dict"
   ]
  },
  {
   "cell_type": "code",
   "execution_count": 1,
   "id": "f3c7dea9-da05-4ca8-81a8-f5d9d85ac001",
   "metadata": {},
   "outputs": [
    {
     "name": "stdout",
     "output_type": "stream",
     "text": [
      "{'name': 'Bob', 'languages': ['English', 'Fench']}\n",
      "['English', 'Fench']\n"
     ]
    }
   ],
   "source": [
    "import json\n",
    "\n",
    "person = '{\"name\": \"Bob\", \"languages\": [\"English\", \"Fench\"]}'\n",
    "person_dict = json.loads(person)\n",
    "\n",
    "# Output: {'name': 'Bob', 'languages': ['English', 'Fench']}\n",
    "print( person_dict)\n",
    "\n",
    "# Output: ['English', 'French']\n",
    "print(person_dict['languages'])"
   ]
  },
  {
   "cell_type": "markdown",
   "id": "23274731-468a-48bb-af27-f4f8186695c7",
   "metadata": {},
   "source": [
    " Python read JSON file"
   ]
  },
  {
   "cell_type": "code",
   "execution_count": 8,
   "id": "df82060e-e73e-488e-80c2-9cbe358bbb4b",
   "metadata": {},
   "outputs": [
    {
     "name": "stdout",
     "output_type": "stream",
     "text": [
      "{'employees': [{'name': 'Sam', 'Dept': 'HR', 'salary': 5000}, {'name': 'Mayra', 'Dept': 'Sales', 'salary': 6000}, {'name': 'Hisham', 'Dept': 'HR', 'salary': 9000}, {'name': 'Arsh', 'Dept': 'Production', 'salary': 10000}]}\n"
     ]
    }
   ],
   "source": [
    "\n",
    "import json\n",
    "\n",
    "with open('./test.json') as f:\n",
    "  data = json.load(f)\n",
    "\n",
    "# Output: {'name': 'Bob', 'languages': ['English', 'Fench']}\n",
    "print(data)"
   ]
  },
  {
   "cell_type": "markdown",
   "id": "e24e2354-838f-47ce-8c21-ab333b3eb559",
   "metadata": {},
   "source": [
    "Python Convert to JSON string"
   ]
  },
  {
   "cell_type": "code",
   "execution_count": 5,
   "id": "3b612b71-b165-46e4-8401-fa9a027e9898",
   "metadata": {},
   "outputs": [
    {
     "name": "stdout",
     "output_type": "stream",
     "text": [
      "{\"name\": \"Bob\", \"age\": 12, \"children\": null}\n"
     ]
    }
   ],
   "source": [
    "\n",
    "import json\n",
    "\n",
    "person_dict = {'name': 'Bob',\n",
    "'age': 12,\n",
    "'children': None\n",
    "}\n",
    "\n",
    "# json.dumps for while pushing data to json object\n",
    "person_json = json.dumps(person_dict)\n",
    "\n",
    "\n",
    "print(person_json)"
   ]
  },
  {
   "cell_type": "markdown",
   "id": "ccc5cfc5-6755-4d37-9574-4dfb10eef900",
   "metadata": {},
   "source": [
    "Writing JSON to a file"
   ]
  },
  {
   "cell_type": "code",
   "execution_count": 16,
   "id": "8c379dcb-eb13-46ea-b6c4-2ad739e841ea",
   "metadata": {},
   "outputs": [],
   "source": [
    "import json\n",
    "\n",
    "person_dict = {\"name\": \"Bob\",\n",
    "                \"languages\": [\"English\", \"Fench\"],\n",
    "                \"married\": True,\n",
    "                \"age\": 32\n",
    "                }\n",
    "\n",
    "data = {'employees': [{'name': 'Sam', 'Dept': 'HR', 'salary': 5000},\n",
    "                      {'name': 'Mayra', 'Dept': 'Sales', 'salary': 6000}, \n",
    "                      {'name': 'Hisham', 'Dept': 'HR', 'salary': 9000},\n",
    "                      {'name': 'Arsh', 'Dept': 'Production', 'salary': 10000}]}\n",
    "\n",
    "with open('./sample.json','w') as file:\n",
    "    json.dump(data, file)\n"
   ]
  },
  {
   "cell_type": "markdown",
   "id": "87e1bb2d-7e86-418c-be96-7ba98b346563",
   "metadata": {},
   "source": [
    "Python pretty print JSON"
   ]
  },
  {
   "cell_type": "code",
   "execution_count": 23,
   "id": "6cf486a9-47b2-4b61-a693-a8da8a2acfe0",
   "metadata": {},
   "outputs": [],
   "source": [
    "\n",
    "import json\n",
    "\n",
    "person_string = '{\"name\": \"Bob\", \"languages\": \"English\", \"numbers\": [2, 1.6, null]}'\n",
    "\n",
    "data = {'employees': [{'name': 'Sam', 'Dept': 'HR', 'salary': 5000},\n",
    "                      {'name': 'Mayra', 'Dept': 'Sales', 'salary': 6000}, \n",
    "                      {'name': 'Hisham', 'Dept': 'HR', 'salary': 9000},\n",
    "                      {'name': 'Arsh', 'Dept': 'Production', 'salary': 10000}]}\n",
    "# Getting dictionary\n",
    "person_dict = json.loads(person_string)\n",
    "\n",
    "# Pretty Printing JSON string back\n",
    "# print(json.dumps(data, indent = 4, sort_keys=True))\n"
   ]
  },
  {
   "cell_type": "code",
   "execution_count": null,
   "id": "b6b30d83-7451-4d59-bf23-1450ce35632a",
   "metadata": {},
   "outputs": [],
   "source": []
  }
 ],
 "metadata": {
  "kernelspec": {
   "display_name": "Python 3 (ipykernel)",
   "language": "python",
   "name": "python3"
  },
  "language_info": {
   "codemirror_mode": {
    "name": "ipython",
    "version": 3
   },
   "file_extension": ".py",
   "mimetype": "text/x-python",
   "name": "python",
   "nbconvert_exporter": "python",
   "pygments_lexer": "ipython3",
   "version": "3.9.6"
  }
 },
 "nbformat": 4,
 "nbformat_minor": 5
}
