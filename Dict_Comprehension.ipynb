{
 "cells": [
  {
   "cell_type": "markdown",
   "id": "2d3fa65a-b7fe-4e00-8202-8b9594494397",
   "metadata": {},
   "source": [
    "Dict comprehension\n"
   ]
  },
  {
   "cell_type": "code",
   "execution_count": 1,
   "id": "2071154a-e666-4633-83dd-a114d6823916",
   "metadata": {},
   "outputs": [
    {
     "name": "stdout",
     "output_type": "stream",
     "text": [
      "{'a': 1, 'b': 2, 'c': 3, 'd': 4, 'e': 5}\n"
     ]
    }
   ],
   "source": [
    "# Python code to demonstrate dictionary\n",
    "# comprehension\n",
    "\n",
    "# Lists to represent keys and values\n",
    "keys = ['a','b','c','d','e']\n",
    "values = [1,2,3,4,5]\n",
    "\n",
    "# but this line shows dict comprehension here\n",
    "myDict = { k:v for (k,v) in zip(keys, values)}\n",
    "\n",
    "# We can use below too\n",
    "# myDict = dict(zip(keys, values))\n",
    "\n",
    "print (myDict)\n"
   ]
  },
  {
   "cell_type": "code",
   "execution_count": 2,
   "id": "48aad836-4fcb-4181-ace7-9d55fffd76ec",
   "metadata": {},
   "outputs": [
    {
     "name": "stdout",
     "output_type": "stream",
     "text": [
      "{1: 1, 2: 4, 3: 9, 4: 16, 5: 25}\n"
     ]
    }
   ],
   "source": [
    "# Python code to demonstrate dictionary\n",
    "# creation using list comprehension\n",
    "myDict = {x: x**2 for x in [1,2,3,4,5]}\n",
    "print (myDict)\n"
   ]
  },
  {
   "cell_type": "code",
   "execution_count": 3,
   "id": "60bc3983-a42b-47b5-a809-08d208f741b8",
   "metadata": {},
   "outputs": [
    {
     "name": "stdout",
     "output_type": "stream",
     "text": [
      "{0: 0, 2: 8, 4: 64, 6: 216, 8: 512}\n"
     ]
    }
   ],
   "source": [
    "# Python code to demonstrate dictionary\n",
    "# comprehension using if.\n",
    "newdict = {x: x**3 for x in range(10) if x**3 % 4 == 0}\n",
    "print(newdict)\n"
   ]
  },
  {
   "cell_type": "markdown",
   "id": "69b2b29d-ebda-40cd-ba94-377776433ce7",
   "metadata": {},
   "source": [
    "Python | Pretty Print a dictionary with dictionary value"
   ]
  },
  {
   "cell_type": "code",
   "execution_count": 4,
   "id": "0bdcb854-5da4-4163-9c6d-08b09b24e15a",
   "metadata": {},
   "outputs": [
    {
     "name": "stdout",
     "output_type": "stream",
     "text": [
      "The original dictionary is : {'gfg': {'rate': 5, 'remark': 'good'}, 'cs': {'rate': 3}}\n",
      "The Pretty Print dictionary is : \n",
      "gfg\n",
      "rate : 5\n",
      "remark : good\n",
      "cs\n",
      "rate : 3\n"
     ]
    }
   ],
   "source": [
    "# Python3 code to demonstrate working of\n",
    "# Pretty Print a dictionary with dictionary value\n",
    "# Using loops\n",
    "\n",
    "# initializing dictionary\n",
    "test_dict = {'gfg' : {'rate' : 5, 'remark' : 'good'}, 'cs' : {'rate' : 3}}\n",
    "\n",
    "# printing original dictionary\n",
    "print(\"The original dictionary is : \" + str(test_dict))\n",
    "\n",
    "# using loops to Pretty Print\n",
    "print(\"The Pretty Print dictionary is : \")\n",
    "for sub in test_dict:\n",
    "\tprint (sub)\n",
    "\tfor sub_nest in test_dict[sub]:\n",
    "\t\tprint (sub_nest, ':', test_dict[sub][sub_nest])\n"
   ]
  },
  {
   "cell_type": "markdown",
   "id": "ee7ef5d9-27c9-4aca-8b7e-acf80040ce91",
   "metadata": {},
   "source": [
    "Python – Extract Key’s Value, if Key Present in List and Dictionary"
   ]
  },
  {
   "cell_type": "code",
   "execution_count": 5,
   "id": "f8a001d6-d795-446d-b725-45cfe0db947d",
   "metadata": {},
   "outputs": [
    {
     "name": "stdout",
     "output_type": "stream",
     "text": [
      "The original list : ['Gfg', 'is', 'Good', 'for', 'Geeks']\n",
      "The original Dictionary : {'Gfg': 2, 'is': 4, 'Best': 6}\n",
      "Extracted Value : 2\n"
     ]
    }
   ],
   "source": [
    "# Python3 code to demonstrate working of\n",
    "# Extract Key's Value, if Key Present in List and Dictionary\n",
    "# Using set() + intersection()\n",
    "\n",
    "# initializing list\n",
    "test_list = [\"Gfg\", \"is\", \"Good\", \"for\", \"Geeks\"]\n",
    "\n",
    "# initializing Dictionary\n",
    "test_dict = {\"Gfg\" : 2, \"is\" : 4, \"Best\" : 6}\n",
    "\n",
    "# initializing K\n",
    "K = \"Gfg\"\n",
    "\n",
    "# printing original list and Dictionary\n",
    "print(\"The original list : \" + str(test_list))\n",
    "print(\"The original Dictionary : \" + str(test_dict))\n",
    "\n",
    "# conversion of lists to set and intersection with keys\n",
    "# using intersection\n",
    "res = None\n",
    "if K in set(test_list).intersection(test_dict):\n",
    "\tres = test_dict[K]\n",
    "\n",
    "# printing result\n",
    "print(\"Extracted Value : \" + str(res))\n"
   ]
  },
  {
   "cell_type": "code",
   "execution_count": null,
   "id": "769830eb-12ec-470a-9b4d-6f02dd99d47d",
   "metadata": {},
   "outputs": [],
   "source": []
  }
 ],
 "metadata": {
  "kernelspec": {
   "display_name": "Python 3 (ipykernel)",
   "language": "python",
   "name": "python3"
  },
  "language_info": {
   "codemirror_mode": {
    "name": "ipython",
    "version": 3
   },
   "file_extension": ".py",
   "mimetype": "text/x-python",
   "name": "python",
   "nbconvert_exporter": "python",
   "pygments_lexer": "ipython3",
   "version": "3.9.6"
  }
 },
 "nbformat": 4,
 "nbformat_minor": 5
}
