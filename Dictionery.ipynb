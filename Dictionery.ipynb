{
 "cells": [
  {
   "cell_type": "markdown",
   "id": "ff9e39d9-4f7e-4595-a87b-2ba40f1bea08",
   "metadata": {},
   "source": [
    "Creating Python Dictionary"
   ]
  },
  {
   "cell_type": "code",
   "execution_count": 6,
   "id": "0e17e0a2-f096-4d4c-9eec-c88b7bed54bd",
   "metadata": {},
   "outputs": [
    {
     "name": "stdout",
     "output_type": "stream",
     "text": [
      "Jack\n",
      "26\n"
     ]
    }
   ],
   "source": [
    "# get vs [] for retrieving elements\n",
    "my_dict = {'name': 'Jack', 'age': 26}\n",
    "\n",
    "# Output: Jack\n",
    "print(my_dict['name'])\n",
    "\n",
    "# Output: 26\n",
    "print(my_dict.get('age'))\n",
    "\n"
   ]
  },
  {
   "cell_type": "markdown",
   "id": "813a4210-1d1f-4dfa-8c73-4f4d4328e9b0",
   "metadata": {},
   "source": [
    "Changing and Adding Dictionary elements"
   ]
  },
  {
   "cell_type": "code",
   "execution_count": 9,
   "id": "f927296a-2114-4605-bf28-ec5f1b4042c7",
   "metadata": {},
   "outputs": [
    {
     "name": "stdout",
     "output_type": "stream",
     "text": [
      "{'name': 'Jack', 'age': 27}\n",
      "{'name': 'Jack', 'age': 27, 'address': 'Downtown'}\n"
     ]
    }
   ],
   "source": [
    "# Changing and adding Dictionary Elements\n",
    "my_dict = {'name': 'Jack', 'age': 26}\n",
    "\n",
    "# update value\n",
    "my_dict['age'] = 27\n",
    "\n",
    "#Output: {'age': 27, 'name': 'Jack'}\n",
    "print(my_dict)\n",
    "\n",
    "# add item\n",
    "my_dict['address'] = 'Downtown'\n",
    "\n",
    "# Output: {'address': 'Downtown', 'age': 27, 'name': 'Jack'}\n",
    "print(my_dict)\n"
   ]
  },
  {
   "cell_type": "markdown",
   "id": "490ca3f0-b314-422a-8d45-4e792e60b3f0",
   "metadata": {},
   "source": [
    "Removing elements from Dictionary"
   ]
  },
  {
   "cell_type": "code",
   "execution_count": 11,
   "id": "d907483b-ae21-4537-9589-6455d6445ee2",
   "metadata": {},
   "outputs": [
    {
     "name": "stdout",
     "output_type": "stream",
     "text": [
      "16\n",
      "{1: 1, 2: 4, 3: 9, 5: 25}\n",
      "(5, 25)\n",
      "{1: 1, 2: 4, 3: 9}\n",
      "{}\n"
     ]
    },
    {
     "ename": "NameError",
     "evalue": "name 'squares' is not defined",
     "output_type": "error",
     "traceback": [
      "\u001b[1;31m---------------------------------------------------------------------------\u001b[0m",
      "\u001b[1;31mNameError\u001b[0m                                 Traceback (most recent call last)",
      "\u001b[1;32m~\\AppData\\Local\\Temp/ipykernel_13936/1968832105.py\u001b[0m in \u001b[0;36m<module>\u001b[1;34m\u001b[0m\n\u001b[0;32m     28\u001b[0m \u001b[1;33m\u001b[0m\u001b[0m\n\u001b[0;32m     29\u001b[0m \u001b[1;31m# Throws Error\u001b[0m\u001b[1;33m\u001b[0m\u001b[1;33m\u001b[0m\u001b[1;33m\u001b[0m\u001b[0m\n\u001b[1;32m---> 30\u001b[1;33m \u001b[0mprint\u001b[0m\u001b[1;33m(\u001b[0m\u001b[0msquares\u001b[0m\u001b[1;33m)\u001b[0m\u001b[1;33m\u001b[0m\u001b[1;33m\u001b[0m\u001b[0m\n\u001b[0m",
      "\u001b[1;31mNameError\u001b[0m: name 'squares' is not defined"
     ]
    }
   ],
   "source": [
    "# Removing elements from a dictionary\n",
    "\n",
    "# create a dictionary\n",
    "squares = {1: 1, 2: 4, 3: 9, 4: 16, 5: 25}\n",
    "\n",
    "# remove a particular item, returns its value\n",
    "# Output: 16\n",
    "print(squares.pop(4))\n",
    "\n",
    "# Output: {1: 1, 2: 4, 3: 9, 5: 25}\n",
    "print(squares)\n",
    "\n",
    "# remove an arbitrary item, return (key,value)\n",
    "# Output: (5, 25)\n",
    "print(squares.popitem())\n",
    "\n",
    "# Output: {1: 1, 2: 4, 3: 9}\n",
    "print(squares)\n",
    "\n",
    "# remove all items\n",
    "squares.clear()\n",
    "\n",
    "# Output: {}\n",
    "print(squares)\n",
    "\n",
    "# delete the dictionary itself\n",
    "del squares\n",
    "\n",
    "# Throws Error\n",
    "print(squares)"
   ]
  },
  {
   "cell_type": "markdown",
   "id": "616b8b5f-22e0-4c3d-9375-ff3d3d77d8a0",
   "metadata": {},
   "source": [
    "Return Value from clear()"
   ]
  },
  {
   "cell_type": "code",
   "execution_count": 13,
   "id": "58dda764-bb6a-4874-af30-3a003b909e0d",
   "metadata": {},
   "outputs": [
    {
     "name": "stdout",
     "output_type": "stream",
     "text": [
      "d = {}\n"
     ]
    }
   ],
   "source": [
    "d = {1: \"one\", 2: \"two\"}\n",
    "\n",
    "d.clear()\n",
    "print('d =', d)"
   ]
  },
  {
   "cell_type": "markdown",
   "id": "f7e10869-597f-41b8-ac30-780119e98c09",
   "metadata": {},
   "source": [
    "Python Dictionary copy()"
   ]
  },
  {
   "cell_type": "code",
   "execution_count": 14,
   "id": "f8e85a6e-2cce-4cfe-8989-43b26c4a685c",
   "metadata": {},
   "outputs": [
    {
     "name": "stdout",
     "output_type": "stream",
     "text": [
      "Original Marks: {'Physics': 67, 'Maths': 87}\n",
      "Copied Marks: {'Physics': 67, 'Maths': 87}\n"
     ]
    }
   ],
   "source": [
    "original_marks = {'Physics':67, 'Maths':87}\n",
    "\n",
    "copied_marks = original_marks.copy()\n",
    "\n",
    "\n",
    "print('Original Marks:', original_marks)\n",
    "print('Copied Marks:', copied_marks)\n",
    "\n",
    "# Output: Original Marks: {'Physics': 67, 'Maths': 87}\n",
    "#         Copied Marks: {'Physics': 67, 'Maths': 87}"
   ]
  },
  {
   "cell_type": "markdown",
   "id": "4a2e4f99-6c8e-4fd7-9966-6d0c390510c7",
   "metadata": {},
   "source": [
    "Create a dictionary from a sequence of keys"
   ]
  },
  {
   "cell_type": "code",
   "execution_count": 16,
   "id": "081d0ff7-ddad-4a69-a0a5-3f64d941f609",
   "metadata": {},
   "outputs": [
    {
     "name": "stdout",
     "output_type": "stream",
     "text": [
      "{'a': None, 'e': None, 'i': None, 'o': None, 'u': None}\n"
     ]
    }
   ],
   "source": [
    "# vowels keys\n",
    "keys = {'a':'r', 'e':'y', 'i':'i', 'o':'p', 'u':'w' }\n",
    "# keys = {\"salary\" : 100000}\n",
    "vowels = dict.fromkeys(keys)\n",
    "print(vowels)"
   ]
  },
  {
   "cell_type": "markdown",
   "id": "1d136132-1a28-4430-8466-c8781c9cb3ed",
   "metadata": {},
   "source": [
    "Create a dictionary from mutable object list"
   ]
  },
  {
   "cell_type": "code",
   "execution_count": 19,
   "id": "3eba7996-d031-4aa2-bcf7-bea15e475867",
   "metadata": {},
   "outputs": [
    {
     "name": "stdout",
     "output_type": "stream",
     "text": [
      "{'i': [1], 'o': [1], 'e': [1], 'u': [1], 'a': [1]}\n",
      "{'i': [2, 5], 'o': [1, 2], 'e': [1, 2], 'u': [1, 2], 'a': [1, 2]}\n"
     ]
    }
   ],
   "source": [
    "# vowels keys\n",
    "keys = {'a', 'e', 'i', 'o', 'u'}\n",
    "value = [1]\n",
    "\n",
    "vowels = dict.fromkeys(keys, value)\n",
    "print(vowels)\n",
    "vowels['i'] = [2,5]\n",
    "\n",
    "# updating the value\n",
    "value.append(2)\n",
    "print(vowels)"
   ]
  },
  {
   "cell_type": "markdown",
   "id": "376e4ba0-7ef1-4ea3-a95f-e0cde5c6a8ef",
   "metadata": {},
   "source": [
    "Python Dictionary get()"
   ]
  },
  {
   "cell_type": "code",
   "execution_count": 21,
   "id": "af0c923c-82d2-486e-a05c-8154e6995486",
   "metadata": {},
   "outputs": [
    {
     "name": "stdout",
     "output_type": "stream",
     "text": [
      "67\n",
      "67\n"
     ]
    }
   ],
   "source": [
    "marks = {'Physics':67, 'Maths':87}\n",
    "\n",
    "print(marks.get('Physics'))\n",
    "print(marks['Physics'])\n",
    "\n",
    "# Output: 67"
   ]
  },
  {
   "cell_type": "markdown",
   "id": "10761796-b88f-4bf8-a7fe-a2f84fb9f92a",
   "metadata": {},
   "source": [
    "Python get() method Vs dict[key] to Access Elements"
   ]
  },
  {
   "cell_type": "code",
   "execution_count": 19,
   "id": "b5c9deb9-ec7e-4494-ba75-4920c2f46f19",
   "metadata": {},
   "outputs": [
    {
     "name": "stdout",
     "output_type": "stream",
     "text": [
      "Salary:  100000\n",
      "100000\n"
     ]
    }
   ],
   "source": [
    "person = {\"salary\" : 100000}\n",
    "\n",
    "# Using get() results in None\n",
    "print('Salary: ', person.get('salary'))\n",
    "\n",
    "\n",
    "# Using [] results in KeyError\n",
    "print(person['salary'])"
   ]
  },
  {
   "cell_type": "markdown",
   "id": "584c6a20-5b1b-4cf0-bbe5-45a09fbd5382",
   "metadata": {},
   "source": [
    "Dictionary items()"
   ]
  },
  {
   "cell_type": "code",
   "execution_count": 20,
   "id": "cd7a3434-02d8-4d47-8264-0d03f57350ed",
   "metadata": {},
   "outputs": [
    {
     "name": "stdout",
     "output_type": "stream",
     "text": [
      "dict_items([('Physics', 67), ('Maths', 87)])\n"
     ]
    }
   ],
   "source": [
    "marks = {'Physics':67, 'Maths':87}\n",
    "\n",
    "print(marks.items())\n",
    "\n",
    "\n",
    "# Output: dict_items([('Physics', 67), ('Maths', 87)])"
   ]
  },
  {
   "cell_type": "markdown",
   "id": "fb5bd75a-21a6-4716-8d5b-27903b20eeef",
   "metadata": {},
   "source": [
    "Changing and Adding Dictionary elements"
   ]
  },
  {
   "cell_type": "code",
   "execution_count": 1,
   "id": "75cc13bc-bc49-4c03-ae6f-052c370b8b00",
   "metadata": {},
   "outputs": [
    {
     "name": "stdout",
     "output_type": "stream",
     "text": [
      "{'name': 'Jack', 'age': 27}\n",
      "{'name': 'Jack', 'age': 27, 'address': 'Downtown'}\n"
     ]
    }
   ],
   "source": [
    "# Changing and adding Dictionary Elements\n",
    "my_dict = {'name': 'Jack', 'age': 26}\n",
    "\n",
    "# update value\n",
    "my_dict['age'] = 27\n",
    "\n",
    "#Output: {'age': 27, 'name': 'Jack'}\n",
    "print(my_dict)\n",
    "\n",
    "# add item\n",
    "my_dict['address'] = 'Downtown'\n",
    "\n",
    "# Output: {'address': 'Downtown', 'age': 27, 'name': 'Jack'}\n",
    "print(my_dict)"
   ]
  },
  {
   "cell_type": "markdown",
   "id": "bcf03852-d356-4c02-b0b6-ec630702443c",
   "metadata": {},
   "source": [
    "Removing elements from Dictionary"
   ]
  },
  {
   "cell_type": "code",
   "execution_count": 2,
   "id": "d82647f4-877c-42ca-94c5-485d864cbd84",
   "metadata": {},
   "outputs": [
    {
     "name": "stdout",
     "output_type": "stream",
     "text": [
      "16\n",
      "{1: 1, 2: 4, 3: 9, 5: 25}\n",
      "(5, 25)\n",
      "{1: 1, 2: 4, 3: 9}\n",
      "{}\n"
     ]
    },
    {
     "ename": "NameError",
     "evalue": "name 'squares' is not defined",
     "output_type": "error",
     "traceback": [
      "\u001b[1;31m---------------------------------------------------------------------------\u001b[0m",
      "\u001b[1;31mNameError\u001b[0m                                 Traceback (most recent call last)",
      "\u001b[1;32m~\\AppData\\Local\\Temp/ipykernel_19160/1968832105.py\u001b[0m in \u001b[0;36m<module>\u001b[1;34m\u001b[0m\n\u001b[0;32m     28\u001b[0m \u001b[1;33m\u001b[0m\u001b[0m\n\u001b[0;32m     29\u001b[0m \u001b[1;31m# Throws Error\u001b[0m\u001b[1;33m\u001b[0m\u001b[1;33m\u001b[0m\u001b[1;33m\u001b[0m\u001b[0m\n\u001b[1;32m---> 30\u001b[1;33m \u001b[0mprint\u001b[0m\u001b[1;33m(\u001b[0m\u001b[0msquares\u001b[0m\u001b[1;33m)\u001b[0m\u001b[1;33m\u001b[0m\u001b[1;33m\u001b[0m\u001b[0m\n\u001b[0m",
      "\u001b[1;31mNameError\u001b[0m: name 'squares' is not defined"
     ]
    }
   ],
   "source": [
    "# Removing elements from a dictionary\n",
    "\n",
    "# create a dictionary\n",
    "squares = {1: 1, 2: 4, 3: 9, 4: 16, 5: 25}\n",
    "\n",
    "# remove a particular item, returns its value\n",
    "# Output: 16\n",
    "print(squares.pop(4))\n",
    "\n",
    "# Output: {1: 1, 2: 4, 3: 9, 5: 25}\n",
    "print(squares)\n",
    "\n",
    "# remove an arbitrary item, return (key,value)\n",
    "# Output: (5, 25)\n",
    "print(squares.popitem())\n",
    "\n",
    "# Output: {1: 1, 2: 4, 3: 9}\n",
    "print(squares)\n",
    "\n",
    "# remove all items\n",
    "squares.clear()\n",
    "\n",
    "# Output: {}\n",
    "print(squares)\n",
    "\n",
    "# delete the dictionary itself\n",
    "del squares\n",
    "\n",
    "# Throws Error\n",
    "print(squares)"
   ]
  },
  {
   "cell_type": "markdown",
   "id": "aa87e833-81f0-4a9c-9eb6-ddedee801512",
   "metadata": {},
   "source": [
    "Dictionary update()"
   ]
  },
  {
   "cell_type": "code",
   "execution_count": 3,
   "id": "dccf5930-1771-4883-9043-2a0895790f13",
   "metadata": {},
   "outputs": [
    {
     "name": "stdout",
     "output_type": "stream",
     "text": [
      "{'Physics': 67, 'Maths': 87, 'Practical': 48}\n"
     ]
    }
   ],
   "source": [
    "marks = {'Physics':67, 'Maths':87}\n",
    "internal_marks = {'Practical':48}\n",
    "\n",
    "marks.update(internal_marks)\n",
    "\n",
    "\n",
    "print(marks)\n",
    "\n",
    "# Output: {'Physics': 67, 'Maths': 87, 'Practical': 48}"
   ]
  },
  {
   "cell_type": "markdown",
   "id": "8f14bde9-f4d2-4db1-9303-dd32648880b9",
   "metadata": {},
   "source": [
    "Python program to get keys from the nested dictionary"
   ]
  },
  {
   "cell_type": "code",
   "execution_count": 24,
   "id": "10a62b12-03e1-4b69-9e58-c2d2c605775b",
   "metadata": {},
   "outputs": [
    {
     "name": "stdout",
     "output_type": "stream",
     "text": [
      "dict_values(['Bobby', 1, 20])\n",
      "dict_values(['ojaswi', 2, 22])\n",
      "dict_values(['rohith', 3, 20])\n"
     ]
    }
   ],
   "source": [
    "# create a nested dictionary with 3 fields of 3 students\n",
    "data = {\n",
    "\t'Student 1': {'Name': 'Bobby', 'Id': 1, \"Age\": 20},\n",
    "\t'Student 2': {'Name': 'ojaswi', 'Id': 2, \"Age\": 22},\n",
    "\t'Student 3': {'Name': 'rohith', 'Id': 3, \"Age\": 20},\n",
    "}\n",
    "\n",
    "\n",
    "# iterate all the nested dictionaries with keys\n",
    "for i in data:\n",
    "# display\n",
    "    print(data[i].values())"
   ]
  },
  {
   "cell_type": "markdown",
   "id": "396ce9a3-33eb-4105-9a6f-fe243759e739",
   "metadata": {},
   "source": [
    "Iterate Nested Dictionery in python"
   ]
  },
  {
   "cell_type": "code",
   "execution_count": 27,
   "id": "2f00fd6f-e20a-4ab6-9195-2f417b7729e0",
   "metadata": {},
   "outputs": [
    {
     "name": "stdout",
     "output_type": "stream",
     "text": [
      "234\n",
      "32\n",
      "44\n",
      "33\n",
      "334\n",
      "61\n"
     ]
    }
   ],
   "source": [
    "def getPLU(data):\n",
    "    for item in data:\n",
    "        if type(data[item]) == dict:\n",
    "            getPLU(data[item])\n",
    "        else :\n",
    "            if item == 'PLU':\n",
    "                print (data[item])\n",
    "\n",
    "    pass\n",
    "\n",
    "def Main():\n",
    "    times = 0\n",
    "    Menu = {\n",
    "      'PLU' : '234',\n",
    "      'Salad': {\n",
    "        'salad': {\n",
    "            'ceaser':{\n",
    "                'PLU': '32'\n",
    "            },\n",
    "            'test':{\n",
    "                'PLU':44\n",
    "            },\n",
    "            'italian':{\n",
    "                'PLU': '33'\n",
    "            }\n",
    "        }\n",
    "      },\n",
    "      'Dessert': {\n",
    "        'cookie': {\n",
    "          'PLU': '334',\n",
    "          'NAME': 'cookie ',\n",
    "        }\n",
    "      },\n",
    "      'Appetizer': {\n",
    "        'extra sauce': {\n",
    "          'PLU': '61',\n",
    "          'NAME': 'extra sauce',\n",
    "        }\n",
    "      }\n",
    "    }\n",
    "    getPLU(data=Menu)\n",
    "    #print (getPLU(Menu))\n",
    "\n",
    "\n",
    "\n",
    "if __name__ == '__main__':\n",
    "    Main()"
   ]
  },
  {
   "cell_type": "code",
   "execution_count": null,
   "id": "5740f092-c83a-4f56-a038-aa7190953562",
   "metadata": {},
   "outputs": [],
   "source": []
  }
 ],
 "metadata": {
  "kernelspec": {
   "display_name": "Python 3 (ipykernel)",
   "language": "python",
   "name": "python3"
  },
  "language_info": {
   "codemirror_mode": {
    "name": "ipython",
    "version": 3
   },
   "file_extension": ".py",
   "mimetype": "text/x-python",
   "name": "python",
   "nbconvert_exporter": "python",
   "pygments_lexer": "ipython3",
   "version": "3.9.6"
  }
 },
 "nbformat": 4,
 "nbformat_minor": 5
}
