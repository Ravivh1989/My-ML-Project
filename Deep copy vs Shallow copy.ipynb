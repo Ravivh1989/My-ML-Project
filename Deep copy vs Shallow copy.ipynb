{
 "cells": [
  {
   "cell_type": "markdown",
   "id": "5cc584f8-877e-4d2b-94cf-4ce02ba92655",
   "metadata": {},
   "source": [
    "Deepcopy\n"
   ]
  },
  {
   "cell_type": "code",
   "execution_count": 2,
   "id": "fb24834e-3eaa-4bfd-a118-beb2dc763090",
   "metadata": {},
   "outputs": [
    {
     "name": "stdout",
     "output_type": "stream",
     "text": [
      "The original elements before deep copying\n",
      "1 2 [3, 5] 4 \n",
      "The new list of elements after deep copying \n",
      "1 2 [7, 5] 4 \n",
      "The original elements after deep copying\n",
      "1 2 [3, 5] 4 "
     ]
    }
   ],
   "source": [
    "# Python code to demonstrate copy operations\n",
    "\n",
    "# importing \"copy\" for copy operations\n",
    "import copy\n",
    "\n",
    "# initializing list 1\n",
    "li1 = [1, 2, [3,5], 4]\n",
    "\n",
    "# using deepcopy to deep copy\n",
    "li2 = copy.deepcopy(li1)\n",
    "\n",
    "# original elements of list\n",
    "print (\"The original elements before deep copying\")\n",
    "for i in range(0,len(li1)):\n",
    "\tprint (li1[i],end=\" \")\n",
    "\n",
    "print(\"\\r\")\n",
    "\n",
    "# adding and element to new list\n",
    "li2[2][0] = 7\n",
    "\n",
    "# Change is reflected in l2\n",
    "print (\"The new list of elements after deep copying \")\n",
    "for i in range(0,len( li1)):\n",
    "\tprint (li2[i],end=\" \")\n",
    "\n",
    "print(\"\\r\")\n",
    "\n",
    "# Change is NOT reflected in original list\n",
    "# as it is a deep copy\n",
    "print (\"The original elements after deep copying\")\n",
    "for i in range(0,len( li1)):\n",
    "\tprint (li1[i],end=\" \")\n"
   ]
  },
  {
   "cell_type": "markdown",
   "id": "19325089-6fa9-42fd-9cb7-01b5556483e8",
   "metadata": {},
   "source": [
    "Shallow copy"
   ]
  },
  {
   "cell_type": "code",
   "execution_count": 3,
   "id": "1061607a-c02c-4e2f-8e43-17c563d3a068",
   "metadata": {},
   "outputs": [
    {
     "name": "stdout",
     "output_type": "stream",
     "text": [
      "The original elements before shallow copying\n",
      "1 2 [3, 5] 4 \n",
      "The original elements after shallow copying\n",
      "1 2 [7, 5] 4 "
     ]
    }
   ],
   "source": [
    "# Python code to demonstrate copy operations\n",
    "\n",
    "# importing \"copy\" for copy operations\n",
    "import copy\n",
    "\n",
    "# initializing list 1\n",
    "li1 = [1, 2, [3,5], 4]\n",
    "\n",
    "# using copy to shallow copy\n",
    "li2 = copy.copy(li1)\n",
    "\n",
    "# original elements of list\n",
    "print (\"The original elements before shallow copying\")\n",
    "for i in range(0,len(li1)):\n",
    "\tprint (li1[i],end=\" \")\n",
    "\n",
    "print(\"\\r\")\n",
    "\n",
    "# adding and element to new list\n",
    "li2[2][0] = 7\n",
    "\n",
    "# checking if change is reflected\n",
    "print (\"The original elements after shallow copying\")\n",
    "for i in range(0,len( li1)):\n",
    "\tprint (li1[i],end=\" \")\n"
   ]
  },
  {
   "cell_type": "code",
   "execution_count": null,
   "id": "aefd428d-ff46-43bf-baa4-1c38531a5dab",
   "metadata": {},
   "outputs": [],
   "source": []
  }
 ],
 "metadata": {
  "kernelspec": {
   "display_name": "Python 3 (ipykernel)",
   "language": "python",
   "name": "python3"
  },
  "language_info": {
   "codemirror_mode": {
    "name": "ipython",
    "version": 3
   },
   "file_extension": ".py",
   "mimetype": "text/x-python",
   "name": "python",
   "nbconvert_exporter": "python",
   "pygments_lexer": "ipython3",
   "version": "3.9.6"
  }
 },
 "nbformat": 4,
 "nbformat_minor": 5
}
