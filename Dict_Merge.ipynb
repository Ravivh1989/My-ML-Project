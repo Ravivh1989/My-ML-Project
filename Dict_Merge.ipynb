{
 "cells": [
  {
   "cell_type": "markdown",
   "id": "044440ca-28cf-4b84-a0d4-389dcbfb1baf",
   "metadata": {},
   "source": [
    "Python | Merging two Dictionaries"
   ]
  },
  {
   "cell_type": "code",
   "execution_count": 1,
   "id": "8c3a62ec-6b81-49b9-b5b9-01123fe15ced",
   "metadata": {},
   "outputs": [
    {
     "name": "stdout",
     "output_type": "stream",
     "text": [
      "None\n",
      "{'d': 6, 'c': 4, 'a': 10, 'b': 8}\n"
     ]
    }
   ],
   "source": [
    "# Python code to merge dict using update() method\n",
    "def Merge(dict1, dict2):\n",
    "\treturn(dict2.update(dict1))\n",
    "\t\n",
    "# Driver code\n",
    "dict1 = {'a': 10, 'b': 8}\n",
    "dict2 = {'d': 6, 'c': 4}\n",
    "\n",
    "# This return None\n",
    "print(Merge(dict1, dict2))\n",
    "\n",
    "# changes made in dict2\n",
    "print(dict2)\n"
   ]
  },
  {
   "cell_type": "code",
   "execution_count": 2,
   "id": "a58781a6-8edc-4c14-b94f-6d9d4fcbbed7",
   "metadata": {},
   "outputs": [
    {
     "name": "stdout",
     "output_type": "stream",
     "text": [
      "{'a': 10, 'b': 8, 'd': 6, 'c': 4}\n"
     ]
    }
   ],
   "source": [
    "# Python code to merge dict using a single\n",
    "# expression\n",
    "def Merge(dict1, dict2):\n",
    "\tres = {**dict1, **dict2}\n",
    "\treturn res\n",
    "\t\n",
    "# Driver code\n",
    "dict1 = {'a': 10, 'b': 8}\n",
    "dict2 = {'d': 6, 'c': 4}\n",
    "dict3 = Merge(dict1, dict2)\n",
    "print(dict3)\n"
   ]
  },
  {
   "cell_type": "code",
   "execution_count": 3,
   "id": "fbe8ad16-0fc4-4555-accf-1b228f47a583",
   "metadata": {},
   "outputs": [
    {
     "name": "stdout",
     "output_type": "stream",
     "text": [
      "{'x': 10, 'y': 8, 'a': 6, 'b': 4}\n"
     ]
    }
   ],
   "source": [
    "# code\n",
    "# Python code to merge dict using a single\n",
    "# expression\n",
    "def Merge(dict1, dict2):\n",
    "\tres = dict1 | dict2\n",
    "\treturn res\n",
    "\t\n",
    "# Driver code\n",
    "dict1 = {'x': 10, 'y': 8}\n",
    "dict2 = {'a': 6, 'b': 4}\n",
    "dict3 = Merge(dict1, dict2)\n",
    "print(dict3)\n",
    "\n",
    "# This code is contributed by virentanti16\n"
   ]
  },
  {
   "cell_type": "markdown",
   "id": "cfdb3176-6a1c-4c60-9525-60f9c3e1028a",
   "metadata": {},
   "source": [
    "Python | Combine the values of two dictionaries having same key"
   ]
  },
  {
   "cell_type": "code",
   "execution_count": 4,
   "id": "8252354c-d7eb-4982-bc8f-6ca5f04c0d36",
   "metadata": {},
   "outputs": [
    {
     "name": "stdout",
     "output_type": "stream",
     "text": [
      "initial 1st dictionary Counter({'akshat': 15, 'manjeet': 10, 'akash': 5, 'nikhil': 1})\n",
      "initial 2nd dictionary Counter({'m': 15, 'akash': 7, 'akshat': 5})\n",
      "final dictionary Counter({'akshat': 20, 'm': 15, 'akash': 12, 'manjeet': 10, 'nikhil': 1})\n"
     ]
    }
   ],
   "source": [
    "# Python code to demonstrate combining\n",
    "# two dictionaries having same key\n",
    "\n",
    "from collections import Counter\n",
    "\n",
    "# initialising dictionaries\n",
    "ini_dictionary1 = Counter({'nikhil': 1, 'akash' : 5,\n",
    "\t\t\t\t\t'manjeet' : 10, 'akshat' : 15})\n",
    "ini_dictionary2 = Counter({'akash' : 7, 'akshat' : 5,\n",
    "\t\t\t\t\t\t\t\t\t\t'm' : 15})\n",
    "\n",
    "# printing initial dictionaries\n",
    "print (\"initial 1st dictionary\", str(ini_dictionary1))\n",
    "print (\"initial 2nd dictionary\", str(ini_dictionary2))\n",
    "\n",
    "# combining dictionaries\n",
    "# using Counter\n",
    "final_dictionary = ini_dictionary1 + ini_dictionary2\n",
    "\n",
    "# printing final result\n",
    "print (\"final dictionary\", str(final_dictionary))\n"
   ]
  },
  {
   "cell_type": "markdown",
   "id": "5f0e8bdf-78b4-485c-9123-4e77faef4b24",
   "metadata": {},
   "source": [
    "Python | Get values of particular key in list of dictionaries"
   ]
  },
  {
   "cell_type": "code",
   "execution_count": 6,
   "id": "c1f65e10-9199-4415-8340-9a346cd869af",
   "metadata": {},
   "outputs": [
    {
     "name": "stdout",
     "output_type": "stream",
     "text": [
      "The original list is : [{'gfg': 1, 'is': 2, 'good': 3}, {'gfg': 2}, {'best': 3, 'gfg': 4}]\n",
      "The values corresponding to key : [1, 2, 4]\n"
     ]
    }
   ],
   "source": [
    "# Python3 code to demonstrate working of\n",
    "# Get values of particular key in list of dictionaries\n",
    "# Using list comprehension\n",
    "\n",
    "# initializing list\n",
    "test_list = [{'gfg' : 1, 'is' : 2, 'good' : 3},\n",
    "\t\t\t{'gfg' : 2}, {'best' : 3, 'gfg' : 4}]\n",
    "\n",
    "# printing original list\n",
    "print(\"The original list is : \" + str(test_list))\n",
    "\n",
    "# Using list comprehension\n",
    "# Get values of particular key in list of dictionaries\n",
    "res = [ sub['gfg'] for sub in test_list ]\n",
    "\n",
    "# printing result\n",
    "print(\"The values corresponding to key : \" + str(res))\n"
   ]
  },
  {
   "cell_type": "code",
   "execution_count": null,
   "id": "e9f42594-b788-4537-9950-ceccb45f27a1",
   "metadata": {},
   "outputs": [],
   "source": []
  }
 ],
 "metadata": {
  "kernelspec": {
   "display_name": "Python 3 (ipykernel)",
   "language": "python",
   "name": "python3"
  },
  "language_info": {
   "codemirror_mode": {
    "name": "ipython",
    "version": 3
   },
   "file_extension": ".py",
   "mimetype": "text/x-python",
   "name": "python",
   "nbconvert_exporter": "python",
   "pygments_lexer": "ipython3",
   "version": "3.9.6"
  }
 },
 "nbformat": 4,
 "nbformat_minor": 5
}
